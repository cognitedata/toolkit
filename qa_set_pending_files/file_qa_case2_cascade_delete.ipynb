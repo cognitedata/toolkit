{
 "cells": [
  {
   "cell_type": "code",
   "id": "5ff2d657aebfd8a",
   "metadata": {
    "ExecuteTime": {
     "end_time": "2025-07-28T11:13:23.580933Z",
     "start_time": "2025-07-28T11:13:23.579183Z"
    }
   },
   "source": [],
   "outputs": [],
   "execution_count": null
  },
  {
   "cell_type": "code",
   "id": "2ef55984df2966df",
   "metadata": {
    "ExecuteTime": {
     "end_time": "2025-07-28T11:13:24.702200Z",
     "start_time": "2025-07-28T11:13:23.722270Z"
    }
   },
   "source": [
    "from cognite.client.data_classes import FileMetadataWrite\n",
    "from cognite.client.data_classes.data_modeling import SpaceApply\n",
    "from cognite.client.data_classes.data_modeling.cdm.v1 import CogniteFileApply\n",
    "from cognite.client.exceptions import CogniteException\n",
    "from IPython.display import display\n",
    "\n",
    "from tests.auth_utils import get_toolkit_client"
   ],
   "outputs": [],
   "execution_count": 1
  },
  {
   "cell_type": "code",
   "id": "e499bb927d3fe40e",
   "metadata": {
    "ExecuteTime": {
     "end_time": "2025-07-28T11:13:24.762829Z",
     "start_time": "2025-07-28T11:13:24.717719Z"
    }
   },
   "source": [
    "client = get_toolkit_client(\"dev-cluster.env\", enable_set_pending_ids=True)"
   ],
   "outputs": [
    {
     "name": "stdout",
     "output_type": "stream",
     "text": [
      "Found dev-cluster.env file in repository root. Loaded variables from dev-cluster.env file.\n"
     ]
    }
   ],
   "execution_count": 2
  },
  {
   "cell_type": "code",
   "id": "40fff2e4ab0a22d6",
   "metadata": {
    "ExecuteTime": {
     "end_time": "2025-07-28T11:13:24.791537Z",
     "start_time": "2025-07-28T11:13:24.788879Z"
    }
   },
   "source": [
    "SPACE = \"sp_upgrade\""
   ],
   "outputs": [],
   "execution_count": 3
  },
  {
   "cell_type": "code",
   "id": "166a8298068e5971",
   "metadata": {
    "ExecuteTime": {
     "end_time": "2025-07-28T11:13:25.754908Z",
     "start_time": "2025-07-28T11:13:24.805251Z"
    }
   },
   "source": [
    "client.data_modeling.spaces.apply(SpaceApply(space=SPACE))"
   ],
   "outputs": [
    {
     "data": {
      "text/plain": [
       "<Space(space='sp_upgrade') at 0x21f9d86f770>"
      ],
      "text/html": [
       "<div>\n",
       "<style scoped>\n",
       "    .dataframe tbody tr th:only-of-type {\n",
       "        vertical-align: middle;\n",
       "    }\n",
       "\n",
       "    .dataframe tbody tr th {\n",
       "        vertical-align: top;\n",
       "    }\n",
       "\n",
       "    .dataframe thead th {\n",
       "        text-align: right;\n",
       "    }\n",
       "</style>\n",
       "<table border=\"1\" class=\"dataframe\">\n",
       "  <thead>\n",
       "    <tr style=\"text-align: right;\">\n",
       "      <th></th>\n",
       "      <th>value</th>\n",
       "    </tr>\n",
       "  </thead>\n",
       "  <tbody>\n",
       "    <tr>\n",
       "      <th>space</th>\n",
       "      <td>sp_upgrade</td>\n",
       "    </tr>\n",
       "    <tr>\n",
       "      <th>is_global</th>\n",
       "      <td>False</td>\n",
       "    </tr>\n",
       "    <tr>\n",
       "      <th>last_updated_time</th>\n",
       "      <td>2025-07-04 09:38:40.297000</td>\n",
       "    </tr>\n",
       "    <tr>\n",
       "      <th>created_time</th>\n",
       "      <td>2025-07-04 09:38:40.297000</td>\n",
       "    </tr>\n",
       "  </tbody>\n",
       "</table>\n",
       "</div>"
      ]
     },
     "execution_count": 4,
     "metadata": {},
     "output_type": "execute_result"
    }
   ],
   "execution_count": 4
  },
  {
   "cell_type": "markdown",
   "id": "95f3efc7e7a190f9",
   "metadata": {},
   "source": [
    "# Cascading Delete"
   ]
  },
  {
   "cell_type": "code",
   "id": "6ec771318a5c3895",
   "metadata": {
    "ExecuteTime": {
     "end_time": "2025-07-28T11:13:25.780300Z",
     "start_time": "2025-07-28T11:13:25.777986Z"
    }
   },
   "source": [
    "file = FileMetadataWrite(\n",
    "    external_id=\"ts_case2_cascading_delete\",\n",
    "    name=\"Case 2 Cascading Delete\",\n",
    ")"
   ],
   "outputs": [],
   "execution_count": 5
  },
  {
   "cell_type": "code",
   "id": "5774f75d2ad649cf",
   "metadata": {
    "ExecuteTime": {
     "end_time": "2025-07-28T11:13:25.899500Z",
     "start_time": "2025-07-28T11:13:25.859139Z"
    }
   },
   "source": [
    "# Ensure the file does not exist before running the test\n",
    "client.files.delete(external_id=file.external_id, ignore_unknown_ids=True)"
   ],
   "outputs": [],
   "execution_count": 6
  },
  {
   "cell_type": "code",
   "id": "c0a8f52a8d2f4064",
   "metadata": {
    "ExecuteTime": {
     "end_time": "2025-07-28T11:13:26.368922Z",
     "start_time": "2025-07-28T11:13:26.298758Z"
    }
   },
   "source": [
    "created, _ = client.files.create(file)\n",
    "created"
   ],
   "outputs": [
    {
     "data": {
      "text/plain": [
       "<cognite.client.data_classes.files.FileMetadata at 0x21feae01d30>"
      ],
      "text/html": [
       "<div>\n",
       "<style scoped>\n",
       "    .dataframe tbody tr th:only-of-type {\n",
       "        vertical-align: middle;\n",
       "    }\n",
       "\n",
       "    .dataframe tbody tr th {\n",
       "        vertical-align: top;\n",
       "    }\n",
       "\n",
       "    .dataframe thead th {\n",
       "        text-align: right;\n",
       "    }\n",
       "</style>\n",
       "<table border=\"1\" class=\"dataframe\">\n",
       "  <thead>\n",
       "    <tr style=\"text-align: right;\">\n",
       "      <th></th>\n",
       "      <th>value</th>\n",
       "    </tr>\n",
       "  </thead>\n",
       "  <tbody>\n",
       "    <tr>\n",
       "      <th>external_id</th>\n",
       "      <td>ts_case2_cascading_delete</td>\n",
       "    </tr>\n",
       "    <tr>\n",
       "      <th>name</th>\n",
       "      <td>Case 2 Cascading Delete</td>\n",
       "    </tr>\n",
       "    <tr>\n",
       "      <th>labels</th>\n",
       "      <td>[]</td>\n",
       "    </tr>\n",
       "    <tr>\n",
       "      <th>id</th>\n",
       "      <td>8414271863604964</td>\n",
       "    </tr>\n",
       "    <tr>\n",
       "      <th>created_time</th>\n",
       "      <td>2025-07-28 11:13:26.982000</td>\n",
       "    </tr>\n",
       "    <tr>\n",
       "      <th>last_updated_time</th>\n",
       "      <td>2025-07-28 11:13:26.982000</td>\n",
       "    </tr>\n",
       "    <tr>\n",
       "      <th>uploaded</th>\n",
       "      <td>False</td>\n",
       "    </tr>\n",
       "  </tbody>\n",
       "</table>\n",
       "</div>"
      ]
     },
     "execution_count": 7,
     "metadata": {},
     "output_type": "execute_result"
    }
   ],
   "execution_count": 7
  },
  {
   "cell_type": "code",
   "id": "19a2b0552800d5f2",
   "metadata": {
    "ExecuteTime": {
     "end_time": "2025-07-28T11:13:29.342069Z",
     "start_time": "2025-07-28T11:13:29.339845Z"
    }
   },
   "source": [
    "filecontent = b\"This is filecontent\""
   ],
   "outputs": [],
   "execution_count": 8
  },
  {
   "cell_type": "code",
   "id": "250932da6cd2f745",
   "metadata": {
    "ExecuteTime": {
     "end_time": "2025-07-28T11:13:30.572688Z",
     "start_time": "2025-07-28T11:13:30.438632Z"
    }
   },
   "source": [
    "client.files.upload_content_bytes(filecontent, external_id=created.external_id)"
   ],
   "outputs": [
    {
     "data": {
      "text/plain": [
       "<cognite.client.data_classes.files.FileMetadata at 0x21f9d8a07d0>"
      ],
      "text/html": [
       "<div>\n",
       "<style scoped>\n",
       "    .dataframe tbody tr th:only-of-type {\n",
       "        vertical-align: middle;\n",
       "    }\n",
       "\n",
       "    .dataframe tbody tr th {\n",
       "        vertical-align: top;\n",
       "    }\n",
       "\n",
       "    .dataframe thead th {\n",
       "        text-align: right;\n",
       "    }\n",
       "</style>\n",
       "<table border=\"1\" class=\"dataframe\">\n",
       "  <thead>\n",
       "    <tr style=\"text-align: right;\">\n",
       "      <th></th>\n",
       "      <th>value</th>\n",
       "    </tr>\n",
       "  </thead>\n",
       "  <tbody>\n",
       "    <tr>\n",
       "      <th>external_id</th>\n",
       "      <td>ts_case2_cascading_delete</td>\n",
       "    </tr>\n",
       "    <tr>\n",
       "      <th>name</th>\n",
       "      <td>Case 2 Cascading Delete</td>\n",
       "    </tr>\n",
       "    <tr>\n",
       "      <th>id</th>\n",
       "      <td>8414271863604964</td>\n",
       "    </tr>\n",
       "    <tr>\n",
       "      <th>created_time</th>\n",
       "      <td>2025-07-28 11:13:26.982000</td>\n",
       "    </tr>\n",
       "    <tr>\n",
       "      <th>last_updated_time</th>\n",
       "      <td>2025-07-28 11:13:26.982000</td>\n",
       "    </tr>\n",
       "    <tr>\n",
       "      <th>uploaded</th>\n",
       "      <td>False</td>\n",
       "    </tr>\n",
       "  </tbody>\n",
       "</table>\n",
       "</div>"
      ]
     },
     "execution_count": 9,
     "metadata": {},
     "output_type": "execute_result"
    }
   ],
   "execution_count": 9
  },
  {
   "cell_type": "code",
   "id": "e311150317673f22",
   "metadata": {
    "ExecuteTime": {
     "end_time": "2025-07-28T11:13:31.637351Z",
     "start_time": "2025-07-28T11:13:31.559653Z"
    }
   },
   "source": [
    "try:\n",
    "    updated = client.files.set_pending_ids((SPACE, file.external_id), external_id=file.external_id)\n",
    "except CogniteException as e:\n",
    "    print(f\"\\033[91mError\\033[0m {e.code} {e.message!s}\")\n",
    "else:\n",
    "    display(updated)"
   ],
   "outputs": [
    {
     "data": {
      "text/plain": [
       "<cognite_toolkit._cdf_tk.client.data_classes.extended_filemetadata.ExtendedFileMetadata at 0x21f9d8670e0>"
      ],
      "text/html": [
       "<div>\n",
       "<style scoped>\n",
       "    .dataframe tbody tr th:only-of-type {\n",
       "        vertical-align: middle;\n",
       "    }\n",
       "\n",
       "    .dataframe tbody tr th {\n",
       "        vertical-align: top;\n",
       "    }\n",
       "\n",
       "    .dataframe thead th {\n",
       "        text-align: right;\n",
       "    }\n",
       "</style>\n",
       "<table border=\"1\" class=\"dataframe\">\n",
       "  <thead>\n",
       "    <tr style=\"text-align: right;\">\n",
       "      <th></th>\n",
       "      <th>value</th>\n",
       "    </tr>\n",
       "  </thead>\n",
       "  <tbody>\n",
       "    <tr>\n",
       "      <th>external_id</th>\n",
       "      <td>ts_case2_cascading_delete</td>\n",
       "    </tr>\n",
       "    <tr>\n",
       "      <th>name</th>\n",
       "      <td>Case 2 Cascading Delete</td>\n",
       "    </tr>\n",
       "    <tr>\n",
       "      <th>id</th>\n",
       "      <td>8414271863604964</td>\n",
       "    </tr>\n",
       "    <tr>\n",
       "      <th>created_time</th>\n",
       "      <td>2025-07-28 11:13:26.982000</td>\n",
       "    </tr>\n",
       "    <tr>\n",
       "      <th>last_updated_time</th>\n",
       "      <td>2025-07-28 11:13:32.259000</td>\n",
       "    </tr>\n",
       "    <tr>\n",
       "      <th>uploaded</th>\n",
       "      <td>True</td>\n",
       "    </tr>\n",
       "    <tr>\n",
       "      <th>uploaded_time</th>\n",
       "      <td>2025-07-28 11:13:31.198000</td>\n",
       "    </tr>\n",
       "    <tr>\n",
       "      <th>pending_instance_id</th>\n",
       "      <td>{'space': 'sp_upgrade', 'external_id': 'ts_cas...</td>\n",
       "    </tr>\n",
       "  </tbody>\n",
       "</table>\n",
       "</div>"
      ]
     },
     "metadata": {},
     "output_type": "display_data"
    }
   ],
   "execution_count": 10
  },
  {
   "cell_type": "code",
   "id": "195a59de0167a36c",
   "metadata": {
    "ExecuteTime": {
     "end_time": "2025-07-28T11:13:32.337465Z",
     "start_time": "2025-07-28T11:13:32.334381Z"
    }
   },
   "source": [
    "cognite_file = CogniteFileApply(\n",
    "    space=SPACE,\n",
    "    external_id=file.external_id,\n",
    "    name=file.name,\n",
    ")"
   ],
   "outputs": [],
   "execution_count": 11
  },
  {
   "cell_type": "code",
   "id": "b3849ffa85788f0b",
   "metadata": {
    "ExecuteTime": {
     "end_time": "2025-07-28T11:13:33.236963Z",
     "start_time": "2025-07-28T11:13:33.020789Z"
    }
   },
   "source": [
    "created_dm = client.data_modeling.instances.apply(cognite_file).nodes\n",
    "created_dm"
   ],
   "outputs": [
    {
     "data": {
      "text/plain": [
       "NodeApplyResultList([<NodeApplyResult(space='sp_upgrade', external_id='ts_case2_cascading_delete', version=1) at 0x21f9d867230>])"
      ],
      "text/html": [
       "<div>\n",
       "<style scoped>\n",
       "    .dataframe tbody tr th:only-of-type {\n",
       "        vertical-align: middle;\n",
       "    }\n",
       "\n",
       "    .dataframe tbody tr th {\n",
       "        vertical-align: top;\n",
       "    }\n",
       "\n",
       "    .dataframe thead th {\n",
       "        text-align: right;\n",
       "    }\n",
       "</style>\n",
       "<table border=\"1\" class=\"dataframe\">\n",
       "  <thead>\n",
       "    <tr style=\"text-align: right;\">\n",
       "      <th></th>\n",
       "      <th>space</th>\n",
       "      <th>instance_type</th>\n",
       "      <th>external_id</th>\n",
       "      <th>version</th>\n",
       "      <th>was_modified</th>\n",
       "      <th>last_updated_time</th>\n",
       "      <th>created_time</th>\n",
       "    </tr>\n",
       "  </thead>\n",
       "  <tbody>\n",
       "    <tr>\n",
       "      <th>0</th>\n",
       "      <td>sp_upgrade</td>\n",
       "      <td>node</td>\n",
       "      <td>ts_case2_cascading_delete</td>\n",
       "      <td>1</td>\n",
       "      <td>True</td>\n",
       "      <td>2025-07-28 11:13:33.799</td>\n",
       "      <td>2025-07-28 11:13:33.799</td>\n",
       "    </tr>\n",
       "  </tbody>\n",
       "</table>\n",
       "</div>"
      ]
     },
     "execution_count": 12,
     "metadata": {},
     "output_type": "execute_result"
    }
   ],
   "execution_count": 12
  },
  {
   "cell_type": "code",
   "id": "16f70e74c07031fb",
   "metadata": {
    "ExecuteTime": {
     "end_time": "2025-07-28T11:13:33.949372Z",
     "start_time": "2025-07-28T11:13:33.885796Z"
    }
   },
   "source": [
    "try:\n",
    "    client.files.delete(external_id=file.external_id)\n",
    "except CogniteException as e:\n",
    "    print(f\"\\033[91mError\\033[0m {e.code} {e.message!s}\")\n",
    "else:\n",
    "    print(\"\\033[92mFile deleted successfully\\033[0m\")"
   ],
   "outputs": [
    {
     "name": "stdout",
     "output_type": "stream",
     "text": [
      "\u001B[91mError\u001B[0m 403 Resource not found. This may also be due to insufficient access rights.\n"
     ]
    }
   ],
   "execution_count": 13
  },
  {
   "cell_type": "code",
   "id": "effcedc30d2c9b8b",
   "metadata": {
    "ExecuteTime": {
     "end_time": "2025-07-28T11:13:36.168717Z",
     "start_time": "2025-07-28T11:13:36.082413Z"
    }
   },
   "source": [
    "deleted = client.data_modeling.instances.delete(cognite_file.as_id()).nodes\n",
    "deleted"
   ],
   "outputs": [
    {
     "data": {
      "text/plain": [
       "[NodeId(space='sp_upgrade', external_id='ts_case2_cascading_delete')]"
      ]
     },
     "execution_count": 14,
     "metadata": {},
     "output_type": "execute_result"
    }
   ],
   "execution_count": 14
  },
  {
   "cell_type": "code",
   "id": "e0a8b108cb19c4f3",
   "metadata": {
    "ExecuteTime": {
     "end_time": "2025-07-28T11:13:37.458270Z",
     "start_time": "2025-07-28T11:13:37.420454Z"
    }
   },
   "source": [
    "try:\n",
    "    client.files.retrieve_multiple(external_ids=[file.external_id])\n",
    "except CogniteException as e:\n",
    "    print(f\"\\033[91mError\\033[0m {e!s}\")\n",
    "else:\n",
    "    print(\"\\033[92mFile  still exists\\033[0m\")"
   ],
   "outputs": [
    {
     "name": "stdout",
     "output_type": "stream",
     "text": [
      "\u001B[91mError\u001B[0m Not found: [{'externalId': 'ts_case2_cascading_delete'}]\n",
      "The API Failed to process some items.\n",
      "Successful (2xx): []\n",
      "Unknown (5xx): []\n",
      "Failed (4xx): [{'externalId': 'ts_case2_cascading_delete'}, ...]\n"
     ]
    }
   ],
   "execution_count": 15
  },
  {
   "cell_type": "code",
   "execution_count": null,
   "id": "b65a5b0a7c960766",
   "metadata": {},
   "outputs": [],
   "source": []
  }
 ],
 "metadata": {
  "kernelspec": {
   "display_name": "Python 3 (ipykernel)",
   "language": "python",
   "name": "python3"
  },
  "language_info": {
   "codemirror_mode": {
    "name": "ipython",
    "version": 3
   },
   "file_extension": ".py",
   "mimetype": "text/x-python",
   "name": "python",
   "nbconvert_exporter": "python",
   "pygments_lexer": "ipython3",
   "version": "3.12.1"
  }
 },
 "nbformat": 4,
 "nbformat_minor": 5
}
