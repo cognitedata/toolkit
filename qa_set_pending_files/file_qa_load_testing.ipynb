{
 "cells": [
  {
   "cell_type": "code",
   "execution_count": 1,
   "id": "initial_id",
   "metadata": {
    "ExecuteTime": {
     "end_time": "2025-07-10T06:57:49.021008Z",
     "start_time": "2025-07-10T06:57:47.911927Z"
    },
    "collapsed": true,
    "jupyter": {
     "outputs_hidden": true
    }
   },
   "outputs": [],
   "source": [
    "from tests.auth_utils import get_toolkit_client"
   ]
  },
  {
   "cell_type": "code",
   "execution_count": 2,
   "id": "d1876c38f818028b",
   "metadata": {
    "ExecuteTime": {
     "end_time": "2025-07-10T06:57:49.619535Z",
     "start_time": "2025-07-10T06:57:49.611156Z"
    }
   },
   "outputs": [],
   "source": [
    "import time\n",
    "from dataclasses import dataclass\n",
    "\n",
    "from cognite.client.data_classes import FileMetadataList, FileMetadataWrite\n",
    "from cognite.client.data_classes.data_modeling import NodeId, SpaceApply\n",
    "from cognite.client.data_classes.data_modeling.cdm.v1 import CogniteFileApply\n",
    "\n",
    "from cognite_toolkit._cdf_tk.client.data_classes.pending_instances_ids import PendingInstanceId"
   ]
  },
  {
   "cell_type": "code",
   "execution_count": 3,
   "id": "165337532a76f8ea",
   "metadata": {
    "ExecuteTime": {
     "end_time": "2025-07-10T06:57:49.708309Z",
     "start_time": "2025-07-10T06:57:49.668005Z"
    }
   },
   "outputs": [
    {
     "name": "stdout",
     "output_type": "stream",
     "text": [
      "Found dev-cluster.env file in repository root. Loaded variables from dev-cluster.env file.\n"
     ]
    }
   ],
   "source": [
    "client = get_toolkit_client(\"dev-cluster.env\", enable_set_pending_ids=True)"
   ]
  },
  {
   "cell_type": "code",
   "execution_count": 4,
   "id": "cde766edfd9756e9",
   "metadata": {
    "ExecuteTime": {
     "end_time": "2025-07-10T06:57:49.718223Z",
     "start_time": "2025-07-10T06:57:49.715224Z"
    }
   },
   "outputs": [],
   "source": [
    "N = [1, 10, 100, 1_000, 10_000, 30_000]  # , 100_000, 300_000]"
   ]
  },
  {
   "cell_type": "code",
   "execution_count": 5,
   "id": "da5e6f8c3e474f0e",
   "metadata": {
    "ExecuteTime": {
     "end_time": "2025-07-10T06:57:49.742448Z",
     "start_time": "2025-07-10T06:57:49.735288Z"
    }
   },
   "outputs": [],
   "source": [
    "@dataclass\n",
    "class Execution:\n",
    "    n: int\n",
    "    create_file: float | None = None\n",
    "    set_pending_ids: float | None = None\n",
    "    create_cognite_file: float | None = None\n",
    "    updated_file: float | None = None"
   ]
  },
  {
   "cell_type": "code",
   "execution_count": 6,
   "id": "8657a88a0ec6a95b",
   "metadata": {
    "ExecuteTime": {
     "end_time": "2025-07-10T06:58:05.734680Z",
     "start_time": "2025-07-10T06:57:49.742448Z"
    }
   },
   "outputs": [
    {
     "name": "stdout",
     "output_type": "stream",
     "text": [
      "Progress: 11,111\n",
      "Deleted 11,111 existing files with prefix 'file_qa_load_testing'"
     ]
    }
   ],
   "source": [
    "# Reset for running multiple times\n",
    "delete_count = 0\n",
    "for existing in client.files(external_id_prefix=\"file_qa_load_testing\", chunk_size=1000):\n",
    "    delete_count += len(existing)\n",
    "    instance_ids = [ts.instance_id for ts in existing if ts.instance_id is not None]\n",
    "    if instance_ids:\n",
    "        client.data_modeling.instances.delete_fast(instance_ids)\n",
    "    ids = [ts.id for ts in existing if ts.instance_id is None]\n",
    "    if ids:\n",
    "        client.files.delete(id=ids)\n",
    "    print(f\"\\rProgress: {delete_count:,}\", end=\"\", flush=True)\n",
    "print(f\"\\nDeleted {delete_count:,} existing files with prefix 'file_qa_load_testing'\", end=\"\", flush=True)"
   ]
  },
  {
   "cell_type": "code",
   "execution_count": null,
   "id": "9d9c80af0fa0a03b",
   "metadata": {
    "ExecuteTime": {
     "start_time": "2025-07-10T06:58:05.743463Z"
    },
    "jupyter": {
     "is_executing": true
    }
   },
   "outputs": [
    {
     "name": "stdout",
     "output_type": "stream",
     "text": [
      "\n",
      "Created 1 file for n=1 in 0.16 seconds\n",
      "Set pending ids for 1 time series for n=1 in 0.07 seconds\n",
      "Created 1 CogniteFiles for n=1 in 0.14 seconds\n",
      "Updated 1 files for n=1\n",
      "Total time for n=1: 128.38 seconds\n",
      "----------------------------------------\n",
      "\n",
      "Created 10 file for n=10 in 1.19 seconds\n",
      "Set pending ids for 10 time series for n=10 in 0.10 seconds\n",
      "Created 10 CogniteFiles for n=10 in 0.21 seconds\n",
      "Updated 10 files for n=10\n",
      "Total time for n=10: 0.61 seconds\n",
      "----------------------------------------\n",
      "Created 100 files for n=100\n",
      "Created 100 file for n=100 in 10.91 seconds\n",
      "Set pending ids for 100 time series for n=100 in 0.31 seconds\n",
      "Created 100 CogniteFiles for n=100 in 0.41 seconds\n",
      "Updated 100 files for n=100\n",
      "Total time for n=100: 0.66 seconds\n",
      "----------------------------------------\n",
      "Created 1000 files for n=1000\n",
      "Created 1000 file for n=1000 in 100.26 seconds\n",
      "Set pending ids for 1000 time series for n=1000 in 2.82 seconds\n",
      "Created 1000 CogniteFiles for n=1000 in 2.26 seconds\n",
      "Updated 1000 files for n=1000\n",
      "Total time for n=1000: 4.28 seconds\n",
      "----------------------------------------\n",
      "Created 10000 files for n=10000\n",
      "Created 10000 file for n=10000 in 824.09 seconds\n",
      "Set pending ids for 10000 time series for n=10000 in 6.23 seconds\n",
      "Created 10000 CogniteFiles for n=10000 in 14.34 seconds\n",
      "Updated 10000 files for n=10000\n",
      "Total time for n=10000: 40.23 seconds\n",
      "----------------------------------------\n",
      "Created 8800 files for n=30000"
     ]
    }
   ],
   "source": [
    "execution_times: list[Execution] = []\n",
    "for n in N:\n",
    "    execution = Execution(n=n)\n",
    "    space = f\"sp_upgrade_{n}\"\n",
    "    files = [\n",
    "        FileMetadataWrite(\n",
    "            external_id=f\"file_qa_load_testing_{n}_{i}\",\n",
    "            name=f\"QA Load Testing {n} {i}\",\n",
    "        )\n",
    "        for i in range(n)\n",
    "    ]\n",
    "\n",
    "    t0 = time.perf_counter()\n",
    "    created = FileMetadataList([])\n",
    "    for no, file in enumerate(files, 1):\n",
    "        created_file = client.files.upload_bytes(b\"Dummy content\", **file.dump(camel_case=False))\n",
    "        created.append(created_file)\n",
    "        if no % 100 == 0:\n",
    "            print(f\"\\rCreated {no} files for n={n}\", end=\"\", flush=True)\n",
    "    elapsed = time.perf_counter() - t0\n",
    "    execution.create_file = elapsed\n",
    "    print(f\"\\nCreated {len(created)} file for n={n} in {elapsed:.2f} seconds\")\n",
    "    client.data_modeling.spaces.apply(SpaceApply(space))\n",
    "\n",
    "    t0 = time.perf_counter()\n",
    "    set_pending = client.files.set_pending_ids(\n",
    "        [PendingInstanceId(NodeId(space, file.external_id), external_id=file.external_id) for file in files]\n",
    "    )\n",
    "    elapsed = time.perf_counter() - t0\n",
    "    execution.set_pending_ids = elapsed\n",
    "    print(f\"Set pending ids for {len(set_pending)} time series for n={n} in {elapsed:.2f} seconds\")\n",
    "\n",
    "    cognite_file = [\n",
    "        CogniteFileApply(\n",
    "            space=space,\n",
    "            external_id=file.external_id,\n",
    "            name=file.name,\n",
    "        )\n",
    "        for file in files\n",
    "    ]\n",
    "    t0 = time.perf_counter()\n",
    "    created_dm = client.data_modeling.instances.apply_fast(cognite_file)\n",
    "    elapsed = time.perf_counter() - t0\n",
    "    execution.create_cognite_file = elapsed\n",
    "\n",
    "    print(f\"Created {len(created_dm)} CogniteFiles for n={n} in {elapsed:.2f} seconds\")\n",
    "\n",
    "    updated_count = 0\n",
    "    t0 = time.perf_counter()\n",
    "    not_updated = created.as_ids()\n",
    "    while updated_count < len(created):\n",
    "        updated = client.files.retrieve_multiple(not_updated)\n",
    "        not_updated = [ts.id for ts in updated if ts.instance_id is None]\n",
    "        updated_count = len(created) - len(not_updated)\n",
    "        print(f\"\\rUpdated {updated_count} files for n={n}\", end=\"\", flush=True)\n",
    "        if not not_updated:\n",
    "            break\n",
    "        time.sleep(0.5)\n",
    "    elapsed = time.perf_counter() - t0\n",
    "    execution.updated_file = elapsed\n",
    "    print(f\"\\nTotal time for n={n}: {elapsed:.2f} seconds\")\n",
    "    execution_times.append(execution)\n",
    "    print(\"--\" * 20)"
   ]
  },
  {
   "cell_type": "code",
   "execution_count": null,
   "id": "9d3c47120981ac63",
   "metadata": {
    "ExecuteTime": {
     "end_time": "2025-07-10T10:29:06.778498200Z",
     "start_time": "2025-07-10T06:20:25.827034Z"
    }
   },
   "outputs": [],
   "source": []
  },
  {
   "cell_type": "code",
   "execution_count": 8,
   "id": "3d04ec67ebd91b00",
   "metadata": {
    "ExecuteTime": {
     "end_time": "2025-07-10T10:29:06.884632600Z",
     "start_time": "2025-07-10T06:20:25.927364Z"
    }
   },
   "outputs": [],
   "source": [
    "import matplotlib.pyplot as plt"
   ]
  },
  {
   "cell_type": "code",
   "execution_count": 9,
   "id": "1863e74940052ec1",
   "metadata": {
    "ExecuteTime": {
     "end_time": "2025-07-10T10:29:06.948613800Z",
     "start_time": "2025-07-10T06:20:27.133190Z"
    }
   },
   "outputs": [],
   "source": [
    "x = [e.n for e in execution_times]\n",
    "y0 = [e.create_file for e in execution_times]\n",
    "y1 = [e.updated_file for e in execution_times]\n",
    "y2 = [e.set_pending_ids for e in execution_times]\n",
    "y3 = [e.create_cognite_file for e in execution_times]"
   ]
  },
  {
   "cell_type": "code",
   "execution_count": 18,
   "id": "e4ecf8b068c6240b",
   "metadata": {
    "ExecuteTime": {
     "end_time": "2025-07-10T10:29:06.964570200Z",
     "start_time": "2025-07-10T06:46:26.768764Z"
    }
   },
   "outputs": [
    {
     "data": {
      "image/png": "[encoded data removed]",
      "text/plain": [
       "<Figure size 1000x500 with 1 Axes>"
      ]
     },
     "metadata": {},
     "output_type": "display_data"
    }
   ],
   "source": [
    "plt.figure(figsize=(10, 5))\n",
    "plt.plot(x, y1, marker=\"o\", label=\"File(s) updated with NodeId(s)\")\n",
    "plt.plot(x, y2, marker=\"o\", label=\"Set Pending IDs Time (s)\")\n",
    "plt.plot(x, y3, marker=\"o\", label=\"Create Cognite Files (s)\")\n",
    "# plt.plot(x, y0, marker=\"o\", label=\"Create Files (s)\")\n",
    "plt.xscale(\"log\")\n",
    "plt.xlabel(\"Number of Files (N)\")\n",
    "plt.ylabel(\"Time (seconds)\")\n",
    "plt.title(\"Execution Time for Files Operations\")\n",
    "plt.xticks(x)\n",
    "plt.grid(True)\n",
    "plt.legend();"
   ]
  },
  {
   "cell_type": "code",
   "execution_count": 11,
   "id": "5a7a76d1c0697a6e",
   "metadata": {
    "ExecuteTime": {
     "end_time": "2025-07-10T10:29:06.964570200Z",
     "start_time": "2025-07-10T06:20:28.413263Z"
    }
   },
   "outputs": [],
   "source": [
    "from dataclasses import asdict"
   ]
  },
  {
   "cell_type": "code",
   "execution_count": 12,
   "id": "3c5d74c2e14b2289",
   "metadata": {
    "ExecuteTime": {
     "end_time": "2025-07-10T10:29:06.964570200Z",
     "start_time": "2025-07-10T06:20:28.594690Z"
    }
   },
   "outputs": [],
   "source": [
    "import pandas as pd"
   ]
  },
  {
   "cell_type": "code",
   "execution_count": 13,
   "id": "5e3ec73530c36f54",
   "metadata": {
    "ExecuteTime": {
     "end_time": "2025-07-10T10:29:06.964570200Z",
     "start_time": "2025-07-10T06:20:28.675230Z"
    }
   },
   "outputs": [],
   "source": [
    "df = pd.DataFrame([asdict(e) for e in execution_times])"
   ]
  },
  {
   "cell_type": "code",
   "execution_count": 14,
   "id": "4a52cae6d441c8ea",
   "metadata": {
    "ExecuteTime": {
     "end_time": "2025-07-10T10:29:06.964570200Z",
     "start_time": "2025-07-10T06:20:28.953143Z"
    }
   },
   "outputs": [],
   "source": [
    "df.to_csv(\"qa_load_testing_results_files.csv\", index=False)"
   ]
  },
  {
   "cell_type": "code",
   "execution_count": null,
   "id": "990baa754e589c5b",
   "metadata": {},
   "outputs": [],
   "source": []
  }
 ],
 "metadata": {
  "kernelspec": {
   "display_name": "Python 3 (ipykernel)",
   "language": "python",
   "name": "python3"
  },
  "language_info": {
   "codemirror_mode": {
    "name": "ipython",
    "version": 3
   },
   "file_extension": ".py",
   "mimetype": "text/x-python",
   "name": "python",
   "nbconvert_exporter": "python",
   "pygments_lexer": "ipython3",
   "version": "3.12.1"
  }
 },
 "nbformat": 4,
 "nbformat_minor": 5
}
