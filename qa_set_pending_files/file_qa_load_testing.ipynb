{
 "cells": [
  {
   "cell_type": "code",
   "execution_count": 36,
   "id": "initial_id",
   "metadata": {
    "ExecuteTime": {
     "end_time": "2025-06-03T09:26:42.917244Z",
     "start_time": "2025-06-03T09:26:42.910778Z"
    },
    "collapsed": true,
    "jupyter": {
     "outputs_hidden": true
    }
   },
   "outputs": [],
   "source": [
    "from tests.auth_utils import get_toolkit_client"
   ]
  },
  {
   "cell_type": "code",
   "execution_count": 6,
   "id": "d1876c38f818028b",
   "metadata": {
    "ExecuteTime": {
     "end_time": "2025-07-04T10:16:31.364088Z",
     "start_time": "2025-07-04T10:16:31.360151Z"
    }
   },
   "outputs": [],
   "source": [
    "import time\n",
    "from dataclasses import dataclass\n",
    "\n",
    "from cognite.client.data_classes import FileMetadataList, FileMetadataWrite\n",
    "from cognite.client.data_classes.data_modeling import NodeId, SpaceApply\n",
    "from cognite.client.data_classes.data_modeling.cdm.v1 import CogniteFileApply\n",
    "\n",
    "from cognite_toolkit._cdf_tk.client.data_classes.pending_instances_ids import PendingInstanceId"
   ]
  },
  {
   "cell_type": "code",
   "execution_count": 2,
   "id": "165337532a76f8ea",
   "metadata": {
    "ExecuteTime": {
     "end_time": "2025-07-04T10:12:44.774108Z",
     "start_time": "2025-07-04T10:12:44.729823Z"
    }
   },
   "outputs": [
    {
     "name": "stdout",
     "output_type": "stream",
     "text": [
      "Found dev-cluster.env file in repository root. Loaded variables from dev-cluster.env file.\n"
     ]
    }
   ],
   "source": [
    "client = get_toolkit_client(\"dev-cluster.env\", enable_set_pending_ids=True)"
   ]
  },
  {
   "cell_type": "code",
   "execution_count": 43,
   "id": "cde766edfd9756e9",
   "metadata": {
    "ExecuteTime": {
     "end_time": "2025-06-03T09:27:14.767804Z",
     "start_time": "2025-06-03T09:27:14.763844Z"
    }
   },
   "outputs": [],
   "source": [
    "N = [1, 10, 100, 1_000, 10_000, 30_000, 100_000, 300_000]"
   ]
  },
  {
   "cell_type": "code",
   "execution_count": 3,
   "id": "da5e6f8c3e474f0e",
   "metadata": {
    "ExecuteTime": {
     "end_time": "2025-07-04T10:12:47.556920Z",
     "start_time": "2025-07-04T10:12:47.551216Z"
    }
   },
   "outputs": [],
   "source": [
    "@dataclass\n",
    "class Execution:\n",
    "    n: int\n",
    "    create_file: float | None = None\n",
    "    set_pending_ids: float | None = None\n",
    "    create_cognite_file: float | None = None\n",
    "    updated_file: float | None = None"
   ]
  },
  {
   "cell_type": "code",
   "execution_count": 45,
   "id": "8657a88a0ec6a95b",
   "metadata": {
    "ExecuteTime": {
     "end_time": "2025-06-03T09:27:15.995910Z",
     "start_time": "2025-06-03T09:27:15.906504Z"
    }
   },
   "outputs": [
    {
     "name": "stdout",
     "output_type": "stream",
     "text": [
      "Deleted 0 existing time series with prefix 'ts_qa_load_testing'"
     ]
    }
   ],
   "source": [
    "# Reset for running multiple times\n",
    "delete_count = 0\n",
    "for existing in client.files(external_id_prefix=\"file_qa_load_testing\", chunk_size=1000):\n",
    "    delete_count += len(existing)\n",
    "    instance_ids = [ts.instance_id for ts in existing if ts.instance_id is not None]\n",
    "    if instance_ids:\n",
    "        client.data_modeling.instances.delete_fast(instance_ids)\n",
    "    ids = [ts.id for ts in existing if ts.instance_id is None]\n",
    "    if ids:\n",
    "        client.files.delete(id=ids)\n",
    "    print(f\"\\rProgress: {delete_count:,}\", end=\"\", flush=True)\n",
    "print(f\"Deleted {delete_count:,} existing files with prefix 'file_qa_load_testing'\", end=\"\", flush=True)"
   ]
  },
  {
   "cell_type": "code",
   "execution_count": 46,
   "id": "9d9c80af0fa0a03b",
   "metadata": {
    "ExecuteTime": {
     "end_time": "2025-06-03T09:54:29.681357Z",
     "start_time": "2025-06-03T09:27:17.694452Z"
    }
   },
   "outputs": [
    {
     "name": "stdout",
     "output_type": "stream",
     "text": [
      "Created 1 time series for n=1 in 0.13 seconds\n",
      "Set pending ids for 1 time series for n=1 in 0.15 seconds\n",
      "Created 1 Cognite time series for n=1 in 0.36 seconds\n",
      "Updated 0 time series for n=1\n",
      "Updated 1 time series for n=1\n",
      "Total time for n=1: 0.66 seconds\n",
      "----------------------------------------\n",
      "Created 10 time series for n=10 in 0.09 seconds\n",
      "Set pending ids for 10 time series for n=10 in 0.14 seconds\n",
      "Created 10 Cognite time series for n=10 in 0.15 seconds\n",
      "Updated 0 time series for n=10\n",
      "Updated 10 time series for n=10\n",
      "Total time for n=10: 0.64 seconds\n",
      "----------------------------------------\n",
      "Created 100 time series for n=100 in 0.10 seconds\n",
      "Set pending ids for 100 time series for n=100 in 0.18 seconds\n",
      "Created 100 Cognite time series for n=100 in 0.38 seconds\n",
      "Updated 0 time series for n=100\n",
      "Updated 100 time series for n=100\n",
      "Total time for n=100: 0.66 seconds\n",
      "----------------------------------------\n",
      "Created 1000 time series for n=1000 in 0.29 seconds\n",
      "Set pending ids for 1000 time series for n=1000 in 0.47 seconds\n",
      "Created 1000 Cognite time series for n=1000 in 2.48 seconds\n",
      "Updated 0 time series for n=1000\n",
      "Updated 800 time series for n=1000\n",
      "Updated 1000 time series for n=1000\n",
      "Total time for n=1000: 1.53 seconds\n",
      "----------------------------------------\n",
      "Created 10000 time series for n=10000 in 1.22 seconds\n",
      "Set pending ids for 10000 time series for n=10000 in 1.72 seconds\n",
      "Created 10000 Cognite time series for n=10000 in 24.89 seconds\n",
      "Updated 9000 time series for n=10000\n",
      "Updated 10000 time series for n=10000\n",
      "Total time for n=10000: 1.29 seconds\n",
      "----------------------------------------\n",
      "Created 30000 time series for n=30000 in 3.07 seconds\n",
      "Set pending ids for 30000 time series for n=30000 in 4.84 seconds\n",
      "Created 30000 Cognite time series for n=30000 in 74.89 seconds\n",
      "Updated 30000 time series for n=30000\n",
      "Total time for n=30000: 2.13 seconds\n",
      "----------------------------------------\n",
      "Created 100000 time series for n=100000 in 70.66 seconds\n",
      "Set pending ids for 100000 time series for n=100000 in 16.21 seconds\n",
      "Created 100000 Cognite time series for n=100000 in 249.37 seconds\n",
      "Updated 100000 time series for n=100000\n",
      "Total time for n=100000: 7.46 seconds\n",
      "----------------------------------------\n",
      "Created 300000 time series for n=300000 in 272.75 seconds\n",
      "Set pending ids for 300000 time series for n=300000 in 46.70 seconds\n",
      "Created 300000 Cognite time series for n=300000 in 755.67 seconds\n",
      "Updated 300000 time series for n=300000\n",
      "Total time for n=300000: 82.61 seconds\n",
      "----------------------------------------\n"
     ]
    }
   ],
   "source": [
    "execution_times: list[Execution] = []\n",
    "for n in N:\n",
    "    execution = Execution(n=n)\n",
    "    space = f\"sp_upgrade_{n}\"\n",
    "    files = [\n",
    "        FileMetadataWrite(\n",
    "            external_id=f\"file_qa_load_testing_{n}_{i}\",\n",
    "            name=f\"QA Load Testing {n} {i}\",\n",
    "        )\n",
    "        for i in range(n)\n",
    "    ]\n",
    "\n",
    "    t0 = time.perf_counter()\n",
    "    created = FileMetadataList([])\n",
    "    for file in files:\n",
    "        created_file = client.files.upload_bytes(b\"Dummy content\", **file.dump(camel_case=False))\n",
    "        created.append(created_file)\n",
    "    elapsed = time.perf_counter() - t0\n",
    "    execution.create_file = elapsed\n",
    "    print(f\"Created {len(created)} file for n={n} in {elapsed:.2f} seconds\")\n",
    "    client.data_modeling.spaces.apply(SpaceApply(space))\n",
    "\n",
    "    t0 = time.perf_counter()\n",
    "    set_pending = client.files.set_pending_ids(\n",
    "        [PendingInstanceId(NodeId(space, file.external_id), external_id=file.external_id) for file in files]\n",
    "    )\n",
    "    elapsed = time.perf_counter() - t0\n",
    "    execution.set_pending_ids = elapsed\n",
    "    print(f\"Set pending ids for {len(set_pending)} time series for n={n} in {elapsed:.2f} seconds\")\n",
    "\n",
    "    cognite_file = [\n",
    "        CogniteFileApply(\n",
    "            space=space,\n",
    "            external_id=file.external_id,\n",
    "            name=file.name,\n",
    "        )\n",
    "        for file in files\n",
    "    ]\n",
    "    t0 = time.perf_counter()\n",
    "    created_dm = client.data_modeling.instances.apply_fast(cognite_file).nodes\n",
    "    elapsed = time.perf_counter() - t0\n",
    "    execution.create_cognite_file = elapsed\n",
    "\n",
    "    print(f\"Created {len(created_dm)} CogniteFiles for n={n} in {elapsed:.2f} seconds\")\n",
    "\n",
    "    updated_count = 0\n",
    "    t0 = time.perf_counter()\n",
    "    not_updated = created.as_ids()\n",
    "    while updated_count < len(created):\n",
    "        updated = client.files.retrieve_multiple(not_updated)\n",
    "        not_updated = [ts.id for ts in updated if ts.instance_id is None]\n",
    "        updated_count = len(created) - len(not_updated)\n",
    "        print(f\"Updated {updated_count} files for n={n}\")\n",
    "        if not not_updated:\n",
    "            break\n",
    "        time.sleep(0.5)\n",
    "    elapsed = time.perf_counter() - t0\n",
    "    execution.updated_file = elapsed\n",
    "    print(f\"Total time for n={n}: {elapsed:.2f} seconds\")\n",
    "    execution_times.append(execution)\n",
    "    print(\"--\" * 20)"
   ]
  },
  {
   "cell_type": "code",
   "execution_count": 56,
   "id": "9353f55ab7024a6",
   "metadata": {
    "ExecuteTime": {
     "end_time": "2025-06-03T10:43:48.016515Z",
     "start_time": "2025-06-03T10:43:37.680429Z"
    }
   },
   "outputs": [
    {
     "data": {
      "text/html": [
       "<div>\n",
       "<style scoped>\n",
       "    .dataframe tbody tr th:only-of-type {\n",
       "        vertical-align: middle;\n",
       "    }\n",
       "\n",
       "    .dataframe tbody tr th {\n",
       "        vertical-align: top;\n",
       "    }\n",
       "\n",
       "    .dataframe thead th {\n",
       "        text-align: right;\n",
       "    }\n",
       "</style>\n",
       "<table border=\"1\" class=\"dataframe\">\n",
       "  <thead>\n",
       "    <tr style=\"text-align: right;\">\n",
       "      <th></th>\n",
       "      <th>external_id</th>\n",
       "      <th>instance_id</th>\n",
       "      <th>name</th>\n",
       "      <th>is_string</th>\n",
       "      <th>metadata</th>\n",
       "      <th>is_step</th>\n",
       "      <th>security_categories</th>\n",
       "      <th>id</th>\n",
       "      <th>created_time</th>\n",
       "      <th>last_updated_time</th>\n",
       "      <th>pending_instance_id</th>\n",
       "    </tr>\n",
       "  </thead>\n",
       "  <tbody>\n",
       "    <tr>\n",
       "      <th>0</th>\n",
       "      <td>ts_qa_load_testing_300000_0</td>\n",
       "      <td>{'space': 'sp_upgrade_300000', 'external_id': ...</td>\n",
       "      <td>QA Load Testing 300000 0</td>\n",
       "      <td>False</td>\n",
       "      <td>{}</td>\n",
       "      <td>False</td>\n",
       "      <td>[]</td>\n",
       "      <td>1650180297116060</td>\n",
       "      <td>2025-06-03 09:35:07.145</td>\n",
       "      <td>2025-06-03 09:41:47.136</td>\n",
       "      <td>{'space': 'sp_upgrade_300000', 'external_id': ...</td>\n",
       "    </tr>\n",
       "    <tr>\n",
       "      <th>1</th>\n",
       "      <td>ts_qa_load_testing_300000_1</td>\n",
       "      <td>{'space': 'sp_upgrade_300000', 'external_id': ...</td>\n",
       "      <td>QA Load Testing 300000 1</td>\n",
       "      <td>False</td>\n",
       "      <td>{}</td>\n",
       "      <td>False</td>\n",
       "      <td>[]</td>\n",
       "      <td>7904894262396930</td>\n",
       "      <td>2025-06-03 09:35:07.145</td>\n",
       "      <td>2025-06-03 09:41:47.142</td>\n",
       "      <td>{'space': 'sp_upgrade_300000', 'external_id': ...</td>\n",
       "    </tr>\n",
       "    <tr>\n",
       "      <th>2</th>\n",
       "      <td>ts_qa_load_testing_300000_2</td>\n",
       "      <td>{'space': 'sp_upgrade_300000', 'external_id': ...</td>\n",
       "      <td>QA Load Testing 300000 2</td>\n",
       "      <td>False</td>\n",
       "      <td>{}</td>\n",
       "      <td>False</td>\n",
       "      <td>[]</td>\n",
       "      <td>5174454630713927</td>\n",
       "      <td>2025-06-03 09:35:07.145</td>\n",
       "      <td>2025-06-03 09:41:47.116</td>\n",
       "      <td>{'space': 'sp_upgrade_300000', 'external_id': ...</td>\n",
       "    </tr>\n",
       "    <tr>\n",
       "      <th>3</th>\n",
       "      <td>ts_qa_load_testing_300000_3</td>\n",
       "      <td>{'space': 'sp_upgrade_300000', 'external_id': ...</td>\n",
       "      <td>QA Load Testing 300000 3</td>\n",
       "      <td>False</td>\n",
       "      <td>{}</td>\n",
       "      <td>False</td>\n",
       "      <td>[]</td>\n",
       "      <td>1465583241447642</td>\n",
       "      <td>2025-06-03 09:35:07.145</td>\n",
       "      <td>2025-06-03 09:41:47.173</td>\n",
       "      <td>{'space': 'sp_upgrade_300000', 'external_id': ...</td>\n",
       "    </tr>\n",
       "    <tr>\n",
       "      <th>4</th>\n",
       "      <td>ts_qa_load_testing_300000_4</td>\n",
       "      <td>{'space': 'sp_upgrade_300000', 'external_id': ...</td>\n",
       "      <td>QA Load Testing 300000 4</td>\n",
       "      <td>False</td>\n",
       "      <td>{}</td>\n",
       "      <td>False</td>\n",
       "      <td>[]</td>\n",
       "      <td>3326123774411712</td>\n",
       "      <td>2025-06-03 09:35:07.145</td>\n",
       "      <td>2025-06-03 09:41:47.174</td>\n",
       "      <td>{'space': 'sp_upgrade_300000', 'external_id': ...</td>\n",
       "    </tr>\n",
       "    <tr>\n",
       "      <th>...</th>\n",
       "      <td>...</td>\n",
       "      <td>...</td>\n",
       "      <td>...</td>\n",
       "      <td>...</td>\n",
       "      <td>...</td>\n",
       "      <td>...</td>\n",
       "      <td>...</td>\n",
       "      <td>...</td>\n",
       "      <td>...</td>\n",
       "      <td>...</td>\n",
       "      <td>...</td>\n",
       "    </tr>\n",
       "    <tr>\n",
       "      <th>299995</th>\n",
       "      <td>ts_qa_load_testing_300000_299995</td>\n",
       "      <td>{'space': 'sp_upgrade_300000', 'external_id': ...</td>\n",
       "      <td>QA Load Testing 300000 299995</td>\n",
       "      <td>False</td>\n",
       "      <td>{}</td>\n",
       "      <td>False</td>\n",
       "      <td>[]</td>\n",
       "      <td>1077871427668279</td>\n",
       "      <td>2025-06-03 09:39:32.124</td>\n",
       "      <td>2025-06-03 09:53:04.549</td>\n",
       "      <td>{'space': 'sp_upgrade_300000', 'external_id': ...</td>\n",
       "    </tr>\n",
       "    <tr>\n",
       "      <th>299996</th>\n",
       "      <td>ts_qa_load_testing_300000_299996</td>\n",
       "      <td>{'space': 'sp_upgrade_300000', 'external_id': ...</td>\n",
       "      <td>QA Load Testing 300000 299996</td>\n",
       "      <td>False</td>\n",
       "      <td>{}</td>\n",
       "      <td>False</td>\n",
       "      <td>[]</td>\n",
       "      <td>3730971619721298</td>\n",
       "      <td>2025-06-03 09:39:32.124</td>\n",
       "      <td>2025-06-03 09:53:04.459</td>\n",
       "      <td>{'space': 'sp_upgrade_300000', 'external_id': ...</td>\n",
       "    </tr>\n",
       "    <tr>\n",
       "      <th>299997</th>\n",
       "      <td>ts_qa_load_testing_300000_299997</td>\n",
       "      <td>{'space': 'sp_upgrade_300000', 'external_id': ...</td>\n",
       "      <td>QA Load Testing 300000 299997</td>\n",
       "      <td>False</td>\n",
       "      <td>{}</td>\n",
       "      <td>False</td>\n",
       "      <td>[]</td>\n",
       "      <td>8964948890205164</td>\n",
       "      <td>2025-06-03 09:39:32.124</td>\n",
       "      <td>2025-06-03 09:53:04.455</td>\n",
       "      <td>{'space': 'sp_upgrade_300000', 'external_id': ...</td>\n",
       "    </tr>\n",
       "    <tr>\n",
       "      <th>299998</th>\n",
       "      <td>ts_qa_load_testing_300000_299998</td>\n",
       "      <td>{'space': 'sp_upgrade_300000', 'external_id': ...</td>\n",
       "      <td>QA Load Testing 300000 299998</td>\n",
       "      <td>False</td>\n",
       "      <td>{}</td>\n",
       "      <td>False</td>\n",
       "      <td>[]</td>\n",
       "      <td>4987915672957519</td>\n",
       "      <td>2025-06-03 09:39:32.124</td>\n",
       "      <td>2025-06-03 09:53:04.460</td>\n",
       "      <td>{'space': 'sp_upgrade_300000', 'external_id': ...</td>\n",
       "    </tr>\n",
       "    <tr>\n",
       "      <th>299999</th>\n",
       "      <td>ts_qa_load_testing_300000_299999</td>\n",
       "      <td>{'space': 'sp_upgrade_300000', 'external_id': ...</td>\n",
       "      <td>QA Load Testing 300000 299999</td>\n",
       "      <td>False</td>\n",
       "      <td>{}</td>\n",
       "      <td>False</td>\n",
       "      <td>[]</td>\n",
       "      <td>928494838025393</td>\n",
       "      <td>2025-06-03 09:39:32.124</td>\n",
       "      <td>2025-06-03 09:53:04.460</td>\n",
       "      <td>{'space': 'sp_upgrade_300000', 'external_id': ...</td>\n",
       "    </tr>\n",
       "  </tbody>\n",
       "</table>\n",
       "<p>300000 rows × 11 columns</p>\n",
       "</div>"
      ],
      "text/plain": [
       "                             external_id  \\\n",
       "0            ts_qa_load_testing_300000_0   \n",
       "1            ts_qa_load_testing_300000_1   \n",
       "2            ts_qa_load_testing_300000_2   \n",
       "3            ts_qa_load_testing_300000_3   \n",
       "4            ts_qa_load_testing_300000_4   \n",
       "...                                  ...   \n",
       "299995  ts_qa_load_testing_300000_299995   \n",
       "299996  ts_qa_load_testing_300000_299996   \n",
       "299997  ts_qa_load_testing_300000_299997   \n",
       "299998  ts_qa_load_testing_300000_299998   \n",
       "299999  ts_qa_load_testing_300000_299999   \n",
       "\n",
       "                                              instance_id  \\\n",
       "0       {'space': 'sp_upgrade_300000', 'external_id': ...   \n",
       "1       {'space': 'sp_upgrade_300000', 'external_id': ...   \n",
       "2       {'space': 'sp_upgrade_300000', 'external_id': ...   \n",
       "3       {'space': 'sp_upgrade_300000', 'external_id': ...   \n",
       "4       {'space': 'sp_upgrade_300000', 'external_id': ...   \n",
       "...                                                   ...   \n",
       "299995  {'space': 'sp_upgrade_300000', 'external_id': ...   \n",
       "299996  {'space': 'sp_upgrade_300000', 'external_id': ...   \n",
       "299997  {'space': 'sp_upgrade_300000', 'external_id': ...   \n",
       "299998  {'space': 'sp_upgrade_300000', 'external_id': ...   \n",
       "299999  {'space': 'sp_upgrade_300000', 'external_id': ...   \n",
       "\n",
       "                                 name  is_string metadata  is_step  \\\n",
       "0            QA Load Testing 300000 0      False       {}    False   \n",
       "1            QA Load Testing 300000 1      False       {}    False   \n",
       "2            QA Load Testing 300000 2      False       {}    False   \n",
       "3            QA Load Testing 300000 3      False       {}    False   \n",
       "4            QA Load Testing 300000 4      False       {}    False   \n",
       "...                               ...        ...      ...      ...   \n",
       "299995  QA Load Testing 300000 299995      False       {}    False   \n",
       "299996  QA Load Testing 300000 299996      False       {}    False   \n",
       "299997  QA Load Testing 300000 299997      False       {}    False   \n",
       "299998  QA Load Testing 300000 299998      False       {}    False   \n",
       "299999  QA Load Testing 300000 299999      False       {}    False   \n",
       "\n",
       "       security_categories                id            created_time  \\\n",
       "0                       []  1650180297116060 2025-06-03 09:35:07.145   \n",
       "1                       []  7904894262396930 2025-06-03 09:35:07.145   \n",
       "2                       []  5174454630713927 2025-06-03 09:35:07.145   \n",
       "3                       []  1465583241447642 2025-06-03 09:35:07.145   \n",
       "4                       []  3326123774411712 2025-06-03 09:35:07.145   \n",
       "...                    ...               ...                     ...   \n",
       "299995                  []  1077871427668279 2025-06-03 09:39:32.124   \n",
       "299996                  []  3730971619721298 2025-06-03 09:39:32.124   \n",
       "299997                  []  8964948890205164 2025-06-03 09:39:32.124   \n",
       "299998                  []  4987915672957519 2025-06-03 09:39:32.124   \n",
       "299999                  []   928494838025393 2025-06-03 09:39:32.124   \n",
       "\n",
       "             last_updated_time  \\\n",
       "0      2025-06-03 09:41:47.136   \n",
       "1      2025-06-03 09:41:47.142   \n",
       "2      2025-06-03 09:41:47.116   \n",
       "3      2025-06-03 09:41:47.173   \n",
       "4      2025-06-03 09:41:47.174   \n",
       "...                        ...   \n",
       "299995 2025-06-03 09:53:04.549   \n",
       "299996 2025-06-03 09:53:04.459   \n",
       "299997 2025-06-03 09:53:04.455   \n",
       "299998 2025-06-03 09:53:04.460   \n",
       "299999 2025-06-03 09:53:04.460   \n",
       "\n",
       "                                      pending_instance_id  \n",
       "0       {'space': 'sp_upgrade_300000', 'external_id': ...  \n",
       "1       {'space': 'sp_upgrade_300000', 'external_id': ...  \n",
       "2       {'space': 'sp_upgrade_300000', 'external_id': ...  \n",
       "3       {'space': 'sp_upgrade_300000', 'external_id': ...  \n",
       "4       {'space': 'sp_upgrade_300000', 'external_id': ...  \n",
       "...                                                   ...  \n",
       "299995  {'space': 'sp_upgrade_300000', 'external_id': ...  \n",
       "299996  {'space': 'sp_upgrade_300000', 'external_id': ...  \n",
       "299997  {'space': 'sp_upgrade_300000', 'external_id': ...  \n",
       "299998  {'space': 'sp_upgrade_300000', 'external_id': ...  \n",
       "299999  {'space': 'sp_upgrade_300000', 'external_id': ...  \n",
       "\n",
       "[300000 rows x 11 columns]"
      ]
     },
     "execution_count": 56,
     "metadata": {},
     "output_type": "execute_result"
    }
   ],
   "source": [
    "updated.to_pandas()"
   ]
  },
  {
   "cell_type": "code",
   "execution_count": null,
   "id": "9d3c47120981ac63",
   "metadata": {},
   "outputs": [],
   "source": []
  },
  {
   "cell_type": "code",
   "execution_count": 47,
   "id": "3d04ec67ebd91b00",
   "metadata": {
    "ExecuteTime": {
     "end_time": "2025-06-03T09:54:30.543562Z",
     "start_time": "2025-06-03T09:54:30.536018Z"
    }
   },
   "outputs": [],
   "source": [
    "import matplotlib.pyplot as plt"
   ]
  },
  {
   "cell_type": "code",
   "execution_count": 48,
   "id": "1863e74940052ec1",
   "metadata": {
    "ExecuteTime": {
     "end_time": "2025-06-03T09:54:31.398625Z",
     "start_time": "2025-06-03T09:54:31.388514Z"
    }
   },
   "outputs": [],
   "source": [
    "x = [e.n for e in execution_times]\n",
    "y0 = [e.create_file for e in execution_times]\n",
    "y1 = [e.updated_file for e in execution_times]\n",
    "y2 = [e.set_pending_ids for e in execution_times]\n",
    "y3 = [e.create_cognite_file for e in execution_times]"
   ]
  },
  {
   "cell_type": "code",
   "execution_count": 49,
   "id": "e4ecf8b068c6240b",
   "metadata": {
    "ExecuteTime": {
     "end_time": "2025-06-03T09:54:32.685273Z",
     "start_time": "2025-06-03T09:54:32.196911Z"
    }
   },
   "outputs": [
    {
     "data": {
      "image/png": "[encoded data removed]",
      "text/plain": [
       "<Figure size 1000x500 with 1 Axes>"
      ]
     },
     "metadata": {},
     "output_type": "display_data"
    }
   ],
   "source": [
    "plt.figure(figsize=(10, 5))\n",
    "plt.plot(x, y0, marker=\"o\", label=\"Create Time Series Time (s)\")\n",
    "plt.plot(x, y1, marker=\"o\", label=\"Update Time (s)\")\n",
    "plt.plot(x, y2, marker=\"o\", label=\"Set Pending IDs Time (s)\")\n",
    "plt.plot(x, y3, marker=\"o\", label=\"Create Cognite Time Series Time (s)\")\n",
    "plt.xscale(\"log\")\n",
    "plt.xlabel(\"Number of Time Series (N)\")\n",
    "plt.ylabel(\"Time (seconds)\")\n",
    "plt.title(\"Execution Time for Time Series Operations\")\n",
    "plt.xticks(x)\n",
    "plt.grid(True)\n",
    "plt.legend();"
   ]
  },
  {
   "cell_type": "code",
   "execution_count": 50,
   "id": "5a7a76d1c0697a6e",
   "metadata": {
    "ExecuteTime": {
     "end_time": "2025-06-03T10:25:33.099221Z",
     "start_time": "2025-06-03T10:25:33.089348Z"
    }
   },
   "outputs": [],
   "source": [
    "from dataclasses import asdict"
   ]
  },
  {
   "cell_type": "code",
   "execution_count": 51,
   "id": "3c5d74c2e14b2289",
   "metadata": {
    "ExecuteTime": {
     "end_time": "2025-06-03T10:25:35.398253Z",
     "start_time": "2025-06-03T10:25:35.393353Z"
    }
   },
   "outputs": [],
   "source": [
    "import pandas as pd"
   ]
  },
  {
   "cell_type": "code",
   "execution_count": 52,
   "id": "5e3ec73530c36f54",
   "metadata": {
    "ExecuteTime": {
     "end_time": "2025-06-03T10:25:38.129707Z",
     "start_time": "2025-06-03T10:25:38.105331Z"
    }
   },
   "outputs": [],
   "source": [
    "df = pd.DataFrame([asdict(e) for e in execution_times])"
   ]
  },
  {
   "cell_type": "code",
   "execution_count": 54,
   "id": "4a52cae6d441c8ea",
   "metadata": {
    "ExecuteTime": {
     "end_time": "2025-06-03T10:26:23.268748Z",
     "start_time": "2025-06-03T10:26:23.246196Z"
    }
   },
   "outputs": [],
   "source": [
    "df.to_csv(\"qa_load_testing_results_files.csv\", index=False)"
   ]
  },
  {
   "cell_type": "code",
   "execution_count": null,
   "id": "990baa754e589c5b",
   "metadata": {},
   "outputs": [],
   "source": []
  }
 ],
 "metadata": {
  "kernelspec": {
   "display_name": "Python 3 (ipykernel)",
   "language": "python",
   "name": "python3"
  },
  "language_info": {
   "codemirror_mode": {
    "name": "ipython",
    "version": 3
   },
   "file_extension": ".py",
   "mimetype": "text/x-python",
   "name": "python",
   "nbconvert_exporter": "python",
   "pygments_lexer": "ipython3",
   "version": "3.12.1"
  }
 },
 "nbformat": 4,
 "nbformat_minor": 5
}
