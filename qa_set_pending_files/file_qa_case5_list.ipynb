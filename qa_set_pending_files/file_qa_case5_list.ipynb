{
 "cells": [
  {
   "cell_type": "code",
   "execution_count": 1,
   "id": "initial_id",
   "metadata": {
    "ExecuteTime": {
     "end_time": "2025-06-03T06:09:26.207729Z",
     "start_time": "2025-06-03T06:09:23.509872Z"
    },
    "collapsed": true,
    "jupyter": {
     "outputs_hidden": true
    }
   },
   "outputs": [],
   "source": [
    "from tests.auth_utils import get_toolkit_client"
   ]
  },
  {
   "cell_type": "code",
   "execution_count": 1,
   "id": "d1876c38f818028b",
   "metadata": {
    "ExecuteTime": {
     "end_time": "2025-07-04T10:05:15.138551Z",
     "start_time": "2025-07-04T10:05:14.036807Z"
    }
   },
   "outputs": [],
   "source": [
    "from cognite.client.data_classes import filters\n",
    "from cognite.client.data_classes.data_modeling import SpaceApply\n",
    "from cognite.client.exceptions import CogniteException"
   ]
  },
  {
   "cell_type": "code",
   "execution_count": 2,
   "id": "165337532a76f8ea",
   "metadata": {
    "ExecuteTime": {
     "end_time": "2025-07-04T10:05:15.894417Z",
     "start_time": "2025-07-04T10:05:15.848077Z"
    }
   },
   "outputs": [
    {
     "name": "stdout",
     "output_type": "stream",
     "text": [
      "Found dev-cluster.env file in repository root. Loaded variables from dev-cluster.env file.\n"
     ]
    }
   ],
   "source": [
    "client = get_toolkit_client(\"dev-cluster.env\", enable_set_pending_ids=True)"
   ]
  },
  {
   "cell_type": "code",
   "execution_count": 3,
   "id": "b9ac07f6123b4180",
   "metadata": {
    "ExecuteTime": {
     "end_time": "2025-07-04T10:05:15.921215Z",
     "start_time": "2025-07-04T10:05:15.917519Z"
    }
   },
   "outputs": [],
   "source": [
    "SPACE = \"sp_upgrade\""
   ]
  },
  {
   "cell_type": "code",
   "execution_count": 4,
   "id": "e422c5b2d8c7d8fe",
   "metadata": {
    "ExecuteTime": {
     "end_time": "2025-07-04T10:05:16.737971Z",
     "start_time": "2025-07-04T10:05:15.935988Z"
    }
   },
   "outputs": [
    {
     "data": {
      "text/html": [
       "<div>\n",
       "<style scoped>\n",
       "    .dataframe tbody tr th:only-of-type {\n",
       "        vertical-align: middle;\n",
       "    }\n",
       "\n",
       "    .dataframe tbody tr th {\n",
       "        vertical-align: top;\n",
       "    }\n",
       "\n",
       "    .dataframe thead th {\n",
       "        text-align: right;\n",
       "    }\n",
       "</style>\n",
       "<table border=\"1\" class=\"dataframe\">\n",
       "  <thead>\n",
       "    <tr style=\"text-align: right;\">\n",
       "      <th></th>\n",
       "      <th>value</th>\n",
       "    </tr>\n",
       "  </thead>\n",
       "  <tbody>\n",
       "    <tr>\n",
       "      <th>space</th>\n",
       "      <td>sp_upgrade</td>\n",
       "    </tr>\n",
       "    <tr>\n",
       "      <th>is_global</th>\n",
       "      <td>False</td>\n",
       "    </tr>\n",
       "    <tr>\n",
       "      <th>last_updated_time</th>\n",
       "      <td>2025-07-04 09:38:40.297000</td>\n",
       "    </tr>\n",
       "    <tr>\n",
       "      <th>created_time</th>\n",
       "      <td>2025-07-04 09:38:40.297000</td>\n",
       "    </tr>\n",
       "  </tbody>\n",
       "</table>\n",
       "</div>"
      ],
      "text/plain": [
       "<Space(space='sp_upgrade') at 0x1603405b620>"
      ]
     },
     "execution_count": 4,
     "metadata": {},
     "output_type": "execute_result"
    }
   ],
   "source": [
    "client.data_modeling.spaces.apply(SpaceApply(space=SPACE))"
   ]
  },
  {
   "cell_type": "markdown",
   "id": "95f3efc7e7a190f9",
   "metadata": {},
   "source": [
    "# List Pending Instance ID"
   ]
  },
  {
   "cell_type": "code",
   "execution_count": 7,
   "id": "56e51e97986abaf2",
   "metadata": {
    "ExecuteTime": {
     "end_time": "2025-07-04T10:05:27.722982Z",
     "start_time": "2025-07-04T10:05:27.660313Z"
    }
   },
   "outputs": [],
   "source": [
    "all_files = client.files.list(limit=1000)"
   ]
  },
  {
   "cell_type": "code",
   "execution_count": 8,
   "id": "357e266790538435",
   "metadata": {
    "ExecuteTime": {
     "end_time": "2025-07-04T10:05:28.831423Z",
     "start_time": "2025-07-04T10:05:28.810080Z"
    }
   },
   "outputs": [
    {
     "data": {
      "text/html": [
       "<div>\n",
       "<style scoped>\n",
       "    .dataframe tbody tr th:only-of-type {\n",
       "        vertical-align: middle;\n",
       "    }\n",
       "\n",
       "    .dataframe tbody tr th {\n",
       "        vertical-align: top;\n",
       "    }\n",
       "\n",
       "    .dataframe thead th {\n",
       "        text-align: right;\n",
       "    }\n",
       "</style>\n",
       "<table border=\"1\" class=\"dataframe\">\n",
       "  <thead>\n",
       "    <tr style=\"text-align: right;\">\n",
       "      <th></th>\n",
       "      <th>external_id</th>\n",
       "      <th>name</th>\n",
       "      <th>mime_type</th>\n",
       "      <th>id</th>\n",
       "      <th>created_time</th>\n",
       "      <th>last_updated_time</th>\n",
       "      <th>uploaded</th>\n",
       "      <th>uploaded_time</th>\n",
       "    </tr>\n",
       "  </thead>\n",
       "  <tbody>\n",
       "    <tr>\n",
       "      <th>0</th>\n",
       "      <td>file_case1_happy_path</td>\n",
       "      <td>File Case 1 Happy Path</td>\n",
       "      <td>text/plain</td>\n",
       "      <td>2805016767704389</td>\n",
       "      <td>2025-07-04 09:49:28.706</td>\n",
       "      <td>2025-07-04 09:49:28.706</td>\n",
       "      <td>True</td>\n",
       "      <td>2025-07-04 09:49:30.624</td>\n",
       "    </tr>\n",
       "    <tr>\n",
       "      <th>1</th>\n",
       "      <td>ts_toolkit_integration_test_happy_path</td>\n",
       "      <td>Toolkit Integration Test Happy Path</td>\n",
       "      <td>text/plain</td>\n",
       "      <td>5930450622401324</td>\n",
       "      <td>2025-07-03 05:36:09.242</td>\n",
       "      <td>2025-07-03 05:36:09.242</td>\n",
       "      <td>True</td>\n",
       "      <td>2025-07-03 05:36:09.414</td>\n",
       "    </tr>\n",
       "    <tr>\n",
       "      <th>2</th>\n",
       "      <td>ts_case4_delete_asset_centric</td>\n",
       "      <td>Case 4 Cascading Delete</td>\n",
       "      <td>NaN</td>\n",
       "      <td>7849972293300329</td>\n",
       "      <td>2025-07-04 10:03:24.741</td>\n",
       "      <td>2025-07-04 10:03:24.741</td>\n",
       "      <td>True</td>\n",
       "      <td>2025-07-04 10:03:26.960</td>\n",
       "    </tr>\n",
       "  </tbody>\n",
       "</table>\n",
       "</div>"
      ],
      "text/plain": [
       "FileMetadataList([<cognite.client.data_classes.files.FileMetadata at 0x160337c2f00>,\n",
       "                  <cognite.client.data_classes.files.FileMetadata at 0x160351605c0>,\n",
       "                  <cognite.client.data_classes.files.FileMetadata at 0x16035160740>])"
      ]
     },
     "execution_count": 8,
     "metadata": {},
     "output_type": "execute_result"
    }
   ],
   "source": [
    "all_files"
   ]
  },
  {
   "cell_type": "code",
   "execution_count": 9,
   "id": "412580c6bf6a517e",
   "metadata": {
    "ExecuteTime": {
     "end_time": "2025-07-04T10:05:38.280867Z",
     "start_time": "2025-07-04T10:05:38.265220Z"
    }
   },
   "outputs": [
    {
     "ename": "AttributeError",
     "evalue": "'FileMetadata' object has no attribute 'pending_instance_id'",
     "output_type": "error",
     "traceback": [
      "\u001b[31m---------------------------------------------------------------------------\u001b[39m",
      "\u001b[31mAttributeError\u001b[39m                            Traceback (most recent call last)",
      "\u001b[36mCell\u001b[39m\u001b[36m \u001b[39m\u001b[32mIn[9]\u001b[39m\u001b[32m, line 1\u001b[39m\n\u001b[32m----> \u001b[39m\u001b[32m1\u001b[39m pending_id = \u001b[43mall_files\u001b[49m\u001b[43m[\u001b[49m\u001b[32;43m1\u001b[39;49m\u001b[43m]\u001b[49m\u001b[43m.\u001b[49m\u001b[43mpending_instance_id\u001b[49m\n\u001b[32m      2\u001b[39m pending_id\n",
      "\u001b[31mAttributeError\u001b[39m: 'FileMetadata' object has no attribute 'pending_instance_id'"
     ]
    }
   ],
   "source": [
    "pending_id = all_files[1].pending_instance_id\n",
    "pending_id"
   ]
  },
  {
   "cell_type": "code",
   "execution_count": 36,
   "id": "24bddb084903e91e",
   "metadata": {
    "ExecuteTime": {
     "end_time": "2025-06-03T06:19:52.377624Z",
     "start_time": "2025-06-03T06:19:52.303477Z"
    }
   },
   "outputs": [
    {
     "name": "stdout",
     "output_type": "stream",
     "text": [
      "\u001b[91mError\u001b[0m Request had 1 constraint violation. Please fix the request and try again. [advancedFilter.equals.property Invalid property name \"pendingInstanceSpace\"]\n"
     ]
    }
   ],
   "source": [
    "is_selected = filters.Equals(\"pendingInstanceSpace\", pending_id.space)\n",
    "try:\n",
    "    selected = client.files.list(advanced_filter=is_selected, limit=1000)\n",
    "except CogniteException as e:\n",
    "    print(f\"\\033[91mError\\033[0m {e.message!s}\")\n",
    "else:\n",
    "    display(selected.to_pandas())"
   ]
  },
  {
   "cell_type": "code",
   "execution_count": 37,
   "id": "ffef592bddab59e6",
   "metadata": {
    "ExecuteTime": {
     "end_time": "2025-06-03T06:19:52.829174Z",
     "start_time": "2025-06-03T06:19:52.757305Z"
    }
   },
   "outputs": [
    {
     "name": "stdout",
     "output_type": "stream",
     "text": [
      "\u001b[91mError\u001b[0m Request had 1 constraint violation. Please fix the request and try again. [advancedFilter.equals.value Filter value must be a string, a boolean, or a 64-bit signed integer]\n"
     ]
    }
   ],
   "source": [
    "is_selected = filters.Equals(\"pendingInstanceId\", pending_id.dump(include_instance_type=False))\n",
    "try:\n",
    "    selected = client.files.list(advanced_filter=is_selected, limit=1000)\n",
    "except CogniteException as e:\n",
    "    print(f\"\\033[91mError\\033[0m {e.message!s}\")\n",
    "else:\n",
    "    display(selected.to_pandas())"
   ]
  },
  {
   "cell_type": "code",
   "execution_count": 38,
   "id": "96f34a1b54db7fac",
   "metadata": {
    "ExecuteTime": {
     "end_time": "2025-06-03T06:20:28.215518Z",
     "start_time": "2025-06-03T06:20:28.140917Z"
    }
   },
   "outputs": [
    {
     "name": "stdout",
     "output_type": "stream",
     "text": [
      "\u001b[91mError\u001b[0m Request had 1 constraint violation. Please fix the request and try again. [advancedFilter.equals.property Only metadata and instanceId properties may contain two elements]\n"
     ]
    }
   ],
   "source": [
    "is_selected = filters.Equals([\"pendingInstanceId\", \"space\"], pending_id.space)\n",
    "try:\n",
    "    selected = client.files.list(advanced_filter=is_selected, limit=1000)\n",
    "except CogniteException as e:\n",
    "    print(f\"\\033[91mError\\033[0m {e.message!s}\")\n",
    "else:\n",
    "    display(selected.to_pandas())"
   ]
  },
  {
   "cell_type": "code",
   "execution_count": null,
   "id": "bfe6758536e6db65",
   "metadata": {},
   "outputs": [],
   "source": []
  }
 ],
 "metadata": {
  "kernelspec": {
   "display_name": "Python 3 (ipykernel)",
   "language": "python",
   "name": "python3"
  },
  "language_info": {
   "codemirror_mode": {
    "name": "ipython",
    "version": 3
   },
   "file_extension": ".py",
   "mimetype": "text/x-python",
   "name": "python",
   "nbconvert_exporter": "python",
   "pygments_lexer": "ipython3",
   "version": "3.12.1"
  }
 },
 "nbformat": 4,
 "nbformat_minor": 5
}
