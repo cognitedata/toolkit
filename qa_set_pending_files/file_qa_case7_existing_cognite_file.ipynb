{
 "cells": [
  {
   "cell_type": "code",
   "id": "d1876c38f818028b",
   "metadata": {
    "ExecuteTime": {
     "end_time": "2025-07-18T08:13:51.005221Z",
     "start_time": "2025-07-18T08:13:49.923643Z"
    }
   },
   "source": [
    "from cognite.client.data_classes import FileMetadataWrite\n",
    "from cognite.client.data_classes.data_modeling import SpaceApply\n",
    "from cognite.client.data_classes.data_modeling.cdm.v1 import CogniteFileApply\n",
    "from cognite.client.exceptions import CogniteException\n",
    "\n",
    "from tests.auth_utils import get_toolkit_client"
   ],
   "outputs": [],
   "execution_count": 1
  },
  {
   "cell_type": "code",
   "id": "165337532a76f8ea",
   "metadata": {
    "ExecuteTime": {
     "end_time": "2025-07-18T08:13:51.186271Z",
     "start_time": "2025-07-18T08:13:51.135923Z"
    }
   },
   "source": [
    "client = get_toolkit_client(\"dev-cluster.env\", enable_set_pending_ids=True)"
   ],
   "outputs": [
    {
     "name": "stdout",
     "output_type": "stream",
     "text": [
      "Found dev-cluster.env file in repository root. Loaded variables from dev-cluster.env file.\n"
     ]
    }
   ],
   "execution_count": 2
  },
  {
   "cell_type": "code",
   "id": "b9ac07f6123b4180",
   "metadata": {
    "ExecuteTime": {
     "end_time": "2025-07-18T08:13:51.195466Z",
     "start_time": "2025-07-18T08:13:51.192677Z"
    }
   },
   "source": [
    "SPACE = \"sp_upgrade\""
   ],
   "outputs": [],
   "execution_count": 3
  },
  {
   "cell_type": "code",
   "id": "e422c5b2d8c7d8fe",
   "metadata": {
    "ExecuteTime": {
     "end_time": "2025-07-18T08:13:51.973942Z",
     "start_time": "2025-07-18T08:13:51.203014Z"
    }
   },
   "source": [
    "client.data_modeling.spaces.apply(SpaceApply(space=SPACE))"
   ],
   "outputs": [
    {
     "data": {
      "text/plain": [
       "<Space(space='sp_upgrade') at 0x228bdaea060>"
      ],
      "text/html": [
       "<div>\n",
       "<style scoped>\n",
       "    .dataframe tbody tr th:only-of-type {\n",
       "        vertical-align: middle;\n",
       "    }\n",
       "\n",
       "    .dataframe tbody tr th {\n",
       "        vertical-align: top;\n",
       "    }\n",
       "\n",
       "    .dataframe thead th {\n",
       "        text-align: right;\n",
       "    }\n",
       "</style>\n",
       "<table border=\"1\" class=\"dataframe\">\n",
       "  <thead>\n",
       "    <tr style=\"text-align: right;\">\n",
       "      <th></th>\n",
       "      <th>value</th>\n",
       "    </tr>\n",
       "  </thead>\n",
       "  <tbody>\n",
       "    <tr>\n",
       "      <th>space</th>\n",
       "      <td>sp_upgrade</td>\n",
       "    </tr>\n",
       "    <tr>\n",
       "      <th>is_global</th>\n",
       "      <td>False</td>\n",
       "    </tr>\n",
       "    <tr>\n",
       "      <th>last_updated_time</th>\n",
       "      <td>2025-07-04 09:38:40.297000</td>\n",
       "    </tr>\n",
       "    <tr>\n",
       "      <th>created_time</th>\n",
       "      <td>2025-07-04 09:38:40.297000</td>\n",
       "    </tr>\n",
       "  </tbody>\n",
       "</table>\n",
       "</div>"
      ]
     },
     "execution_count": 4,
     "metadata": {},
     "output_type": "execute_result"
    }
   ],
   "execution_count": 4
  },
  {
   "cell_type": "markdown",
   "id": "95f3efc7e7a190f9",
   "metadata": {},
   "source": [
    "# Existing Cognite TimeSeries with Pending ID"
   ]
  },
  {
   "cell_type": "code",
   "id": "6ec771318a5c3895",
   "metadata": {
    "ExecuteTime": {
     "end_time": "2025-07-18T08:13:55.106843Z",
     "start_time": "2025-07-18T08:13:55.100831Z"
    }
   },
   "source": [
    "file = FileMetadataWrite(\n",
    "    external_id=\"ts_case7_existing_cognite_file\",\n",
    "    name=\"Case 7 Existing Cognite File with Pending ID\",\n",
    ")"
   ],
   "outputs": [],
   "execution_count": 5
  },
  {
   "cell_type": "code",
   "id": "e206dfee525a2d55",
   "metadata": {
    "ExecuteTime": {
     "end_time": "2025-07-18T08:14:06.591744Z",
     "start_time": "2025-07-18T08:14:06.521008Z"
    }
   },
   "source": [
    "# Ensure the file does not exist before running the test\n",
    "try:\n",
    "    client.files.delete(external_id=file.external_id, ignore_unknown_ids=True)\n",
    "except CogniteException as e:\n",
    "    print(f\"\\033[91mError\\033[0m {e.code} {e.message!s}\")\n",
    "    try:\n",
    "        client.data_modeling.instances.delete(CogniteFileApply(space=SPACE, external_id=file.external_id).as_id())\n",
    "    except CogniteException as e:\n",
    "        print(f\"\\033[91mError\\033[0m {e.code} {e.message!s}\")\n",
    "    else:\n",
    "        print(\"\\033[92mFile node deleted successfully\\033[0m\")\n",
    "else:\n",
    "    print(f\"\\033[92mFile with external_id {file.external_id} deleted successfully or did not exists\\033[0m\")"
   ],
   "outputs": [
    {
     "name": "stdout",
     "output_type": "stream",
     "text": [
      "\u001B[92mFile with external_id ts_case7_existing_cognite_file deleted successfully or did not exists\u001B[0m\n"
     ]
    }
   ],
   "execution_count": 6
  },
  {
   "cell_type": "code",
   "id": "c0a8f52a8d2f4064",
   "metadata": {
    "ExecuteTime": {
     "end_time": "2025-07-18T08:14:09.154420Z",
     "start_time": "2025-07-18T08:14:09.049445Z"
    }
   },
   "source": [
    "created, _ = client.files.create(file)\n",
    "created"
   ],
   "outputs": [
    {
     "data": {
      "text/plain": [
       "<cognite.client.data_classes.files.FileMetadata at 0x228bf2aa840>"
      ],
      "text/html": [
       "<div>\n",
       "<style scoped>\n",
       "    .dataframe tbody tr th:only-of-type {\n",
       "        vertical-align: middle;\n",
       "    }\n",
       "\n",
       "    .dataframe tbody tr th {\n",
       "        vertical-align: top;\n",
       "    }\n",
       "\n",
       "    .dataframe thead th {\n",
       "        text-align: right;\n",
       "    }\n",
       "</style>\n",
       "<table border=\"1\" class=\"dataframe\">\n",
       "  <thead>\n",
       "    <tr style=\"text-align: right;\">\n",
       "      <th></th>\n",
       "      <th>value</th>\n",
       "    </tr>\n",
       "  </thead>\n",
       "  <tbody>\n",
       "    <tr>\n",
       "      <th>external_id</th>\n",
       "      <td>ts_case7_existing_cognite_file</td>\n",
       "    </tr>\n",
       "    <tr>\n",
       "      <th>name</th>\n",
       "      <td>Case 7 Existing Cognite File with Pending ID</td>\n",
       "    </tr>\n",
       "    <tr>\n",
       "      <th>labels</th>\n",
       "      <td>[]</td>\n",
       "    </tr>\n",
       "    <tr>\n",
       "      <th>id</th>\n",
       "      <td>4876607908548966</td>\n",
       "    </tr>\n",
       "    <tr>\n",
       "      <th>created_time</th>\n",
       "      <td>2025-07-18 08:14:10.112000</td>\n",
       "    </tr>\n",
       "    <tr>\n",
       "      <th>last_updated_time</th>\n",
       "      <td>2025-07-18 08:14:10.112000</td>\n",
       "    </tr>\n",
       "    <tr>\n",
       "      <th>uploaded</th>\n",
       "      <td>False</td>\n",
       "    </tr>\n",
       "  </tbody>\n",
       "</table>\n",
       "</div>"
      ]
     },
     "execution_count": 7,
     "metadata": {},
     "output_type": "execute_result"
    }
   ],
   "execution_count": 7
  },
  {
   "cell_type": "code",
   "id": "d4a9cbff753e9ea8",
   "metadata": {
    "ExecuteTime": {
     "end_time": "2025-07-18T08:14:11.049531Z",
     "start_time": "2025-07-18T08:14:11.046653Z"
    }
   },
   "source": [
    "cognite_file = CogniteFileApply(\n",
    "    space=SPACE,\n",
    "    external_id=file.external_id,\n",
    "    name=file.name,\n",
    ")"
   ],
   "outputs": [],
   "execution_count": 8
  },
  {
   "cell_type": "code",
   "id": "e8a1e44011d60307",
   "metadata": {
    "ExecuteTime": {
     "end_time": "2025-07-18T08:14:12.562203Z",
     "start_time": "2025-07-18T08:14:12.426124Z"
    }
   },
   "source": [
    "created_dm = client.data_modeling.instances.apply(cognite_file).nodes\n",
    "created_dm"
   ],
   "outputs": [
    {
     "data": {
      "text/plain": [
       "NodeApplyResultList([<NodeApplyResult(space='sp_upgrade', external_id='ts_case7_existing_cognite_file', version=1) at 0x228be1d1790>])"
      ],
      "text/html": [
       "<div>\n",
       "<style scoped>\n",
       "    .dataframe tbody tr th:only-of-type {\n",
       "        vertical-align: middle;\n",
       "    }\n",
       "\n",
       "    .dataframe tbody tr th {\n",
       "        vertical-align: top;\n",
       "    }\n",
       "\n",
       "    .dataframe thead th {\n",
       "        text-align: right;\n",
       "    }\n",
       "</style>\n",
       "<table border=\"1\" class=\"dataframe\">\n",
       "  <thead>\n",
       "    <tr style=\"text-align: right;\">\n",
       "      <th></th>\n",
       "      <th>space</th>\n",
       "      <th>instance_type</th>\n",
       "      <th>external_id</th>\n",
       "      <th>version</th>\n",
       "      <th>was_modified</th>\n",
       "      <th>last_updated_time</th>\n",
       "      <th>created_time</th>\n",
       "    </tr>\n",
       "  </thead>\n",
       "  <tbody>\n",
       "    <tr>\n",
       "      <th>0</th>\n",
       "      <td>sp_upgrade</td>\n",
       "      <td>node</td>\n",
       "      <td>ts_case7_existing_cognite_file</td>\n",
       "      <td>1</td>\n",
       "      <td>False</td>\n",
       "      <td>2025-07-04 10:12:13.503</td>\n",
       "      <td>2025-07-04 10:12:13.503</td>\n",
       "    </tr>\n",
       "  </tbody>\n",
       "</table>\n",
       "</div>"
      ]
     },
     "execution_count": 9,
     "metadata": {},
     "output_type": "execute_result"
    }
   ],
   "execution_count": 9
  },
  {
   "cell_type": "code",
   "id": "f142e9871f5ead33",
   "metadata": {
    "ExecuteTime": {
     "end_time": "2025-07-18T08:14:17.264555Z",
     "start_time": "2025-07-18T08:14:17.216169Z"
    }
   },
   "source": [
    "try:\n",
    "    updated = client.files.set_pending_ids((SPACE, file.external_id), external_id=file.external_id)\n",
    "except CogniteException as e:\n",
    "    print(f\"\\033[91mError\\033[0m {e.code} {e.message!s}\")\n",
    "else:\n",
    "    print(\"This should not happen, as the file already exists in Cognite.\")"
   ],
   "outputs": [
    {
     "name": "stdout",
     "output_type": "stream",
     "text": [
      "\u001B[91mError\u001B[0m 500 Internal server error. Please report this error to support@cognite.com and provide us with your request id: 5ef08ac2-6d0f-9100-acd3-5852059d1dbe and cluster name: az-arn-dev-002\n"
     ]
    }
   ],
   "execution_count": 10
  },
  {
   "cell_type": "code",
   "execution_count": null,
   "id": "880d0635b25b2bea",
   "metadata": {},
   "outputs": [],
   "source": []
  }
 ],
 "metadata": {
  "kernelspec": {
   "display_name": "Python 3 (ipykernel)",
   "language": "python",
   "name": "python3"
  },
  "language_info": {
   "codemirror_mode": {
    "name": "ipython",
    "version": 3
   },
   "file_extension": ".py",
   "mimetype": "text/x-python",
   "name": "python",
   "nbconvert_exporter": "python",
   "pygments_lexer": "ipython3",
   "version": "3.12.1"
  }
 },
 "nbformat": 4,
 "nbformat_minor": 5
}
