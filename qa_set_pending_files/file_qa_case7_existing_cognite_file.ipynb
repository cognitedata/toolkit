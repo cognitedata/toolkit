{
 "cells": [
  {
   "cell_type": "code",
   "execution_count": 11,
   "id": "d1876c38f818028b",
   "metadata": {
    "ExecuteTime": {
     "end_time": "2025-07-18T13:05:57.077991Z",
     "start_time": "2025-07-18T13:05:57.074474Z"
    }
   },
   "outputs": [],
   "source": [
    "from cognite.client.data_classes import FileMetadataWrite\n",
    "from cognite.client.data_classes.data_modeling import SpaceApply\n",
    "from cognite.client.data_classes.data_modeling.cdm.v1 import CogniteFileApply\n",
    "from cognite.client.exceptions import CogniteAPIError, CogniteException\n",
    "\n",
    "from tests.auth_utils import get_toolkit_client"
   ]
  },
  {
   "cell_type": "code",
   "execution_count": 2,
   "id": "165337532a76f8ea",
   "metadata": {
    "ExecuteTime": {
     "end_time": "2025-07-18T13:05:07.443987Z",
     "start_time": "2025-07-18T13:05:07.399856Z"
    }
   },
   "outputs": [
    {
     "name": "stdout",
     "output_type": "stream",
     "text": [
      "Found dev-cluster.env file in repository root. Loaded variables from dev-cluster.env file.\n"
     ]
    }
   ],
   "source": [
    "client = get_toolkit_client(\"dev-cluster.env\", enable_set_pending_ids=True)"
   ]
  },
  {
   "cell_type": "code",
   "execution_count": 3,
   "id": "b9ac07f6123b4180",
   "metadata": {
    "ExecuteTime": {
     "end_time": "2025-07-18T13:05:07.466888Z",
     "start_time": "2025-07-18T13:05:07.463874Z"
    }
   },
   "outputs": [],
   "source": [
    "SPACE = \"sp_upgrade\""
   ]
  },
  {
   "cell_type": "code",
   "execution_count": 4,
   "id": "e422c5b2d8c7d8fe",
   "metadata": {
    "ExecuteTime": {
     "end_time": "2025-07-18T13:05:08.296549Z",
     "start_time": "2025-07-18T13:05:07.482095Z"
    }
   },
   "outputs": [
    {
     "data": {
      "text/html": [
       "<div>\n",
       "<style scoped>\n",
       "    .dataframe tbody tr th:only-of-type {\n",
       "        vertical-align: middle;\n",
       "    }\n",
       "\n",
       "    .dataframe tbody tr th {\n",
       "        vertical-align: top;\n",
       "    }\n",
       "\n",
       "    .dataframe thead th {\n",
       "        text-align: right;\n",
       "    }\n",
       "</style>\n",
       "<table border=\"1\" class=\"dataframe\">\n",
       "  <thead>\n",
       "    <tr style=\"text-align: right;\">\n",
       "      <th></th>\n",
       "      <th>value</th>\n",
       "    </tr>\n",
       "  </thead>\n",
       "  <tbody>\n",
       "    <tr>\n",
       "      <th>space</th>\n",
       "      <td>sp_upgrade</td>\n",
       "    </tr>\n",
       "    <tr>\n",
       "      <th>is_global</th>\n",
       "      <td>False</td>\n",
       "    </tr>\n",
       "    <tr>\n",
       "      <th>last_updated_time</th>\n",
       "      <td>2025-07-04 09:38:40.297000</td>\n",
       "    </tr>\n",
       "    <tr>\n",
       "      <th>created_time</th>\n",
       "      <td>2025-07-04 09:38:40.297000</td>\n",
       "    </tr>\n",
       "  </tbody>\n",
       "</table>\n",
       "</div>"
      ],
      "text/plain": [
       "<Space(space='sp_upgrade') at 0x1e38585dbb0>"
      ]
     },
     "execution_count": 4,
     "metadata": {},
     "output_type": "execute_result"
    }
   ],
   "source": [
    "client.data_modeling.spaces.apply(SpaceApply(space=SPACE))"
   ]
  },
  {
   "cell_type": "markdown",
   "id": "95f3efc7e7a190f9",
   "metadata": {},
   "source": [
    "# Existing Cognite TimeSeries with Pending ID"
   ]
  },
  {
   "cell_type": "code",
   "execution_count": 5,
   "id": "6ec771318a5c3895",
   "metadata": {
    "ExecuteTime": {
     "end_time": "2025-07-18T13:05:08.318253Z",
     "start_time": "2025-07-18T13:05:08.315093Z"
    }
   },
   "outputs": [],
   "source": [
    "file = FileMetadataWrite(\n",
    "    external_id=\"ts_case7_existing_cognite_file\",\n",
    "    name=\"Case 7 Existing Cognite File with Pending ID\",\n",
    ")"
   ]
  },
  {
   "cell_type": "code",
   "execution_count": 6,
   "id": "e206dfee525a2d55",
   "metadata": {
    "ExecuteTime": {
     "end_time": "2025-07-18T13:05:08.505044Z",
     "start_time": "2025-07-18T13:05:08.407315Z"
    }
   },
   "outputs": [
    {
     "name": "stdout",
     "output_type": "stream",
     "text": [
      "\u001b[92mFile with external_id ts_case7_existing_cognite_file deleted successfully or did not exists\u001b[0m\n"
     ]
    }
   ],
   "source": [
    "# Ensure the file does not exist before running the test\n",
    "try:\n",
    "    client.files.delete(external_id=file.external_id, ignore_unknown_ids=True)\n",
    "except CogniteException as e:\n",
    "    print(f\"\\033[91mError\\033[0m {e.code} {e.message!s}\")\n",
    "    try:\n",
    "        client.data_modeling.instances.delete(CogniteFileApply(space=SPACE, external_id=file.external_id).as_id())\n",
    "    except CogniteException as e:\n",
    "        print(f\"\\033[91mError\\033[0m {e.code} {e.message!s}\")\n",
    "    else:\n",
    "        print(\"\\033[92mFile node deleted successfully\\033[0m\")\n",
    "else:\n",
    "    print(f\"\\033[92mFile with external_id {file.external_id} deleted successfully or did not exists\\033[0m\")"
   ]
  },
  {
   "cell_type": "code",
   "execution_count": 7,
   "id": "c0a8f52a8d2f4064",
   "metadata": {
    "ExecuteTime": {
     "end_time": "2025-07-18T13:05:09.932053Z",
     "start_time": "2025-07-18T13:05:09.846036Z"
    }
   },
   "outputs": [
    {
     "data": {
      "text/html": [
       "<div>\n",
       "<style scoped>\n",
       "    .dataframe tbody tr th:only-of-type {\n",
       "        vertical-align: middle;\n",
       "    }\n",
       "\n",
       "    .dataframe tbody tr th {\n",
       "        vertical-align: top;\n",
       "    }\n",
       "\n",
       "    .dataframe thead th {\n",
       "        text-align: right;\n",
       "    }\n",
       "</style>\n",
       "<table border=\"1\" class=\"dataframe\">\n",
       "  <thead>\n",
       "    <tr style=\"text-align: right;\">\n",
       "      <th></th>\n",
       "      <th>value</th>\n",
       "    </tr>\n",
       "  </thead>\n",
       "  <tbody>\n",
       "    <tr>\n",
       "      <th>external_id</th>\n",
       "      <td>ts_case7_existing_cognite_file</td>\n",
       "    </tr>\n",
       "    <tr>\n",
       "      <th>name</th>\n",
       "      <td>Case 7 Existing Cognite File with Pending ID</td>\n",
       "    </tr>\n",
       "    <tr>\n",
       "      <th>labels</th>\n",
       "      <td>[]</td>\n",
       "    </tr>\n",
       "    <tr>\n",
       "      <th>id</th>\n",
       "      <td>8415190945789795</td>\n",
       "    </tr>\n",
       "    <tr>\n",
       "      <th>created_time</th>\n",
       "      <td>2025-07-18 13:05:10.970000</td>\n",
       "    </tr>\n",
       "    <tr>\n",
       "      <th>last_updated_time</th>\n",
       "      <td>2025-07-18 13:05:10.970000</td>\n",
       "    </tr>\n",
       "    <tr>\n",
       "      <th>uploaded</th>\n",
       "      <td>False</td>\n",
       "    </tr>\n",
       "  </tbody>\n",
       "</table>\n",
       "</div>"
      ],
      "text/plain": [
       "<cognite.client.data_classes.files.FileMetadata at 0x1e3861ca720>"
      ]
     },
     "execution_count": 7,
     "metadata": {},
     "output_type": "execute_result"
    }
   ],
   "source": [
    "created, _ = client.files.create(file)\n",
    "created"
   ]
  },
  {
   "cell_type": "code",
   "execution_count": 8,
   "id": "d4a9cbff753e9ea8",
   "metadata": {
    "ExecuteTime": {
     "end_time": "2025-07-18T13:05:11.463342Z",
     "start_time": "2025-07-18T13:05:11.460449Z"
    }
   },
   "outputs": [],
   "source": [
    "cognite_file = CogniteFileApply(\n",
    "    space=SPACE,\n",
    "    external_id=file.external_id,\n",
    "    name=file.name,\n",
    ")"
   ]
  },
  {
   "cell_type": "code",
   "execution_count": 9,
   "id": "e8a1e44011d60307",
   "metadata": {
    "ExecuteTime": {
     "end_time": "2025-07-18T13:05:12.740408Z",
     "start_time": "2025-07-18T13:05:12.632200Z"
    }
   },
   "outputs": [
    {
     "data": {
      "text/html": [
       "<div>\n",
       "<style scoped>\n",
       "    .dataframe tbody tr th:only-of-type {\n",
       "        vertical-align: middle;\n",
       "    }\n",
       "\n",
       "    .dataframe tbody tr th {\n",
       "        vertical-align: top;\n",
       "    }\n",
       "\n",
       "    .dataframe thead th {\n",
       "        text-align: right;\n",
       "    }\n",
       "</style>\n",
       "<table border=\"1\" class=\"dataframe\">\n",
       "  <thead>\n",
       "    <tr style=\"text-align: right;\">\n",
       "      <th></th>\n",
       "      <th>space</th>\n",
       "      <th>instance_type</th>\n",
       "      <th>external_id</th>\n",
       "      <th>version</th>\n",
       "      <th>was_modified</th>\n",
       "      <th>last_updated_time</th>\n",
       "      <th>created_time</th>\n",
       "    </tr>\n",
       "  </thead>\n",
       "  <tbody>\n",
       "    <tr>\n",
       "      <th>0</th>\n",
       "      <td>sp_upgrade</td>\n",
       "      <td>node</td>\n",
       "      <td>ts_case7_existing_cognite_file</td>\n",
       "      <td>1</td>\n",
       "      <td>False</td>\n",
       "      <td>2025-07-04 10:12:13.503</td>\n",
       "      <td>2025-07-04 10:12:13.503</td>\n",
       "    </tr>\n",
       "  </tbody>\n",
       "</table>\n",
       "</div>"
      ],
      "text/plain": [
       "NodeApplyResultList([<NodeApplyResult(space='sp_upgrade', external_id='ts_case7_existing_cognite_file', version=1) at 0x1e3878d2390>])"
      ]
     },
     "execution_count": 9,
     "metadata": {},
     "output_type": "execute_result"
    }
   ],
   "source": [
    "created_dm = client.data_modeling.instances.apply(cognite_file).nodes\n",
    "created_dm"
   ]
  },
  {
   "cell_type": "code",
   "execution_count": 15,
   "id": "f142e9871f5ead33",
   "metadata": {
    "ExecuteTime": {
     "end_time": "2025-07-18T13:08:14.477979Z",
     "start_time": "2025-07-18T13:07:58.107775Z"
    }
   },
   "outputs": [
    {
     "name": "stdout",
     "output_type": "stream",
     "text": [
      "\u001b[91mUnexpected Error\u001b[0m Duplicated: ['sp_upgrade:ts_case7_existing_cognite_file']\n",
      "The API Failed to process some items.\n",
      "Successful (2xx): []\n",
      "Unknown (5xx): []\n",
      "Failed (4xx): [[{'pendingInstanceId': {'space': 'sp_upgrade', 'externalId': 'ts_case7_existing_cognite_file'}, 'externalId': 'ts_case7_existing_cognite_file'}], ...]\n"
     ]
    }
   ],
   "source": [
    "try:\n",
    "    updated = client.files.set_pending_ids((SPACE, file.external_id), external_id=file.external_id)\n",
    "except CogniteException as e:\n",
    "    if isinstance(e, CogniteAPIError):\n",
    "        print(f\"\\033[91mError\\033[0m {e.code} {e.message!s}\")\n",
    "    else:\n",
    "        print(f\"\\033[91mUnexpected Error\\033[0m {e}\")\n",
    "\n",
    "else:\n",
    "    print(\"This should not happen, as the file already exists in Cognite.\")"
   ]
  },
  {
   "cell_type": "code",
   "execution_count": null,
   "id": "880d0635b25b2bea",
   "metadata": {},
   "outputs": [],
   "source": []
  }
 ],
 "metadata": {
  "kernelspec": {
   "display_name": "Python 3 (ipykernel)",
   "language": "python",
   "name": "python3"
  },
  "language_info": {
   "codemirror_mode": {
    "name": "ipython",
    "version": 3
   },
   "file_extension": ".py",
   "mimetype": "text/x-python",
   "name": "python",
   "nbconvert_exporter": "python",
   "pygments_lexer": "ipython3",
   "version": "3.12.1"
  }
 },
 "nbformat": 4,
 "nbformat_minor": 5
}
