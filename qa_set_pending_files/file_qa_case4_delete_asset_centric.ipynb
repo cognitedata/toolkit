{
 "cells": [
  {
   "cell_type": "code",
   "execution_count": 6,
   "id": "be9674a0433ca199",
   "metadata": {
    "ExecuteTime": {
     "end_time": "2025-07-04T10:03:15.069853Z",
     "start_time": "2025-07-04T10:03:15.066874Z"
    }
   },
   "outputs": [],
   "source": [
    "from cognite.client.data_classes import FileMetadataWrite\n",
    "from cognite.client.data_classes.data_modeling import SpaceApply\n",
    "from cognite.client.data_classes.data_modeling.cdm.v1 import CogniteFileApply\n",
    "from cognite.client.exceptions import CogniteException\n",
    "\n",
    "from tests.auth_utils import get_toolkit_client"
   ]
  },
  {
   "cell_type": "code",
   "execution_count": 7,
   "id": "92ac697ef17e2ff1",
   "metadata": {
    "ExecuteTime": {
     "end_time": "2025-07-04T10:03:15.396780Z",
     "start_time": "2025-07-04T10:03:15.359178Z"
    }
   },
   "outputs": [
    {
     "name": "stdout",
     "output_type": "stream",
     "text": [
      "Found dev-cluster.env file in repository root. Loaded variables from dev-cluster.env file.\n"
     ]
    }
   ],
   "source": [
    "client = get_toolkit_client(\"dev-cluster.env\", enable_set_pending_ids=True)"
   ]
  },
  {
   "cell_type": "code",
   "execution_count": 8,
   "id": "efd5b82f7484db7f",
   "metadata": {
    "ExecuteTime": {
     "end_time": "2025-07-04T10:03:15.733471Z",
     "start_time": "2025-07-04T10:03:15.731046Z"
    }
   },
   "outputs": [],
   "source": [
    "SPACE = \"sp_upgrade\""
   ]
  },
  {
   "cell_type": "code",
   "execution_count": 9,
   "id": "738ce232a75bf5e9",
   "metadata": {
    "ExecuteTime": {
     "end_time": "2025-07-04T10:03:16.947871Z",
     "start_time": "2025-07-04T10:03:16.080455Z"
    }
   },
   "outputs": [
    {
     "data": {
      "text/html": [
       "<div>\n",
       "<style scoped>\n",
       "    .dataframe tbody tr th:only-of-type {\n",
       "        vertical-align: middle;\n",
       "    }\n",
       "\n",
       "    .dataframe tbody tr th {\n",
       "        vertical-align: top;\n",
       "    }\n",
       "\n",
       "    .dataframe thead th {\n",
       "        text-align: right;\n",
       "    }\n",
       "</style>\n",
       "<table border=\"1\" class=\"dataframe\">\n",
       "  <thead>\n",
       "    <tr style=\"text-align: right;\">\n",
       "      <th></th>\n",
       "      <th>value</th>\n",
       "    </tr>\n",
       "  </thead>\n",
       "  <tbody>\n",
       "    <tr>\n",
       "      <th>space</th>\n",
       "      <td>sp_upgrade</td>\n",
       "    </tr>\n",
       "    <tr>\n",
       "      <th>is_global</th>\n",
       "      <td>False</td>\n",
       "    </tr>\n",
       "    <tr>\n",
       "      <th>last_updated_time</th>\n",
       "      <td>2025-07-04 09:38:40.297000</td>\n",
       "    </tr>\n",
       "    <tr>\n",
       "      <th>created_time</th>\n",
       "      <td>2025-07-04 09:38:40.297000</td>\n",
       "    </tr>\n",
       "  </tbody>\n",
       "</table>\n",
       "</div>"
      ],
      "text/plain": [
       "<Space(space='sp_upgrade') at 0x256301b49b0>"
      ]
     },
     "execution_count": 9,
     "metadata": {},
     "output_type": "execute_result"
    }
   ],
   "source": [
    "client.data_modeling.spaces.apply(SpaceApply(space=SPACE))"
   ]
  },
  {
   "cell_type": "markdown",
   "id": "95f3efc7e7a190f9",
   "metadata": {},
   "source": "# Delete Asset-Centric FileMetadata"
  },
  {
   "cell_type": "code",
   "execution_count": 10,
   "id": "79f0da67a361053a",
   "metadata": {
    "ExecuteTime": {
     "end_time": "2025-07-04T10:03:23.568927Z",
     "start_time": "2025-07-04T10:03:23.564986Z"
    }
   },
   "outputs": [],
   "source": [
    "file = FileMetadataWrite(\n",
    "    external_id=\"ts_case4_delete_asset_centric\",\n",
    "    name=\"Case 4 Cascading Delete\",\n",
    ")"
   ]
  },
  {
   "cell_type": "code",
   "execution_count": 11,
   "id": "3c994fd1529f2f23",
   "metadata": {
    "ExecuteTime": {
     "end_time": "2025-07-04T10:03:24.776044Z",
     "start_time": "2025-07-04T10:03:24.670383Z"
    }
   },
   "outputs": [
    {
     "data": {
      "text/html": [
       "<div>\n",
       "<style scoped>\n",
       "    .dataframe tbody tr th:only-of-type {\n",
       "        vertical-align: middle;\n",
       "    }\n",
       "\n",
       "    .dataframe tbody tr th {\n",
       "        vertical-align: top;\n",
       "    }\n",
       "\n",
       "    .dataframe thead th {\n",
       "        text-align: right;\n",
       "    }\n",
       "</style>\n",
       "<table border=\"1\" class=\"dataframe\">\n",
       "  <thead>\n",
       "    <tr style=\"text-align: right;\">\n",
       "      <th></th>\n",
       "      <th>value</th>\n",
       "    </tr>\n",
       "  </thead>\n",
       "  <tbody>\n",
       "    <tr>\n",
       "      <th>external_id</th>\n",
       "      <td>ts_case4_delete_asset_centric</td>\n",
       "    </tr>\n",
       "    <tr>\n",
       "      <th>name</th>\n",
       "      <td>Case 4 Cascading Delete</td>\n",
       "    </tr>\n",
       "    <tr>\n",
       "      <th>labels</th>\n",
       "      <td>[]</td>\n",
       "    </tr>\n",
       "    <tr>\n",
       "      <th>id</th>\n",
       "      <td>7849972293300329</td>\n",
       "    </tr>\n",
       "    <tr>\n",
       "      <th>created_time</th>\n",
       "      <td>2025-07-04 10:03:24.741000</td>\n",
       "    </tr>\n",
       "    <tr>\n",
       "      <th>last_updated_time</th>\n",
       "      <td>2025-07-04 10:03:24.741000</td>\n",
       "    </tr>\n",
       "    <tr>\n",
       "      <th>uploaded</th>\n",
       "      <td>False</td>\n",
       "    </tr>\n",
       "  </tbody>\n",
       "</table>\n",
       "</div>"
      ],
      "text/plain": [
       "<cognite.client.data_classes.files.FileMetadata at 0x2563131a510>"
      ]
     },
     "execution_count": 11,
     "metadata": {},
     "output_type": "execute_result"
    }
   ],
   "source": [
    "created, _ = client.files.create(file)\n",
    "created"
   ]
  },
  {
   "cell_type": "code",
   "execution_count": 12,
   "id": "85f21d4d3389c3ec",
   "metadata": {
    "ExecuteTime": {
     "end_time": "2025-07-04T10:03:26.446620Z",
     "start_time": "2025-07-04T10:03:26.443376Z"
    }
   },
   "outputs": [],
   "source": [
    "filecontent = b\"This is filecontent\""
   ]
  },
  {
   "cell_type": "code",
   "execution_count": 13,
   "id": "4415da2c48299bce",
   "metadata": {
    "ExecuteTime": {
     "end_time": "2025-07-04T10:03:26.960492Z",
     "start_time": "2025-07-04T10:03:26.860528Z"
    }
   },
   "outputs": [
    {
     "data": {
      "text/html": [
       "<div>\n",
       "<style scoped>\n",
       "    .dataframe tbody tr th:only-of-type {\n",
       "        vertical-align: middle;\n",
       "    }\n",
       "\n",
       "    .dataframe tbody tr th {\n",
       "        vertical-align: top;\n",
       "    }\n",
       "\n",
       "    .dataframe thead th {\n",
       "        text-align: right;\n",
       "    }\n",
       "</style>\n",
       "<table border=\"1\" class=\"dataframe\">\n",
       "  <thead>\n",
       "    <tr style=\"text-align: right;\">\n",
       "      <th></th>\n",
       "      <th>value</th>\n",
       "    </tr>\n",
       "  </thead>\n",
       "  <tbody>\n",
       "    <tr>\n",
       "      <th>external_id</th>\n",
       "      <td>ts_case4_delete_asset_centric</td>\n",
       "    </tr>\n",
       "    <tr>\n",
       "      <th>name</th>\n",
       "      <td>Case 4 Cascading Delete</td>\n",
       "    </tr>\n",
       "    <tr>\n",
       "      <th>id</th>\n",
       "      <td>7849972293300329</td>\n",
       "    </tr>\n",
       "    <tr>\n",
       "      <th>created_time</th>\n",
       "      <td>2025-07-04 10:03:24.741000</td>\n",
       "    </tr>\n",
       "    <tr>\n",
       "      <th>last_updated_time</th>\n",
       "      <td>2025-07-04 10:03:24.741000</td>\n",
       "    </tr>\n",
       "    <tr>\n",
       "      <th>uploaded</th>\n",
       "      <td>False</td>\n",
       "    </tr>\n",
       "  </tbody>\n",
       "</table>\n",
       "</div>"
      ],
      "text/plain": [
       "<cognite.client.data_classes.files.FileMetadata at 0x256302957c0>"
      ]
     },
     "execution_count": 13,
     "metadata": {},
     "output_type": "execute_result"
    }
   ],
   "source": [
    "client.files.upload_content_bytes(filecontent, external_id=created.external_id)"
   ]
  },
  {
   "cell_type": "code",
   "execution_count": null,
   "id": "8d51aed89ff9524a",
   "metadata": {},
   "outputs": [],
   "source": [
    "try:\n",
    "    updated = client.files.set_pending_ids((SPACE, file.external_id), external_id=file.external_id)\n",
    "except CogniteException as e:\n",
    "    print(f\"\\033[91mError\\033[0m {e.code} {e.message!s}\")\n",
    "else:\n",
    "    updated"
   ]
  },
  {
   "cell_type": "code",
   "execution_count": null,
   "id": "113f1e1fe014e5c9",
   "metadata": {},
   "outputs": [],
   "source": [
    "cognite_file = CogniteFileApply(\n",
    "    space=SPACE,\n",
    "    external_id=file.external_id,\n",
    "    name=file.name,\n",
    ")"
   ]
  },
  {
   "cell_type": "code",
   "execution_count": null,
   "id": "521e41d357e7eba2",
   "metadata": {},
   "outputs": [],
   "source": [
    "created_dm = client.data_modeling.instances.apply(cognite_file).nodes\n",
    "created_dm"
   ]
  },
  {
   "cell_type": "code",
   "execution_count": null,
   "id": "2decaf73c7b7a698",
   "metadata": {},
   "outputs": [],
   "source": [
    "retrieved_ts = client.files.retrieve(external_id=file.external_id)\n",
    "retrieved_ts"
   ]
  },
  {
   "cell_type": "code",
   "execution_count": null,
   "id": "60e1858800b4f547",
   "metadata": {},
   "outputs": [],
   "source": [
    "try:\n",
    "    client.time_series.delete(external_id=file.external_id)\n",
    "except CogniteException as e:\n",
    "    print(f\"\\033[91mError\\033[0m {e.code} {e.message!s}\")\n",
    "else:\n",
    "    print(f\"Deleted Time Series with external_id: {file.external_id}\")"
   ]
  },
  {
   "cell_type": "code",
   "execution_count": null,
   "id": "e843bcbaa7714f12",
   "metadata": {},
   "outputs": [],
   "source": []
  }
 ],
 "metadata": {
  "kernelspec": {
   "display_name": "Python 3",
   "language": "python",
   "name": "python3"
  },
  "language_info": {
   "codemirror_mode": {
    "name": "ipython",
    "version": 2
   },
   "file_extension": ".py",
   "mimetype": "text/x-python",
   "name": "python",
   "nbconvert_exporter": "python",
   "pygments_lexer": "ipython2",
   "version": "2.7.6"
  }
 },
 "nbformat": 4,
 "nbformat_minor": 5
}
