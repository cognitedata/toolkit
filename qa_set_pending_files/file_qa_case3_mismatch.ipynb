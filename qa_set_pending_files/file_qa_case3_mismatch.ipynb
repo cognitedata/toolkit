{
 "cells": [
  {
   "cell_type": "code",
   "execution_count": 7,
   "id": "43251e9b5a44a14d",
   "metadata": {
    "ExecuteTime": {
     "end_time": "2025-07-04T09:59:46.742260Z",
     "start_time": "2025-07-04T09:59:46.739016Z"
    }
   },
   "outputs": [],
   "source": [
    "from cognite.client.data_classes import FileMetadataWrite\n",
    "from cognite.client.data_classes.data_modeling import SpaceApply\n",
    "from cognite.client.data_classes.data_modeling.cdm.v1 import CogniteFile, CogniteFileApply\n",
    "from cognite.client.exceptions import CogniteException\n",
    "\n",
    "from tests.auth_utils import get_toolkit_client"
   ]
  },
  {
   "cell_type": "code",
   "execution_count": 3,
   "id": "7305ffa9709789dc",
   "metadata": {
    "ExecuteTime": {
     "end_time": "2025-07-04T09:55:11.358872Z",
     "start_time": "2025-07-04T09:55:11.319784Z"
    }
   },
   "outputs": [
    {
     "name": "stdout",
     "output_type": "stream",
     "text": [
      "Found dev-cluster.env file in repository root. Loaded variables from dev-cluster.env file.\n"
     ]
    }
   ],
   "source": [
    "client = get_toolkit_client(\"dev-cluster.env\", enable_set_pending_ids=True)"
   ]
  },
  {
   "cell_type": "code",
   "execution_count": 4,
   "id": "5f88547c7634dea0",
   "metadata": {
    "ExecuteTime": {
     "end_time": "2025-07-04T09:55:11.368320Z",
     "start_time": "2025-07-04T09:55:11.365253Z"
    }
   },
   "outputs": [],
   "source": [
    "SPACE = \"sp_upgrade\""
   ]
  },
  {
   "cell_type": "code",
   "execution_count": 5,
   "id": "38b3e4377780d175",
   "metadata": {
    "ExecuteTime": {
     "end_time": "2025-07-04T09:55:12.971344Z",
     "start_time": "2025-07-04T09:55:11.984462Z"
    }
   },
   "outputs": [
    {
     "data": {
      "text/html": [
       "<div>\n",
       "<style scoped>\n",
       "    .dataframe tbody tr th:only-of-type {\n",
       "        vertical-align: middle;\n",
       "    }\n",
       "\n",
       "    .dataframe tbody tr th {\n",
       "        vertical-align: top;\n",
       "    }\n",
       "\n",
       "    .dataframe thead th {\n",
       "        text-align: right;\n",
       "    }\n",
       "</style>\n",
       "<table border=\"1\" class=\"dataframe\">\n",
       "  <thead>\n",
       "    <tr style=\"text-align: right;\">\n",
       "      <th></th>\n",
       "      <th>value</th>\n",
       "    </tr>\n",
       "  </thead>\n",
       "  <tbody>\n",
       "    <tr>\n",
       "      <th>space</th>\n",
       "      <td>sp_upgrade</td>\n",
       "    </tr>\n",
       "    <tr>\n",
       "      <th>is_global</th>\n",
       "      <td>False</td>\n",
       "    </tr>\n",
       "    <tr>\n",
       "      <th>last_updated_time</th>\n",
       "      <td>2025-07-04 09:38:40.297000</td>\n",
       "    </tr>\n",
       "    <tr>\n",
       "      <th>created_time</th>\n",
       "      <td>2025-07-04 09:38:40.297000</td>\n",
       "    </tr>\n",
       "  </tbody>\n",
       "</table>\n",
       "</div>"
      ],
      "text/plain": [
       "<Space(space='sp_upgrade') at 0x21e2f46a480>"
      ]
     },
     "execution_count": 5,
     "metadata": {},
     "output_type": "execute_result"
    }
   ],
   "source": [
    "client.data_modeling.spaces.apply(SpaceApply(space=SPACE))"
   ]
  },
  {
   "cell_type": "markdown",
   "id": "5faa53ae9a442fce",
   "metadata": {},
   "source": "# Mismatch Cognite/Asset-Centric"
  },
  {
   "cell_type": "code",
   "execution_count": null,
   "id": "b7f901ebe9d8b050",
   "metadata": {},
   "outputs": [],
   "source": [
    "file = FileMetadataWrite(\n",
    "    external_id=\"ts_case3_mismatch\",\n",
    "    name=\"Case 3 Mismatch Cognite/Asset-Centric\",\n",
    ")"
   ]
  },
  {
   "cell_type": "code",
   "execution_count": null,
   "id": "2c6abace944210dd",
   "metadata": {},
   "outputs": [],
   "source": [
    "created, _ = client.files.create(file)\n",
    "created"
   ]
  },
  {
   "cell_type": "code",
   "execution_count": null,
   "id": "d31e7a3de62359ba",
   "metadata": {},
   "outputs": [],
   "source": [
    "filecontent = b\"This is filecontent\""
   ]
  },
  {
   "cell_type": "code",
   "execution_count": null,
   "id": "def1e7af2e997e51",
   "metadata": {},
   "outputs": [],
   "source": [
    "client.files.upload_content_bytes(filecontent, external_id=created.external_id)"
   ]
  },
  {
   "cell_type": "code",
   "execution_count": null,
   "id": "e61a85010434a232",
   "metadata": {},
   "outputs": [],
   "source": [
    "try:\n",
    "    updated = client.files.set_pending_ids((SPACE, file.external_id), external_id=file.external_id)\n",
    "except CogniteException as e:\n",
    "    print(f\"\\033[91mError\\033[0m {e.code} {e.message!s}\")\n",
    "else:\n",
    "    updated"
   ]
  },
  {
   "cell_type": "code",
   "execution_count": null,
   "id": "366f9572de3284ec",
   "metadata": {},
   "outputs": [],
   "source": [
    "cognite_file = CogniteFileApply(\n",
    "    space=SPACE,\n",
    "    external_id=file.external_id,\n",
    "    name=\"Another name for Case 3 Mismatch\",\n",
    ")"
   ]
  },
  {
   "cell_type": "code",
   "execution_count": null,
   "id": "d61dd5ffc4a316a5",
   "metadata": {},
   "outputs": [],
   "source": [
    "created_dm = client.data_modeling.instances.apply(cognite_file).nodes\n",
    "created_dm"
   ]
  },
  {
   "cell_type": "code",
   "execution_count": null,
   "id": "60e813629a64b077",
   "metadata": {},
   "outputs": [],
   "source": [
    "retrieved_file = client.file.retrieve(external_id=file.external_id)"
   ]
  },
  {
   "cell_type": "code",
   "execution_count": null,
   "id": "5fe0b66ca404b507",
   "metadata": {},
   "outputs": [],
   "source": [
    "retrieved_file"
   ]
  },
  {
   "cell_type": "code",
   "execution_count": null,
   "id": "c0828d17f6db451f",
   "metadata": {},
   "outputs": [],
   "source": [
    "retrieved_cognite_file = client.data_modeling.instances.retrieve_nodes(cognite_file.as_id(), node_cls=CogniteFile)"
   ]
  },
  {
   "cell_type": "code",
   "execution_count": null,
   "id": "4e246af3b7507e8a",
   "metadata": {},
   "outputs": [],
   "source": [
    "retrieved_cognite_file"
   ]
  },
  {
   "cell_type": "code",
   "execution_count": null,
   "id": "3012389c5886fb52",
   "metadata": {},
   "outputs": [],
   "source": [
    "retrieved_cognite_ts_classic = client.files.retrieve(instance_id=cognite_file.as_id())\n",
    "retrieved_cognite_ts_classic"
   ]
  },
  {
   "cell_type": "code",
   "execution_count": null,
   "id": "20222f31fe955e0e",
   "metadata": {},
   "outputs": [],
   "source": []
  }
 ],
 "metadata": {
  "kernelspec": {
   "display_name": "Python 3 (ipykernel)",
   "language": "python",
   "name": "python3"
  },
  "language_info": {
   "codemirror_mode": {
    "name": "ipython",
    "version": 3
   },
   "file_extension": ".py",
   "mimetype": "text/x-python",
   "name": "python",
   "nbconvert_exporter": "python",
   "pygments_lexer": "ipython3",
   "version": "3.12.1"
  }
 },
 "nbformat": 4,
 "nbformat_minor": 5
}
