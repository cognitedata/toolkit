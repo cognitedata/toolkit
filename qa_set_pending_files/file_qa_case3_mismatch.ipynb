{
 "cells": [
  {
   "cell_type": "code",
   "id": "cd982d434688f397",
   "metadata": {
    "ExecuteTime": {
     "end_time": "2025-07-28T11:13:48.469613Z",
     "start_time": "2025-07-28T11:13:47.259508Z"
    }
   },
   "source": [
    "from cognite.client.data_classes import FileMetadataWrite\n",
    "from cognite.client.data_classes.data_modeling import SpaceApply\n",
    "from cognite.client.data_classes.data_modeling.cdm.v1 import CogniteFile, CogniteFileApply\n",
    "from cognite.client.exceptions import CogniteException\n",
    "from IPython.display import display\n",
    "\n",
    "from tests.auth_utils import get_toolkit_client"
   ],
   "outputs": [],
   "execution_count": 1
  },
  {
   "cell_type": "code",
   "id": "f69e8f8197e7dc77",
   "metadata": {
    "ExecuteTime": {
     "end_time": "2025-07-28T11:13:49.361088Z",
     "start_time": "2025-07-28T11:13:49.318067Z"
    }
   },
   "source": [
    "client = get_toolkit_client(\"dev-cluster.env\", enable_set_pending_ids=True)"
   ],
   "outputs": [
    {
     "name": "stdout",
     "output_type": "stream",
     "text": [
      "Found dev-cluster.env file in repository root. Loaded variables from dev-cluster.env file.\n"
     ]
    }
   ],
   "execution_count": 2
  },
  {
   "cell_type": "code",
   "id": "5f88547c7634dea0",
   "metadata": {
    "ExecuteTime": {
     "end_time": "2025-07-28T11:13:49.367744Z",
     "start_time": "2025-07-28T11:13:49.365291Z"
    }
   },
   "source": [
    "SPACE = \"sp_upgrade\""
   ],
   "outputs": [],
   "execution_count": 3
  },
  {
   "cell_type": "code",
   "id": "38b3e4377780d175",
   "metadata": {
    "ExecuteTime": {
     "end_time": "2025-07-28T11:13:50.238973Z",
     "start_time": "2025-07-28T11:13:49.384172Z"
    }
   },
   "source": [
    "client.data_modeling.spaces.apply(SpaceApply(space=SPACE))"
   ],
   "outputs": [
    {
     "data": {
      "text/plain": [
       "<Space(space='sp_upgrade') at 0x17d099cef90>"
      ],
      "text/html": [
       "<div>\n",
       "<style scoped>\n",
       "    .dataframe tbody tr th:only-of-type {\n",
       "        vertical-align: middle;\n",
       "    }\n",
       "\n",
       "    .dataframe tbody tr th {\n",
       "        vertical-align: top;\n",
       "    }\n",
       "\n",
       "    .dataframe thead th {\n",
       "        text-align: right;\n",
       "    }\n",
       "</style>\n",
       "<table border=\"1\" class=\"dataframe\">\n",
       "  <thead>\n",
       "    <tr style=\"text-align: right;\">\n",
       "      <th></th>\n",
       "      <th>value</th>\n",
       "    </tr>\n",
       "  </thead>\n",
       "  <tbody>\n",
       "    <tr>\n",
       "      <th>space</th>\n",
       "      <td>sp_upgrade</td>\n",
       "    </tr>\n",
       "    <tr>\n",
       "      <th>is_global</th>\n",
       "      <td>False</td>\n",
       "    </tr>\n",
       "    <tr>\n",
       "      <th>last_updated_time</th>\n",
       "      <td>2025-07-04 09:38:40.297000</td>\n",
       "    </tr>\n",
       "    <tr>\n",
       "      <th>created_time</th>\n",
       "      <td>2025-07-04 09:38:40.297000</td>\n",
       "    </tr>\n",
       "  </tbody>\n",
       "</table>\n",
       "</div>"
      ]
     },
     "execution_count": 4,
     "metadata": {},
     "output_type": "execute_result"
    }
   ],
   "execution_count": 4
  },
  {
   "cell_type": "markdown",
   "id": "5faa53ae9a442fce",
   "metadata": {},
   "source": "# Mismatch Cognite/Asset-Centric"
  },
  {
   "cell_type": "code",
   "id": "701e752e79c443ed",
   "metadata": {
    "ExecuteTime": {
     "end_time": "2025-07-28T11:13:50.261687Z",
     "start_time": "2025-07-28T11:13:50.259508Z"
    }
   },
   "source": [
    "file = FileMetadataWrite(\n",
    "    external_id=\"ts_case3_mismatch2\",\n",
    "    name=\"Case 3 Mismatch Cognite-Asset-Centric\",\n",
    ")"
   ],
   "outputs": [],
   "execution_count": 5
  },
  {
   "cell_type": "code",
   "id": "4329f496948f3863",
   "metadata": {
    "ExecuteTime": {
     "end_time": "2025-07-28T11:13:50.663255Z",
     "start_time": "2025-07-28T11:13:50.353971Z"
    }
   },
   "source": [
    "# Ensure the file does not exist before running the test\n",
    "try:\n",
    "    client.files.delete(external_id=file.external_id, ignore_unknown_ids=True)\n",
    "except CogniteException as e:\n",
    "    print(f\"\\033[91mError\\033[0m {e.code} {e.message!s}\")\n",
    "    try:\n",
    "        client.data_modeling.instances.delete(CogniteFileApply(space=SPACE, external_id=file.external_id).as_id())\n",
    "    except CogniteException as e:\n",
    "        print(f\"\\033[91mError\\033[0m {e.code} {e.message!s}\")\n",
    "    else:\n",
    "        print(\"\\033[92mFile node deleted successfully\\033[0m\")\n",
    "else:\n",
    "    print(f\"\\033[92mFile with external_id {file.external_id} deleted successfully or did not exists\\033[0m\")"
   ],
   "outputs": [
    {
     "name": "stdout",
     "output_type": "stream",
     "text": [
      "\u001B[91mError\u001B[0m 403 Resource not found. This may also be due to insufficient access rights.\n",
      "\u001B[92mFile node deleted successfully\u001B[0m\n"
     ]
    }
   ],
   "execution_count": 6
  },
  {
   "cell_type": "code",
   "id": "868e5e7489438890",
   "metadata": {
    "ExecuteTime": {
     "end_time": "2025-07-28T11:13:51.881775Z",
     "start_time": "2025-07-28T11:13:51.822454Z"
    }
   },
   "source": [
    "created, _ = client.files.create(file)\n",
    "created"
   ],
   "outputs": [
    {
     "data": {
      "text/plain": [
       "<cognite.client.data_classes.files.FileMetadata at 0x17d099d7b60>"
      ],
      "text/html": [
       "<div>\n",
       "<style scoped>\n",
       "    .dataframe tbody tr th:only-of-type {\n",
       "        vertical-align: middle;\n",
       "    }\n",
       "\n",
       "    .dataframe tbody tr th {\n",
       "        vertical-align: top;\n",
       "    }\n",
       "\n",
       "    .dataframe thead th {\n",
       "        text-align: right;\n",
       "    }\n",
       "</style>\n",
       "<table border=\"1\" class=\"dataframe\">\n",
       "  <thead>\n",
       "    <tr style=\"text-align: right;\">\n",
       "      <th></th>\n",
       "      <th>value</th>\n",
       "    </tr>\n",
       "  </thead>\n",
       "  <tbody>\n",
       "    <tr>\n",
       "      <th>external_id</th>\n",
       "      <td>ts_case3_mismatch2</td>\n",
       "    </tr>\n",
       "    <tr>\n",
       "      <th>name</th>\n",
       "      <td>Case 3 Mismatch Cognite-Asset-Centric</td>\n",
       "    </tr>\n",
       "    <tr>\n",
       "      <th>labels</th>\n",
       "      <td>[]</td>\n",
       "    </tr>\n",
       "    <tr>\n",
       "      <th>id</th>\n",
       "      <td>3367238008129687</td>\n",
       "    </tr>\n",
       "    <tr>\n",
       "      <th>created_time</th>\n",
       "      <td>2025-07-28 11:13:52.494000</td>\n",
       "    </tr>\n",
       "    <tr>\n",
       "      <th>last_updated_time</th>\n",
       "      <td>2025-07-28 11:13:52.494000</td>\n",
       "    </tr>\n",
       "    <tr>\n",
       "      <th>uploaded</th>\n",
       "      <td>False</td>\n",
       "    </tr>\n",
       "  </tbody>\n",
       "</table>\n",
       "</div>"
      ]
     },
     "execution_count": 7,
     "metadata": {},
     "output_type": "execute_result"
    }
   ],
   "execution_count": 7
  },
  {
   "cell_type": "code",
   "id": "118c236ca45beedc",
   "metadata": {
    "ExecuteTime": {
     "end_time": "2025-07-28T11:13:52.946963Z",
     "start_time": "2025-07-28T11:13:52.943476Z"
    }
   },
   "source": [
    "filecontent = b\"This is filecontent\""
   ],
   "outputs": [],
   "execution_count": 8
  },
  {
   "cell_type": "code",
   "id": "def1e7af2e997e51",
   "metadata": {
    "ExecuteTime": {
     "end_time": "2025-07-28T11:13:53.412528Z",
     "start_time": "2025-07-28T11:13:53.310380Z"
    }
   },
   "source": [
    "client.files.upload_content_bytes(filecontent, external_id=created.external_id)"
   ],
   "outputs": [
    {
     "data": {
      "text/plain": [
       "<cognite.client.data_classes.files.FileMetadata at 0x17d099e0e10>"
      ],
      "text/html": [
       "<div>\n",
       "<style scoped>\n",
       "    .dataframe tbody tr th:only-of-type {\n",
       "        vertical-align: middle;\n",
       "    }\n",
       "\n",
       "    .dataframe tbody tr th {\n",
       "        vertical-align: top;\n",
       "    }\n",
       "\n",
       "    .dataframe thead th {\n",
       "        text-align: right;\n",
       "    }\n",
       "</style>\n",
       "<table border=\"1\" class=\"dataframe\">\n",
       "  <thead>\n",
       "    <tr style=\"text-align: right;\">\n",
       "      <th></th>\n",
       "      <th>value</th>\n",
       "    </tr>\n",
       "  </thead>\n",
       "  <tbody>\n",
       "    <tr>\n",
       "      <th>external_id</th>\n",
       "      <td>ts_case3_mismatch2</td>\n",
       "    </tr>\n",
       "    <tr>\n",
       "      <th>name</th>\n",
       "      <td>Case 3 Mismatch Cognite-Asset-Centric</td>\n",
       "    </tr>\n",
       "    <tr>\n",
       "      <th>id</th>\n",
       "      <td>3367238008129687</td>\n",
       "    </tr>\n",
       "    <tr>\n",
       "      <th>created_time</th>\n",
       "      <td>2025-07-28 11:13:52.494000</td>\n",
       "    </tr>\n",
       "    <tr>\n",
       "      <th>last_updated_time</th>\n",
       "      <td>2025-07-28 11:13:52.494000</td>\n",
       "    </tr>\n",
       "    <tr>\n",
       "      <th>uploaded</th>\n",
       "      <td>False</td>\n",
       "    </tr>\n",
       "  </tbody>\n",
       "</table>\n",
       "</div>"
      ]
     },
     "execution_count": 9,
     "metadata": {},
     "output_type": "execute_result"
    }
   ],
   "execution_count": 9
  },
  {
   "cell_type": "code",
   "id": "871d9f5737413b63",
   "metadata": {
    "ExecuteTime": {
     "end_time": "2025-07-28T11:13:54.747908Z",
     "start_time": "2025-07-28T11:13:54.696783Z"
    }
   },
   "source": [
    "try:\n",
    "    updated = client.files.set_pending_ids((SPACE, file.external_id), external_id=file.external_id)\n",
    "except CogniteException as e:\n",
    "    print(f\"\\033[91mError\\033[0m {e.code} {e.message!s}\")\n",
    "else:\n",
    "    display(updated)"
   ],
   "outputs": [
    {
     "data": {
      "text/plain": [
       "<cognite_toolkit._cdf_tk.client.data_classes.extended_filemetadata.ExtendedFileMetadata at 0x17d099d7a10>"
      ],
      "text/html": [
       "<div>\n",
       "<style scoped>\n",
       "    .dataframe tbody tr th:only-of-type {\n",
       "        vertical-align: middle;\n",
       "    }\n",
       "\n",
       "    .dataframe tbody tr th {\n",
       "        vertical-align: top;\n",
       "    }\n",
       "\n",
       "    .dataframe thead th {\n",
       "        text-align: right;\n",
       "    }\n",
       "</style>\n",
       "<table border=\"1\" class=\"dataframe\">\n",
       "  <thead>\n",
       "    <tr style=\"text-align: right;\">\n",
       "      <th></th>\n",
       "      <th>value</th>\n",
       "    </tr>\n",
       "  </thead>\n",
       "  <tbody>\n",
       "    <tr>\n",
       "      <th>external_id</th>\n",
       "      <td>ts_case3_mismatch2</td>\n",
       "    </tr>\n",
       "    <tr>\n",
       "      <th>name</th>\n",
       "      <td>Case 3 Mismatch Cognite-Asset-Centric</td>\n",
       "    </tr>\n",
       "    <tr>\n",
       "      <th>id</th>\n",
       "      <td>3367238008129687</td>\n",
       "    </tr>\n",
       "    <tr>\n",
       "      <th>created_time</th>\n",
       "      <td>2025-07-28 11:13:52.494000</td>\n",
       "    </tr>\n",
       "    <tr>\n",
       "      <th>last_updated_time</th>\n",
       "      <td>2025-07-28 11:13:55.373000</td>\n",
       "    </tr>\n",
       "    <tr>\n",
       "      <th>uploaded</th>\n",
       "      <td>True</td>\n",
       "    </tr>\n",
       "    <tr>\n",
       "      <th>uploaded_time</th>\n",
       "      <td>2025-07-28 11:13:54.050000</td>\n",
       "    </tr>\n",
       "    <tr>\n",
       "      <th>pending_instance_id</th>\n",
       "      <td>{'space': 'sp_upgrade', 'external_id': 'ts_cas...</td>\n",
       "    </tr>\n",
       "  </tbody>\n",
       "</table>\n",
       "</div>"
      ]
     },
     "metadata": {},
     "output_type": "display_data"
    }
   ],
   "execution_count": 10
  },
  {
   "cell_type": "code",
   "id": "e22a853b276e3cd6",
   "metadata": {
    "ExecuteTime": {
     "end_time": "2025-07-28T11:13:56.048885Z",
     "start_time": "2025-07-28T11:13:56.045146Z"
    }
   },
   "source": [
    "cognite_file = CogniteFileApply(\n",
    "    space=SPACE,\n",
    "    external_id=file.external_id,\n",
    "    name=\"Another name for Case 3 Mismatch\",\n",
    ")"
   ],
   "outputs": [],
   "execution_count": 11
  },
  {
   "cell_type": "code",
   "id": "50e248bdf2a43523",
   "metadata": {
    "ExecuteTime": {
     "end_time": "2025-07-28T11:13:56.614443Z",
     "start_time": "2025-07-28T11:13:56.494742Z"
    }
   },
   "source": [
    "created_dm = client.data_modeling.instances.apply(cognite_file).nodes\n",
    "created_dm"
   ],
   "outputs": [
    {
     "data": {
      "text/plain": [
       "NodeApplyResultList([<NodeApplyResult(space='sp_upgrade', external_id='ts_case3_mismatch2', version=1) at 0x17d56d71be0>])"
      ],
      "text/html": [
       "<div>\n",
       "<style scoped>\n",
       "    .dataframe tbody tr th:only-of-type {\n",
       "        vertical-align: middle;\n",
       "    }\n",
       "\n",
       "    .dataframe tbody tr th {\n",
       "        vertical-align: top;\n",
       "    }\n",
       "\n",
       "    .dataframe thead th {\n",
       "        text-align: right;\n",
       "    }\n",
       "</style>\n",
       "<table border=\"1\" class=\"dataframe\">\n",
       "  <thead>\n",
       "    <tr style=\"text-align: right;\">\n",
       "      <th></th>\n",
       "      <th>space</th>\n",
       "      <th>instance_type</th>\n",
       "      <th>external_id</th>\n",
       "      <th>version</th>\n",
       "      <th>was_modified</th>\n",
       "      <th>last_updated_time</th>\n",
       "      <th>created_time</th>\n",
       "    </tr>\n",
       "  </thead>\n",
       "  <tbody>\n",
       "    <tr>\n",
       "      <th>0</th>\n",
       "      <td>sp_upgrade</td>\n",
       "      <td>node</td>\n",
       "      <td>ts_case3_mismatch2</td>\n",
       "      <td>1</td>\n",
       "      <td>True</td>\n",
       "      <td>2025-07-28 11:13:57.195</td>\n",
       "      <td>2025-07-28 11:13:57.195</td>\n",
       "    </tr>\n",
       "  </tbody>\n",
       "</table>\n",
       "</div>"
      ]
     },
     "execution_count": 12,
     "metadata": {},
     "output_type": "execute_result"
    }
   ],
   "execution_count": 12
  },
  {
   "cell_type": "code",
   "id": "16e8c28eec40b058",
   "metadata": {
    "ExecuteTime": {
     "end_time": "2025-07-28T11:13:58.010953Z",
     "start_time": "2025-07-28T11:13:57.835028Z"
    }
   },
   "source": [
    "retrieved_content = client.files.download_bytes(instance_id=created_dm[0].as_id())"
   ],
   "outputs": [],
   "execution_count": 13
  },
  {
   "cell_type": "code",
   "id": "75bf87e4996d58e3",
   "metadata": {
    "ExecuteTime": {
     "end_time": "2025-07-28T11:13:59.147046Z",
     "start_time": "2025-07-28T11:13:59.143665Z"
    }
   },
   "source": [
    "retrieved_content"
   ],
   "outputs": [
    {
     "data": {
      "text/plain": [
       "b'This is filecontent'"
      ]
     },
     "execution_count": 14,
     "metadata": {},
     "output_type": "execute_result"
    }
   ],
   "execution_count": 14
  },
  {
   "cell_type": "code",
   "id": "182d98e23b3afd20",
   "metadata": {
    "ExecuteTime": {
     "end_time": "2025-07-28T11:13:59.896978Z",
     "start_time": "2025-07-28T11:13:59.842907Z"
    }
   },
   "source": [
    "retrieved_file = client.files.retrieve(external_id=file.external_id)"
   ],
   "outputs": [],
   "execution_count": 15
  },
  {
   "cell_type": "code",
   "id": "6aa9ee9eb7b7c37c",
   "metadata": {
    "ExecuteTime": {
     "end_time": "2025-07-28T11:14:00.293055Z",
     "start_time": "2025-07-28T11:14:00.289347Z"
    }
   },
   "source": [
    "retrieved_file"
   ],
   "outputs": [
    {
     "data": {
      "text/plain": [
       "<cognite_toolkit._cdf_tk.client.data_classes.extended_filemetadata.ExtendedFileMetadata at 0x17d099e0690>"
      ],
      "text/html": [
       "<div>\n",
       "<style scoped>\n",
       "    .dataframe tbody tr th:only-of-type {\n",
       "        vertical-align: middle;\n",
       "    }\n",
       "\n",
       "    .dataframe tbody tr th {\n",
       "        vertical-align: top;\n",
       "    }\n",
       "\n",
       "    .dataframe thead th {\n",
       "        text-align: right;\n",
       "    }\n",
       "</style>\n",
       "<table border=\"1\" class=\"dataframe\">\n",
       "  <thead>\n",
       "    <tr style=\"text-align: right;\">\n",
       "      <th></th>\n",
       "      <th>value</th>\n",
       "    </tr>\n",
       "  </thead>\n",
       "  <tbody>\n",
       "    <tr>\n",
       "      <th>external_id</th>\n",
       "      <td>ts_case3_mismatch2</td>\n",
       "    </tr>\n",
       "    <tr>\n",
       "      <th>instance_id</th>\n",
       "      <td>{'space': 'sp_upgrade', 'external_id': 'ts_cas...</td>\n",
       "    </tr>\n",
       "    <tr>\n",
       "      <th>name</th>\n",
       "      <td>Case 3 Mismatch Cognite-Asset-Centric</td>\n",
       "    </tr>\n",
       "    <tr>\n",
       "      <th>id</th>\n",
       "      <td>3367238008129687</td>\n",
       "    </tr>\n",
       "    <tr>\n",
       "      <th>created_time</th>\n",
       "      <td>2025-07-28 11:13:52.494000</td>\n",
       "    </tr>\n",
       "    <tr>\n",
       "      <th>last_updated_time</th>\n",
       "      <td>2025-07-28 11:13:55.373000</td>\n",
       "    </tr>\n",
       "    <tr>\n",
       "      <th>uploaded</th>\n",
       "      <td>True</td>\n",
       "    </tr>\n",
       "    <tr>\n",
       "      <th>uploaded_time</th>\n",
       "      <td>2025-07-28 11:13:54.050000</td>\n",
       "    </tr>\n",
       "    <tr>\n",
       "      <th>pending_instance_id</th>\n",
       "      <td>{'space': 'sp_upgrade', 'external_id': 'ts_cas...</td>\n",
       "    </tr>\n",
       "  </tbody>\n",
       "</table>\n",
       "</div>"
      ]
     },
     "execution_count": 16,
     "metadata": {},
     "output_type": "execute_result"
    }
   ],
   "execution_count": 16
  },
  {
   "cell_type": "code",
   "id": "c0828d17f6db451f",
   "metadata": {
    "ExecuteTime": {
     "end_time": "2025-07-28T11:14:03.550064Z",
     "start_time": "2025-07-28T11:14:03.468830Z"
    }
   },
   "source": [
    "retrieved_cognite_file = client.data_modeling.instances.retrieve_nodes(cognite_file.as_id(), node_cls=CogniteFile)"
   ],
   "outputs": [],
   "execution_count": 17
  },
  {
   "cell_type": "code",
   "id": "4f8d061243e83d2d",
   "metadata": {
    "ExecuteTime": {
     "end_time": "2025-07-28T11:14:03.727767Z",
     "start_time": "2025-07-28T11:14:03.724176Z"
    }
   },
   "source": [
    "retrieved_cognite_file.dump()"
   ],
   "outputs": [
    {
     "data": {
      "text/plain": [
       "{'space': 'sp_upgrade',\n",
       " 'externalId': 'ts_case3_mismatch2',\n",
       " 'version': 2,\n",
       " 'lastUpdatedTime': 1753701238622,\n",
       " 'createdTime': 1753701237195,\n",
       " 'instanceType': 'node',\n",
       " 'properties': {'cdf_cdm': {'CogniteFile/v1': {'name': 'Another name for Case 3 Mismatch',\n",
       "    'description': None,\n",
       "    'tags': None,\n",
       "    'aliases': None,\n",
       "    'sourceId': None,\n",
       "    'sourceContext': None,\n",
       "    'source': None,\n",
       "    'sourceCreatedTime': None,\n",
       "    'sourceUpdatedTime': None,\n",
       "    'sourceCreatedUser': None,\n",
       "    'sourceUpdatedUser': None,\n",
       "    'assets': None,\n",
       "    'mimeType': None,\n",
       "    'directory': None,\n",
       "    'isUploaded': True,\n",
       "    'uploadedTime': '2025-07-28T11:13:54.050+00:00',\n",
       "    'category': None}}}}"
      ]
     },
     "execution_count": 18,
     "metadata": {},
     "output_type": "execute_result"
    }
   ],
   "execution_count": 18
  },
  {
   "cell_type": "code",
   "id": "9719a34df3e892f3",
   "metadata": {
    "ExecuteTime": {
     "end_time": "2025-07-28T11:14:08.337669Z",
     "start_time": "2025-07-28T11:14:08.296157Z"
    }
   },
   "source": [
    "retrieved_cognite_ts_classic = client.files.retrieve(instance_id=cognite_file.as_id())\n",
    "retrieved_cognite_ts_classic"
   ],
   "outputs": [
    {
     "data": {
      "text/plain": [
       "<cognite_toolkit._cdf_tk.client.data_classes.extended_filemetadata.ExtendedFileMetadata at 0x17d09986fd0>"
      ],
      "text/html": [
       "<div>\n",
       "<style scoped>\n",
       "    .dataframe tbody tr th:only-of-type {\n",
       "        vertical-align: middle;\n",
       "    }\n",
       "\n",
       "    .dataframe tbody tr th {\n",
       "        vertical-align: top;\n",
       "    }\n",
       "\n",
       "    .dataframe thead th {\n",
       "        text-align: right;\n",
       "    }\n",
       "</style>\n",
       "<table border=\"1\" class=\"dataframe\">\n",
       "  <thead>\n",
       "    <tr style=\"text-align: right;\">\n",
       "      <th></th>\n",
       "      <th>value</th>\n",
       "    </tr>\n",
       "  </thead>\n",
       "  <tbody>\n",
       "    <tr>\n",
       "      <th>external_id</th>\n",
       "      <td>ts_case3_mismatch2</td>\n",
       "    </tr>\n",
       "    <tr>\n",
       "      <th>instance_id</th>\n",
       "      <td>{'space': 'sp_upgrade', 'external_id': 'ts_cas...</td>\n",
       "    </tr>\n",
       "    <tr>\n",
       "      <th>name</th>\n",
       "      <td>Case 3 Mismatch Cognite-Asset-Centric</td>\n",
       "    </tr>\n",
       "    <tr>\n",
       "      <th>id</th>\n",
       "      <td>3367238008129687</td>\n",
       "    </tr>\n",
       "    <tr>\n",
       "      <th>created_time</th>\n",
       "      <td>2025-07-28 11:13:52.494000</td>\n",
       "    </tr>\n",
       "    <tr>\n",
       "      <th>last_updated_time</th>\n",
       "      <td>2025-07-28 11:13:55.373000</td>\n",
       "    </tr>\n",
       "    <tr>\n",
       "      <th>uploaded</th>\n",
       "      <td>True</td>\n",
       "    </tr>\n",
       "    <tr>\n",
       "      <th>uploaded_time</th>\n",
       "      <td>2025-07-28 11:13:54.050000</td>\n",
       "    </tr>\n",
       "    <tr>\n",
       "      <th>pending_instance_id</th>\n",
       "      <td>{'space': 'sp_upgrade', 'external_id': 'ts_cas...</td>\n",
       "    </tr>\n",
       "  </tbody>\n",
       "</table>\n",
       "</div>"
      ]
     },
     "execution_count": 19,
     "metadata": {},
     "output_type": "execute_result"
    }
   ],
   "execution_count": 19
  },
  {
   "cell_type": "code",
   "execution_count": null,
   "id": "f9cc549fdbc090f2",
   "metadata": {},
   "outputs": [],
   "source": []
  }
 ],
 "metadata": {
  "kernelspec": {
   "display_name": "Python 3 (ipykernel)",
   "language": "python",
   "name": "python3"
  },
  "language_info": {
   "codemirror_mode": {
    "name": "ipython",
    "version": 3
   },
   "file_extension": ".py",
   "mimetype": "text/x-python",
   "name": "python",
   "nbconvert_exporter": "python",
   "pygments_lexer": "ipython3",
   "version": "3.12.1"
  }
 },
 "nbformat": 4,
 "nbformat_minor": 5
}
