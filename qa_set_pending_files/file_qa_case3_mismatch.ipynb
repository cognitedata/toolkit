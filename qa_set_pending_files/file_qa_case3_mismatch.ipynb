{
 "cells": [
  {
   "cell_type": "code",
   "execution_count": 57,
   "id": "cd982d434688f397",
   "metadata": {
    "ExecuteTime": {
     "end_time": "2025-07-10T06:49:42.201012Z",
     "start_time": "2025-07-10T06:49:42.197290Z"
    }
   },
   "outputs": [],
   "source": [
    "from cognite.client.data_classes import FileMetadataWrite\n",
    "from cognite.client.data_classes.data_modeling import SpaceApply\n",
    "from cognite.client.data_classes.data_modeling.cdm.v1 import CogniteFile, CogniteFileApply\n",
    "from cognite.client.exceptions import CogniteException\n",
    "from IPython.display import display\n",
    "\n",
    "from tests.auth_utils import get_toolkit_client"
   ]
  },
  {
   "cell_type": "code",
   "execution_count": null,
   "id": "f69e8f8197e7dc77",
   "metadata": {},
   "outputs": [],
   "source": [
    "client = get_toolkit_client(\"dev-cluster.env\", enable_set_pending_ids=True)"
   ]
  },
  {
   "cell_type": "code",
   "execution_count": 44,
   "id": "5f88547c7634dea0",
   "metadata": {
    "ExecuteTime": {
     "end_time": "2025-07-10T06:48:46.614249Z",
     "start_time": "2025-07-10T06:48:46.611069Z"
    }
   },
   "outputs": [],
   "source": [
    "SPACE = \"sp_upgrade\""
   ]
  },
  {
   "cell_type": "code",
   "execution_count": 45,
   "id": "38b3e4377780d175",
   "metadata": {
    "ExecuteTime": {
     "end_time": "2025-07-10T06:48:47.966218Z",
     "start_time": "2025-07-10T06:48:47.039447Z"
    }
   },
   "outputs": [
    {
     "data": {
      "text/html": [
       "<div>\n",
       "<style scoped>\n",
       "    .dataframe tbody tr th:only-of-type {\n",
       "        vertical-align: middle;\n",
       "    }\n",
       "\n",
       "    .dataframe tbody tr th {\n",
       "        vertical-align: top;\n",
       "    }\n",
       "\n",
       "    .dataframe thead th {\n",
       "        text-align: right;\n",
       "    }\n",
       "</style>\n",
       "<table border=\"1\" class=\"dataframe\">\n",
       "  <thead>\n",
       "    <tr style=\"text-align: right;\">\n",
       "      <th></th>\n",
       "      <th>value</th>\n",
       "    </tr>\n",
       "  </thead>\n",
       "  <tbody>\n",
       "    <tr>\n",
       "      <th>space</th>\n",
       "      <td>sp_upgrade</td>\n",
       "    </tr>\n",
       "    <tr>\n",
       "      <th>is_global</th>\n",
       "      <td>False</td>\n",
       "    </tr>\n",
       "    <tr>\n",
       "      <th>last_updated_time</th>\n",
       "      <td>2025-07-04 09:38:40.297000</td>\n",
       "    </tr>\n",
       "    <tr>\n",
       "      <th>created_time</th>\n",
       "      <td>2025-07-04 09:38:40.297000</td>\n",
       "    </tr>\n",
       "  </tbody>\n",
       "</table>\n",
       "</div>"
      ],
      "text/plain": [
       "<Space(space='sp_upgrade') at 0x1b3658151c0>"
      ]
     },
     "execution_count": 45,
     "metadata": {},
     "output_type": "execute_result"
    }
   ],
   "source": [
    "client.data_modeling.spaces.apply(SpaceApply(space=SPACE))"
   ]
  },
  {
   "cell_type": "markdown",
   "id": "5faa53ae9a442fce",
   "metadata": {},
   "source": "# Mismatch Cognite/Asset-Centric"
  },
  {
   "cell_type": "code",
   "execution_count": 51,
   "id": "701e752e79c443ed",
   "metadata": {
    "ExecuteTime": {
     "end_time": "2025-07-10T06:49:10.971868Z",
     "start_time": "2025-07-10T06:49:10.967770Z"
    }
   },
   "outputs": [],
   "source": [
    "file = FileMetadataWrite(\n",
    "    external_id=\"ts_case3_mismatch2\",\n",
    "    name=\"Case 3 Mismatch Cognite-Asset-Centric\",\n",
    ")"
   ]
  },
  {
   "cell_type": "code",
   "execution_count": 53,
   "id": "4329f496948f3863",
   "metadata": {
    "ExecuteTime": {
     "end_time": "2025-07-10T06:49:19.848334Z",
     "start_time": "2025-07-10T06:49:19.802395Z"
    }
   },
   "outputs": [
    {
     "name": "stdout",
     "output_type": "stream",
     "text": [
      "\u001b[92mFile with external_id ts_case3_mismatch2 deleted successfully or did not exists\u001b[0m\n"
     ]
    }
   ],
   "source": [
    "# Ensure the file does not exist before running the test\n",
    "try:\n",
    "    client.files.delete(external_id=file.external_id, ignore_unknown_ids=True)\n",
    "except CogniteException as e:\n",
    "    print(f\"\\033[91mError\\033[0m {e.code} {e.message!s}\")\n",
    "else:\n",
    "    print(f\"\\033[92mFile with external_id {file.external_id} deleted successfully or did not exists\\033[0m\")"
   ]
  },
  {
   "cell_type": "code",
   "execution_count": 54,
   "id": "868e5e7489438890",
   "metadata": {
    "ExecuteTime": {
     "end_time": "2025-07-10T06:49:20.592345Z",
     "start_time": "2025-07-10T06:49:20.533721Z"
    }
   },
   "outputs": [
    {
     "data": {
      "text/html": [
       "<div>\n",
       "<style scoped>\n",
       "    .dataframe tbody tr th:only-of-type {\n",
       "        vertical-align: middle;\n",
       "    }\n",
       "\n",
       "    .dataframe tbody tr th {\n",
       "        vertical-align: top;\n",
       "    }\n",
       "\n",
       "    .dataframe thead th {\n",
       "        text-align: right;\n",
       "    }\n",
       "</style>\n",
       "<table border=\"1\" class=\"dataframe\">\n",
       "  <thead>\n",
       "    <tr style=\"text-align: right;\">\n",
       "      <th></th>\n",
       "      <th>value</th>\n",
       "    </tr>\n",
       "  </thead>\n",
       "  <tbody>\n",
       "    <tr>\n",
       "      <th>external_id</th>\n",
       "      <td>ts_case3_mismatch2</td>\n",
       "    </tr>\n",
       "    <tr>\n",
       "      <th>name</th>\n",
       "      <td>Case 3 Mismatch Cognite-Asset-Centric</td>\n",
       "    </tr>\n",
       "    <tr>\n",
       "      <th>labels</th>\n",
       "      <td>[]</td>\n",
       "    </tr>\n",
       "    <tr>\n",
       "      <th>id</th>\n",
       "      <td>3773159245412283</td>\n",
       "    </tr>\n",
       "    <tr>\n",
       "      <th>created_time</th>\n",
       "      <td>2025-07-10 06:49:21.561000</td>\n",
       "    </tr>\n",
       "    <tr>\n",
       "      <th>last_updated_time</th>\n",
       "      <td>2025-07-10 06:49:21.561000</td>\n",
       "    </tr>\n",
       "    <tr>\n",
       "      <th>uploaded</th>\n",
       "      <td>False</td>\n",
       "    </tr>\n",
       "  </tbody>\n",
       "</table>\n",
       "</div>"
      ],
      "text/plain": [
       "<cognite.client.data_classes.files.FileMetadata at 0x1b365802d80>"
      ]
     },
     "execution_count": 54,
     "metadata": {},
     "output_type": "execute_result"
    }
   ],
   "source": [
    "created, _ = client.files.create(file)\n",
    "created"
   ]
  },
  {
   "cell_type": "code",
   "execution_count": 55,
   "id": "118c236ca45beedc",
   "metadata": {
    "ExecuteTime": {
     "end_time": "2025-07-10T06:49:24.047944Z",
     "start_time": "2025-07-10T06:49:24.044658Z"
    }
   },
   "outputs": [],
   "source": [
    "filecontent = b\"This is filecontent\""
   ]
  },
  {
   "cell_type": "code",
   "execution_count": 56,
   "id": "def1e7af2e997e51",
   "metadata": {
    "ExecuteTime": {
     "end_time": "2025-07-10T06:49:26.579263Z",
     "start_time": "2025-07-10T06:49:26.494044Z"
    }
   },
   "outputs": [
    {
     "data": {
      "text/html": [
       "<div>\n",
       "<style scoped>\n",
       "    .dataframe tbody tr th:only-of-type {\n",
       "        vertical-align: middle;\n",
       "    }\n",
       "\n",
       "    .dataframe tbody tr th {\n",
       "        vertical-align: top;\n",
       "    }\n",
       "\n",
       "    .dataframe thead th {\n",
       "        text-align: right;\n",
       "    }\n",
       "</style>\n",
       "<table border=\"1\" class=\"dataframe\">\n",
       "  <thead>\n",
       "    <tr style=\"text-align: right;\">\n",
       "      <th></th>\n",
       "      <th>value</th>\n",
       "    </tr>\n",
       "  </thead>\n",
       "  <tbody>\n",
       "    <tr>\n",
       "      <th>external_id</th>\n",
       "      <td>ts_case3_mismatch2</td>\n",
       "    </tr>\n",
       "    <tr>\n",
       "      <th>name</th>\n",
       "      <td>Case 3 Mismatch Cognite-Asset-Centric</td>\n",
       "    </tr>\n",
       "    <tr>\n",
       "      <th>id</th>\n",
       "      <td>3773159245412283</td>\n",
       "    </tr>\n",
       "    <tr>\n",
       "      <th>created_time</th>\n",
       "      <td>2025-07-10 06:49:21.561000</td>\n",
       "    </tr>\n",
       "    <tr>\n",
       "      <th>last_updated_time</th>\n",
       "      <td>2025-07-10 06:49:21.561000</td>\n",
       "    </tr>\n",
       "    <tr>\n",
       "      <th>uploaded</th>\n",
       "      <td>False</td>\n",
       "    </tr>\n",
       "  </tbody>\n",
       "</table>\n",
       "</div>"
      ],
      "text/plain": [
       "<cognite.client.data_classes.files.FileMetadata at 0x1b3664bcaa0>"
      ]
     },
     "execution_count": 56,
     "metadata": {},
     "output_type": "execute_result"
    }
   ],
   "source": [
    "client.files.upload_content_bytes(filecontent, external_id=created.external_id)"
   ]
  },
  {
   "cell_type": "code",
   "execution_count": 58,
   "id": "871d9f5737413b63",
   "metadata": {
    "ExecuteTime": {
     "end_time": "2025-07-10T06:49:46.061617Z",
     "start_time": "2025-07-10T06:49:46.011249Z"
    }
   },
   "outputs": [
    {
     "data": {
      "text/html": [
       "<div>\n",
       "<style scoped>\n",
       "    .dataframe tbody tr th:only-of-type {\n",
       "        vertical-align: middle;\n",
       "    }\n",
       "\n",
       "    .dataframe tbody tr th {\n",
       "        vertical-align: top;\n",
       "    }\n",
       "\n",
       "    .dataframe thead th {\n",
       "        text-align: right;\n",
       "    }\n",
       "</style>\n",
       "<table border=\"1\" class=\"dataframe\">\n",
       "  <thead>\n",
       "    <tr style=\"text-align: right;\">\n",
       "      <th></th>\n",
       "      <th>value</th>\n",
       "    </tr>\n",
       "  </thead>\n",
       "  <tbody>\n",
       "    <tr>\n",
       "      <th>external_id</th>\n",
       "      <td>ts_case3_mismatch2</td>\n",
       "    </tr>\n",
       "    <tr>\n",
       "      <th>name</th>\n",
       "      <td>Case 3 Mismatch Cognite-Asset-Centric</td>\n",
       "    </tr>\n",
       "    <tr>\n",
       "      <th>id</th>\n",
       "      <td>3773159245412283</td>\n",
       "    </tr>\n",
       "    <tr>\n",
       "      <th>created_time</th>\n",
       "      <td>2025-07-10 06:49:21.561000</td>\n",
       "    </tr>\n",
       "    <tr>\n",
       "      <th>last_updated_time</th>\n",
       "      <td>2025-07-10 06:49:47.043000</td>\n",
       "    </tr>\n",
       "    <tr>\n",
       "      <th>uploaded</th>\n",
       "      <td>True</td>\n",
       "    </tr>\n",
       "    <tr>\n",
       "      <th>uploaded_time</th>\n",
       "      <td>2025-07-10 06:49:27.568000</td>\n",
       "    </tr>\n",
       "    <tr>\n",
       "      <th>pending_instance_id</th>\n",
       "      <td>{'space': 'sp_upgrade', 'external_id': 'ts_cas...</td>\n",
       "    </tr>\n",
       "  </tbody>\n",
       "</table>\n",
       "</div>"
      ],
      "text/plain": [
       "<cognite_toolkit._cdf_tk.client.data_classes.extended_filemetdata.ExtendedFileMetadata at 0x1b3664bd6d0>"
      ]
     },
     "metadata": {},
     "output_type": "display_data"
    }
   ],
   "source": [
    "try:\n",
    "    updated = client.files.set_pending_ids((SPACE, file.external_id), external_id=file.external_id)\n",
    "except CogniteException as e:\n",
    "    print(f\"\\033[91mError\\033[0m {e.code} {e.message!s}\")\n",
    "else:\n",
    "    display(updated)"
   ]
  },
  {
   "cell_type": "code",
   "execution_count": 59,
   "id": "e22a853b276e3cd6",
   "metadata": {
    "ExecuteTime": {
     "end_time": "2025-07-10T06:49:48.112078Z",
     "start_time": "2025-07-10T06:49:48.109715Z"
    }
   },
   "outputs": [],
   "source": [
    "cognite_file = CogniteFileApply(\n",
    "    space=SPACE,\n",
    "    external_id=file.external_id,\n",
    "    name=\"Another name for Case 3 Mismatch\",\n",
    ")"
   ]
  },
  {
   "cell_type": "code",
   "execution_count": 60,
   "id": "50e248bdf2a43523",
   "metadata": {
    "ExecuteTime": {
     "end_time": "2025-07-10T06:49:52.830566Z",
     "start_time": "2025-07-10T06:49:52.605611Z"
    }
   },
   "outputs": [
    {
     "data": {
      "text/html": [
       "<div>\n",
       "<style scoped>\n",
       "    .dataframe tbody tr th:only-of-type {\n",
       "        vertical-align: middle;\n",
       "    }\n",
       "\n",
       "    .dataframe tbody tr th {\n",
       "        vertical-align: top;\n",
       "    }\n",
       "\n",
       "    .dataframe thead th {\n",
       "        text-align: right;\n",
       "    }\n",
       "</style>\n",
       "<table border=\"1\" class=\"dataframe\">\n",
       "  <thead>\n",
       "    <tr style=\"text-align: right;\">\n",
       "      <th></th>\n",
       "      <th>space</th>\n",
       "      <th>instance_type</th>\n",
       "      <th>external_id</th>\n",
       "      <th>version</th>\n",
       "      <th>was_modified</th>\n",
       "      <th>last_updated_time</th>\n",
       "      <th>created_time</th>\n",
       "    </tr>\n",
       "  </thead>\n",
       "  <tbody>\n",
       "    <tr>\n",
       "      <th>0</th>\n",
       "      <td>sp_upgrade</td>\n",
       "      <td>node</td>\n",
       "      <td>ts_case3_mismatch2</td>\n",
       "      <td>1</td>\n",
       "      <td>True</td>\n",
       "      <td>2025-07-10 06:49:53.738</td>\n",
       "      <td>2025-07-10 06:49:53.738</td>\n",
       "    </tr>\n",
       "  </tbody>\n",
       "</table>\n",
       "</div>"
      ],
      "text/plain": [
       "NodeApplyResultList([<NodeApplyResult(space='sp_upgrade', external_id='ts_case3_mismatch2', version=1) at 0x1b3664bfd40>])"
      ]
     },
     "execution_count": 60,
     "metadata": {},
     "output_type": "execute_result"
    }
   ],
   "source": [
    "created_dm = client.data_modeling.instances.apply(cognite_file).nodes\n",
    "created_dm"
   ]
  },
  {
   "cell_type": "code",
   "execution_count": 61,
   "id": "16e8c28eec40b058",
   "metadata": {
    "ExecuteTime": {
     "end_time": "2025-07-10T06:51:41.991304Z",
     "start_time": "2025-07-10T06:51:41.667523Z"
    }
   },
   "outputs": [],
   "source": [
    "retrieved_content = client.files.download_bytes(instance_id=created_dm[0].as_id())"
   ]
  },
  {
   "cell_type": "code",
   "execution_count": 62,
   "id": "75bf87e4996d58e3",
   "metadata": {
    "ExecuteTime": {
     "end_time": "2025-07-10T06:51:43.289932Z",
     "start_time": "2025-07-10T06:51:43.284228Z"
    }
   },
   "outputs": [
    {
     "data": {
      "text/plain": [
       "b'This is filecontent'"
      ]
     },
     "execution_count": 62,
     "metadata": {},
     "output_type": "execute_result"
    }
   ],
   "source": [
    "retrieved_content"
   ]
  },
  {
   "cell_type": "code",
   "execution_count": 63,
   "id": "182d98e23b3afd20",
   "metadata": {
    "ExecuteTime": {
     "end_time": "2025-07-10T06:51:47.314106Z",
     "start_time": "2025-07-10T06:51:47.224537Z"
    }
   },
   "outputs": [],
   "source": [
    "retrieved_file = client.files.retrieve(external_id=file.external_id)"
   ]
  },
  {
   "cell_type": "code",
   "execution_count": 64,
   "id": "6aa9ee9eb7b7c37c",
   "metadata": {
    "ExecuteTime": {
     "end_time": "2025-07-10T06:51:47.557611Z",
     "start_time": "2025-07-10T06:51:47.552824Z"
    }
   },
   "outputs": [
    {
     "data": {
      "text/html": [
       "<div>\n",
       "<style scoped>\n",
       "    .dataframe tbody tr th:only-of-type {\n",
       "        vertical-align: middle;\n",
       "    }\n",
       "\n",
       "    .dataframe tbody tr th {\n",
       "        vertical-align: top;\n",
       "    }\n",
       "\n",
       "    .dataframe thead th {\n",
       "        text-align: right;\n",
       "    }\n",
       "</style>\n",
       "<table border=\"1\" class=\"dataframe\">\n",
       "  <thead>\n",
       "    <tr style=\"text-align: right;\">\n",
       "      <th></th>\n",
       "      <th>value</th>\n",
       "    </tr>\n",
       "  </thead>\n",
       "  <tbody>\n",
       "    <tr>\n",
       "      <th>external_id</th>\n",
       "      <td>ts_case3_mismatch2</td>\n",
       "    </tr>\n",
       "    <tr>\n",
       "      <th>instance_id</th>\n",
       "      <td>{'space': 'sp_upgrade', 'external_id': 'ts_cas...</td>\n",
       "    </tr>\n",
       "    <tr>\n",
       "      <th>name</th>\n",
       "      <td>Case 3 Mismatch Cognite-Asset-Centric</td>\n",
       "    </tr>\n",
       "    <tr>\n",
       "      <th>id</th>\n",
       "      <td>3773159245412283</td>\n",
       "    </tr>\n",
       "    <tr>\n",
       "      <th>created_time</th>\n",
       "      <td>2025-07-10 06:49:21.561000</td>\n",
       "    </tr>\n",
       "    <tr>\n",
       "      <th>last_updated_time</th>\n",
       "      <td>2025-07-10 06:49:47.043000</td>\n",
       "    </tr>\n",
       "    <tr>\n",
       "      <th>uploaded</th>\n",
       "      <td>True</td>\n",
       "    </tr>\n",
       "    <tr>\n",
       "      <th>uploaded_time</th>\n",
       "      <td>2025-07-10 06:49:27.568000</td>\n",
       "    </tr>\n",
       "    <tr>\n",
       "      <th>pending_instance_id</th>\n",
       "      <td>{'space': 'sp_upgrade', 'external_id': 'ts_cas...</td>\n",
       "    </tr>\n",
       "  </tbody>\n",
       "</table>\n",
       "</div>"
      ],
      "text/plain": [
       "<cognite_toolkit._cdf_tk.client.data_classes.extended_filemetdata.ExtendedFileMetadata at 0x1b365805f10>"
      ]
     },
     "execution_count": 64,
     "metadata": {},
     "output_type": "execute_result"
    }
   ],
   "source": [
    "retrieved_file"
   ]
  },
  {
   "cell_type": "code",
   "execution_count": 65,
   "id": "c0828d17f6db451f",
   "metadata": {
    "ExecuteTime": {
     "end_time": "2025-07-10T06:51:50.745705Z",
     "start_time": "2025-07-10T06:51:50.483514Z"
    }
   },
   "outputs": [],
   "source": [
    "retrieved_cognite_file = client.data_modeling.instances.retrieve_nodes(cognite_file.as_id(), node_cls=CogniteFile)"
   ]
  },
  {
   "cell_type": "code",
   "execution_count": 67,
   "id": "4f8d061243e83d2d",
   "metadata": {
    "ExecuteTime": {
     "end_time": "2025-07-10T06:52:11.771914Z",
     "start_time": "2025-07-10T06:52:11.765212Z"
    }
   },
   "outputs": [
    {
     "data": {
      "text/plain": [
       "{'space': 'sp_upgrade',\n",
       " 'externalId': 'ts_case3_mismatch2',\n",
       " 'version': 1,\n",
       " 'lastUpdatedTime': 1752130193738,\n",
       " 'createdTime': 1752130193738,\n",
       " 'instanceType': 'node',\n",
       " 'properties': {'cdf_cdm': {'CogniteFile/v1': {'name': 'Another name for Case 3 Mismatch',\n",
       "    'description': None,\n",
       "    'tags': None,\n",
       "    'aliases': None,\n",
       "    'sourceId': None,\n",
       "    'sourceContext': None,\n",
       "    'source': None,\n",
       "    'sourceCreatedTime': None,\n",
       "    'sourceUpdatedTime': None,\n",
       "    'sourceCreatedUser': None,\n",
       "    'sourceUpdatedUser': None,\n",
       "    'assets': None,\n",
       "    'mimeType': None,\n",
       "    'directory': None,\n",
       "    'isUploaded': False,\n",
       "    'uploadedTime': None,\n",
       "    'category': None}}}}"
      ]
     },
     "execution_count": 67,
     "metadata": {},
     "output_type": "execute_result"
    }
   ],
   "source": [
    "retrieved_cognite_file.dump()"
   ]
  },
  {
   "cell_type": "code",
   "execution_count": null,
   "id": "9719a34df3e892f3",
   "metadata": {},
   "outputs": [],
   "source": [
    "retrieved_cognite_ts_classic = client.files.retrieve(instance_id=cognite_file.as_id())\n",
    "retrieved_cognite_ts_classic"
   ]
  },
  {
   "cell_type": "code",
   "execution_count": null,
   "id": "f9cc549fdbc090f2",
   "metadata": {},
   "outputs": [],
   "source": []
  }
 ],
 "metadata": {
  "kernelspec": {
   "display_name": "Python 3 (ipykernel)",
   "language": "python",
   "name": "python3"
  },
  "language_info": {
   "codemirror_mode": {
    "name": "ipython",
    "version": 3
   },
   "file_extension": ".py",
   "mimetype": "text/x-python",
   "name": "python",
   "nbconvert_exporter": "python",
   "pygments_lexer": "ipython3",
   "version": "3.12.1"
  }
 },
 "nbformat": 4,
 "nbformat_minor": 5
}
