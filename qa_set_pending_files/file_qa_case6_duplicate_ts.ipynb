{
 "cells": [
  {
   "cell_type": "code",
   "execution_count": 1,
   "id": "initial_id",
   "metadata": {
    "ExecuteTime": {
     "end_time": "2025-07-18T08:11:49.203396Z",
     "start_time": "2025-07-18T08:11:48.133027Z"
    }
   },
   "outputs": [],
   "source": [
    "from cognite.client.exceptions import CogniteAPIError\n",
    "\n",
    "from tests.auth_utils import get_toolkit_client"
   ]
  },
  {
   "cell_type": "code",
   "execution_count": 2,
   "id": "d1876c38f818028b",
   "metadata": {
    "ExecuteTime": {
     "end_time": "2025-07-18T08:11:49.330143Z",
     "start_time": "2025-07-18T08:11:49.327176Z"
    }
   },
   "outputs": [],
   "source": [
    "from cognite.client.data_classes import FileMetadataWrite\n",
    "from cognite.client.data_classes.data_modeling import NodeId, SpaceApply\n",
    "from cognite.client.exceptions import CogniteException\n",
    "\n",
    "from cognite_toolkit._cdf_tk.client.data_classes.pending_instances_ids import PendingInstanceId"
   ]
  },
  {
   "cell_type": "code",
   "execution_count": 3,
   "id": "165337532a76f8ea",
   "metadata": {
    "ExecuteTime": {
     "end_time": "2025-07-18T08:11:49.388841Z",
     "start_time": "2025-07-18T08:11:49.344577Z"
    }
   },
   "outputs": [
    {
     "name": "stdout",
     "output_type": "stream",
     "text": [
      "Found dev-cluster.env file in repository root. Loaded variables from dev-cluster.env file.\n"
     ]
    }
   ],
   "source": [
    "client = get_toolkit_client(\"dev-cluster.env\", enable_set_pending_ids=True)"
   ]
  },
  {
   "cell_type": "code",
   "execution_count": 4,
   "id": "b9ac07f6123b4180",
   "metadata": {
    "ExecuteTime": {
     "end_time": "2025-07-18T08:11:49.407152Z",
     "start_time": "2025-07-18T08:11:49.403509Z"
    }
   },
   "outputs": [],
   "source": [
    "SPACE = \"sp_upgrade\""
   ]
  },
  {
   "cell_type": "code",
   "execution_count": 5,
   "id": "e422c5b2d8c7d8fe",
   "metadata": {
    "ExecuteTime": {
     "end_time": "2025-07-18T08:11:50.935048Z",
     "start_time": "2025-07-18T08:11:49.981009Z"
    }
   },
   "outputs": [
    {
     "data": {
      "text/html": [
       "<div>\n",
       "<style scoped>\n",
       "    .dataframe tbody tr th:only-of-type {\n",
       "        vertical-align: middle;\n",
       "    }\n",
       "\n",
       "    .dataframe tbody tr th {\n",
       "        vertical-align: top;\n",
       "    }\n",
       "\n",
       "    .dataframe thead th {\n",
       "        text-align: right;\n",
       "    }\n",
       "</style>\n",
       "<table border=\"1\" class=\"dataframe\">\n",
       "  <thead>\n",
       "    <tr style=\"text-align: right;\">\n",
       "      <th></th>\n",
       "      <th>value</th>\n",
       "    </tr>\n",
       "  </thead>\n",
       "  <tbody>\n",
       "    <tr>\n",
       "      <th>space</th>\n",
       "      <td>sp_upgrade</td>\n",
       "    </tr>\n",
       "    <tr>\n",
       "      <th>is_global</th>\n",
       "      <td>False</td>\n",
       "    </tr>\n",
       "    <tr>\n",
       "      <th>last_updated_time</th>\n",
       "      <td>2025-07-04 09:38:40.297000</td>\n",
       "    </tr>\n",
       "    <tr>\n",
       "      <th>created_time</th>\n",
       "      <td>2025-07-04 09:38:40.297000</td>\n",
       "    </tr>\n",
       "  </tbody>\n",
       "</table>\n",
       "</div>"
      ],
      "text/plain": [
       "<Space(space='sp_upgrade') at 0x2188dff54c0>"
      ]
     },
     "execution_count": 5,
     "metadata": {},
     "output_type": "execute_result"
    }
   ],
   "source": [
    "client.data_modeling.spaces.apply(SpaceApply(space=SPACE))"
   ]
  },
  {
   "cell_type": "markdown",
   "id": "95f3efc7e7a190f9",
   "metadata": {},
   "source": "# Duplicated File Pending IDs"
  },
  {
   "cell_type": "code",
   "execution_count": 6,
   "id": "6ec771318a5c3895",
   "metadata": {
    "ExecuteTime": {
     "end_time": "2025-07-18T08:11:51.182931Z",
     "start_time": "2025-07-18T08:11:51.178616Z"
    }
   },
   "outputs": [],
   "source": [
    "file1 = FileMetadataWrite(\n",
    "    external_id=\"ts_case6_mismatch_ts1\",\n",
    "    name=\"Case 6 Duplicated TimesSeries Pending Ids - ts1\",\n",
    ")"
   ]
  },
  {
   "cell_type": "code",
   "execution_count": 7,
   "id": "1bcc883cf6db0ef8",
   "metadata": {
    "ExecuteTime": {
     "end_time": "2025-07-18T08:11:52.684440Z",
     "start_time": "2025-07-18T08:11:52.681235Z"
    }
   },
   "outputs": [],
   "source": [
    "file2 = FileMetadataWrite(\n",
    "    external_id=\"ts_case6_mismatch_ts2\",\n",
    "    name=\"Case 6 Duplicated TimesSeries Pending Ids - ts2\",\n",
    ")"
   ]
  },
  {
   "cell_type": "code",
   "execution_count": 9,
   "id": "a5c96bc5114f3481",
   "metadata": {
    "ExecuteTime": {
     "end_time": "2025-07-18T08:12:38.706474Z",
     "start_time": "2025-07-18T08:12:38.513507Z"
    }
   },
   "outputs": [
    {
     "name": "stdout",
     "output_type": "stream",
     "text": [
      "\u001b[92mFile with external_id ts_case6_mismatch_ts1 deleted successfully or did not exists\u001b[0m\n",
      "\u001b[92mFile with external_id ts_case6_mismatch_ts2 deleted successfully or did not exists\u001b[0m\n"
     ]
    }
   ],
   "source": [
    "for file in [file1, file2]:\n",
    "    try:\n",
    "        client.files.delete(external_id=file.external_id, ignore_unknown_ids=True)\n",
    "    except CogniteException:\n",
    "        try:\n",
    "            client.data_modeling.instances.delete(NodeId(SPACE, file.external_id))\n",
    "        except CogniteException as e:\n",
    "            print(f\"\\033[91mError\\033[0m {e.code} {e.message!s}\")\n",
    "        else:\n",
    "            print(\"\\033[92mFile node deleted successfully\\033[0m\")\n",
    "    else:\n",
    "        print(f\"\\033[92mFile with external_id {file.external_id} deleted successfully or did not exists\\033[0m\")"
   ]
  },
  {
   "cell_type": "code",
   "execution_count": null,
   "id": "d898538c7de37de1",
   "metadata": {},
   "outputs": [],
   "source": []
  },
  {
   "cell_type": "code",
   "execution_count": 10,
   "id": "827dfa1969dfe238",
   "metadata": {
    "ExecuteTime": {
     "end_time": "2025-07-18T08:12:44.357078Z",
     "start_time": "2025-07-18T08:12:44.351047Z"
    }
   },
   "outputs": [],
   "source": [
    "filecontent = b\"This is filecontent\""
   ]
  },
  {
   "cell_type": "code",
   "execution_count": 11,
   "id": "c0a8f52a8d2f4064",
   "metadata": {
    "ExecuteTime": {
     "end_time": "2025-07-18T08:12:46.065747Z",
     "start_time": "2025-07-18T08:12:45.740986Z"
    }
   },
   "outputs": [
    {
     "name": "stdout",
     "output_type": "stream",
     "text": [
      "Created file: ts_case6_mismatch_ts1\n",
      "Created file: ts_case6_mismatch_ts2\n"
     ]
    }
   ],
   "source": [
    "for file in [file1, file2]:\n",
    "    # Delete existing file if it exists\n",
    "    client.files.delete(external_id=file.external_id, ignore_unknown_ids=True)\n",
    "    try:\n",
    "        created, _ = client.files.create(file)\n",
    "    except CogniteException as e:\n",
    "        print(f\"\\033[91mError\\033[0m {e.code} {e.message!s}\")\n",
    "    else:\n",
    "        print(f\"Created file: {created.external_id}\")\n",
    "    client.files.upload_content_bytes(filecontent, external_id=created.external_id)"
   ]
  },
  {
   "cell_type": "code",
   "execution_count": null,
   "id": "da9be54bcd2e8982",
   "metadata": {
    "ExecuteTime": {
     "end_time": "2025-07-04T10:11:00.539900Z",
     "start_time": "2025-07-04T10:11:00.537358Z"
    }
   },
   "outputs": [],
   "source": []
  },
  {
   "cell_type": "code",
   "execution_count": 12,
   "id": "e311150317673f22",
   "metadata": {
    "ExecuteTime": {
     "end_time": "2025-07-18T08:12:53.321245Z",
     "start_time": "2025-07-18T08:12:53.248445Z"
    }
   },
   "outputs": [
    {
     "name": "stdout",
     "output_type": "stream",
     "text": [
      "\u001b[91mError\u001b[0m 500 Internal server error. Please report this error to support@cognite.com and provide us with your request id: afdabf66-5426-9c42-9224-87f83f731c12 and cluster name: az-arn-dev-002\n"
     ]
    }
   ],
   "source": [
    "try:\n",
    "    updated = client.files.set_pending_ids(\n",
    "        [\n",
    "            PendingInstanceId(pending_instance_id=NodeId(SPACE, file1.external_id), external_id=t.external_id)\n",
    "            for t in [file1, file2]\n",
    "        ]\n",
    "    )\n",
    "except CogniteAPIError as e:\n",
    "    print(f\"\\033[91mError\\033[0m {e.code} {e.message!s}\")\n",
    "else:\n",
    "    print(f\"Updated {len(updated)} time series with pending IDs.\")"
   ]
  },
  {
   "cell_type": "code",
   "execution_count": 22,
   "id": "8904a3d2968aaacd",
   "metadata": {
    "ExecuteTime": {
     "end_time": "2025-07-04T10:11:24.719779Z",
     "start_time": "2025-07-04T10:11:24.665293Z"
    }
   },
   "outputs": [
    {
     "name": "stdout",
     "output_type": "stream",
     "text": [
      "\u001b[91mError\u001b[0m 400 Found empty patches for following ids: \n"
     ]
    }
   ],
   "source": [
    "try:\n",
    "    update2 = client.files.set_pending_ids((SPACE, file1.external_id), external_id=file2.external_id)\n",
    "except CogniteAPIError as e:\n",
    "    print(f\"\\033[91mError\\033[0m {e.code} {e.message!s}\")\n",
    "else:\n",
    "    print(f\"Updated file {update2.external_id} with pending ID from {file1.external_id}.\")"
   ]
  },
  {
   "cell_type": "code",
   "execution_count": null,
   "id": "d4a9cbff753e9ea8",
   "metadata": {},
   "outputs": [],
   "source": []
  },
  {
   "cell_type": "code",
   "execution_count": null,
   "id": "e8a1e44011d60307",
   "metadata": {},
   "outputs": [],
   "source": []
  }
 ],
 "metadata": {
  "kernelspec": {
   "display_name": "Python 3 (ipykernel)",
   "language": "python",
   "name": "python3"
  },
  "language_info": {
   "codemirror_mode": {
    "name": "ipython",
    "version": 3
   },
   "file_extension": ".py",
   "mimetype": "text/x-python",
   "name": "python",
   "nbconvert_exporter": "python",
   "pygments_lexer": "ipython3",
   "version": "3.12.1"
  }
 },
 "nbformat": 4,
 "nbformat_minor": 5
}
