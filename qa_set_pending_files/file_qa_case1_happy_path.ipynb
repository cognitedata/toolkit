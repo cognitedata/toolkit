{
 "cells": [
  {
   "cell_type": "code",
   "id": "initial_id",
   "metadata": {
    "collapsed": true,
    "jupyter": {
     "outputs_hidden": true
    },
    "ExecuteTime": {
     "end_time": "2025-07-28T11:12:15.444844Z",
     "start_time": "2025-07-28T11:12:14.342836Z"
    }
   },
   "source": [
    "from cognite.client.exceptions import CogniteException\n",
    "\n",
    "from tests.auth_utils import get_toolkit_client"
   ],
   "outputs": [],
   "execution_count": 1
  },
  {
   "cell_type": "code",
   "id": "d1876c38f818028b",
   "metadata": {
    "ExecuteTime": {
     "end_time": "2025-07-28T11:12:22.334601Z",
     "start_time": "2025-07-28T11:12:22.324237Z"
    }
   },
   "source": [
    "from cognite.client.data_classes import FileMetadataWrite\n",
    "from cognite.client.data_classes.data_modeling import SpaceApply\n",
    "from cognite.client.data_classes.data_modeling.cdm.v1 import CogniteFile, CogniteFileApply\n",
    "from IPython.display import display"
   ],
   "outputs": [],
   "execution_count": 2
  },
  {
   "cell_type": "code",
   "id": "165337532a76f8ea",
   "metadata": {
    "ExecuteTime": {
     "end_time": "2025-07-28T11:12:23.592599Z",
     "start_time": "2025-07-28T11:12:23.536753Z"
    }
   },
   "source": [
    "client = get_toolkit_client(\"dev-cluster.env\", enable_set_pending_ids=True)"
   ],
   "outputs": [
    {
     "name": "stdout",
     "output_type": "stream",
     "text": [
      "Found dev-cluster.env file in repository root. Loaded variables from dev-cluster.env file.\n"
     ]
    }
   ],
   "execution_count": 3
  },
  {
   "cell_type": "code",
   "id": "b9ac07f6123b4180",
   "metadata": {
    "ExecuteTime": {
     "end_time": "2025-07-28T11:12:24.162201Z",
     "start_time": "2025-07-28T11:12:24.159407Z"
    }
   },
   "source": [
    "SPACE = \"sp_upgrade\""
   ],
   "outputs": [],
   "execution_count": 4
  },
  {
   "cell_type": "code",
   "id": "e422c5b2d8c7d8fe",
   "metadata": {
    "ExecuteTime": {
     "end_time": "2025-07-28T11:12:25.514142Z",
     "start_time": "2025-07-28T11:12:24.492400Z"
    }
   },
   "source": [
    "client.data_modeling.spaces.apply(SpaceApply(space=SPACE))"
   ],
   "outputs": [
    {
     "data": {
      "text/plain": [
       "<Space(space='sp_upgrade') at 0x1d2f4c73620>"
      ],
      "text/html": [
       "<div>\n",
       "<style scoped>\n",
       "    .dataframe tbody tr th:only-of-type {\n",
       "        vertical-align: middle;\n",
       "    }\n",
       "\n",
       "    .dataframe tbody tr th {\n",
       "        vertical-align: top;\n",
       "    }\n",
       "\n",
       "    .dataframe thead th {\n",
       "        text-align: right;\n",
       "    }\n",
       "</style>\n",
       "<table border=\"1\" class=\"dataframe\">\n",
       "  <thead>\n",
       "    <tr style=\"text-align: right;\">\n",
       "      <th></th>\n",
       "      <th>value</th>\n",
       "    </tr>\n",
       "  </thead>\n",
       "  <tbody>\n",
       "    <tr>\n",
       "      <th>space</th>\n",
       "      <td>sp_upgrade</td>\n",
       "    </tr>\n",
       "    <tr>\n",
       "      <th>is_global</th>\n",
       "      <td>False</td>\n",
       "    </tr>\n",
       "    <tr>\n",
       "      <th>last_updated_time</th>\n",
       "      <td>2025-07-04 09:38:40.297000</td>\n",
       "    </tr>\n",
       "    <tr>\n",
       "      <th>created_time</th>\n",
       "      <td>2025-07-04 09:38:40.297000</td>\n",
       "    </tr>\n",
       "  </tbody>\n",
       "</table>\n",
       "</div>"
      ]
     },
     "execution_count": 5,
     "metadata": {},
     "output_type": "execute_result"
    }
   ],
   "execution_count": 5
  },
  {
   "cell_type": "markdown",
   "id": "95f3efc7e7a190f9",
   "metadata": {},
   "source": [
    "# Happy-Path"
   ]
  },
  {
   "cell_type": "code",
   "id": "6ec771318a5c3895",
   "metadata": {
    "ExecuteTime": {
     "end_time": "2025-07-28T11:12:25.702726Z",
     "start_time": "2025-07-28T11:12:25.699895Z"
    }
   },
   "source": [
    "file = FileMetadataWrite(\n",
    "    external_id=\"file_case1_happy_path\",\n",
    "    name=\"File Case 1 Happy Path\",\n",
    "    mime_type=\"text/plain\",\n",
    ")\n",
    "cognite_file = CogniteFileApply(space=SPACE, external_id=file.external_id, name=file.name)"
   ],
   "outputs": [],
   "execution_count": 6
  },
  {
   "cell_type": "code",
   "id": "63ce833f9e6df415",
   "metadata": {
    "ExecuteTime": {
     "end_time": "2025-07-28T11:12:27.305556Z",
     "start_time": "2025-07-28T11:12:27.248257Z"
    }
   },
   "source": [
    "from cognite.client.data_classes.capabilities import FilesAcl\n",
    "\n",
    "client.token.get_scope([FilesAcl.Action.Write])"
   ],
   "outputs": [
    {
     "data": {
      "text/plain": [
       "[AllScope()]"
      ]
     },
     "execution_count": 7,
     "metadata": {},
     "output_type": "execute_result"
    }
   ],
   "execution_count": 7
  },
  {
   "cell_type": "code",
   "id": "f5f7409d25dfd06",
   "metadata": {
    "ExecuteTime": {
     "end_time": "2025-07-28T11:12:30.889632Z",
     "start_time": "2025-07-28T11:12:30.086166Z"
    }
   },
   "source": [
    "# Ensure the file does not exist before running the test\n",
    "try:\n",
    "    client.files.delete(external_id=file.external_id, ignore_unknown_ids=True)\n",
    "except CogniteException as _:\n",
    "    try:\n",
    "        client.data_modeling.instances.delete(cognite_file.as_id())\n",
    "    except CogniteException as e:\n",
    "        print(f\"\\033[91mError\\033[0m {e.code} {e.message!s}\")\n",
    "    else:\n",
    "        print(\"\\033[92mFile node deleted successfully\\033[0m\")\n",
    "else:\n",
    "    print(\"\\033[92mFile deleted successfully\\033[0m\")"
   ],
   "outputs": [
    {
     "name": "stdout",
     "output_type": "stream",
     "text": [
      "\u001B[92mFile node deleted successfully\u001B[0m\n"
     ]
    }
   ],
   "execution_count": 8
  },
  {
   "cell_type": "code",
   "id": "c0a8f52a8d2f4064",
   "metadata": {
    "ExecuteTime": {
     "end_time": "2025-07-28T11:12:33.025266Z",
     "start_time": "2025-07-28T11:12:32.845695Z"
    }
   },
   "source": [
    "created, upload_link = client.files.create(file)\n",
    "created"
   ],
   "outputs": [
    {
     "data": {
      "text/plain": [
       "<cognite.client.data_classes.files.FileMetadata at 0x1d2f4da0c20>"
      ],
      "text/html": [
       "<div>\n",
       "<style scoped>\n",
       "    .dataframe tbody tr th:only-of-type {\n",
       "        vertical-align: middle;\n",
       "    }\n",
       "\n",
       "    .dataframe tbody tr th {\n",
       "        vertical-align: top;\n",
       "    }\n",
       "\n",
       "    .dataframe thead th {\n",
       "        text-align: right;\n",
       "    }\n",
       "</style>\n",
       "<table border=\"1\" class=\"dataframe\">\n",
       "  <thead>\n",
       "    <tr style=\"text-align: right;\">\n",
       "      <th></th>\n",
       "      <th>value</th>\n",
       "    </tr>\n",
       "  </thead>\n",
       "  <tbody>\n",
       "    <tr>\n",
       "      <th>external_id</th>\n",
       "      <td>file_case1_happy_path</td>\n",
       "    </tr>\n",
       "    <tr>\n",
       "      <th>name</th>\n",
       "      <td>File Case 1 Happy Path</td>\n",
       "    </tr>\n",
       "    <tr>\n",
       "      <th>mime_type</th>\n",
       "      <td>text/plain</td>\n",
       "    </tr>\n",
       "    <tr>\n",
       "      <th>labels</th>\n",
       "      <td>[]</td>\n",
       "    </tr>\n",
       "    <tr>\n",
       "      <th>id</th>\n",
       "      <td>5225636113511691</td>\n",
       "    </tr>\n",
       "    <tr>\n",
       "      <th>created_time</th>\n",
       "      <td>2025-07-28 11:12:33.607000</td>\n",
       "    </tr>\n",
       "    <tr>\n",
       "      <th>last_updated_time</th>\n",
       "      <td>2025-07-28 11:12:33.607000</td>\n",
       "    </tr>\n",
       "    <tr>\n",
       "      <th>uploaded</th>\n",
       "      <td>False</td>\n",
       "    </tr>\n",
       "  </tbody>\n",
       "</table>\n",
       "</div>"
      ]
     },
     "execution_count": 9,
     "metadata": {},
     "output_type": "execute_result"
    }
   ],
   "execution_count": 9
  },
  {
   "cell_type": "code",
   "id": "9dd90730a75435fd",
   "metadata": {
    "ExecuteTime": {
     "end_time": "2025-07-28T11:12:33.919112Z",
     "start_time": "2025-07-28T11:12:33.916831Z"
    }
   },
   "source": [
    "filecontent = b\"This is filecontent\""
   ],
   "outputs": [],
   "execution_count": 10
  },
  {
   "cell_type": "code",
   "id": "250932da6cd2f745",
   "metadata": {
    "ExecuteTime": {
     "end_time": "2025-07-28T11:12:34.458869Z",
     "start_time": "2025-07-28T11:12:34.306606Z"
    }
   },
   "source": [
    "client.files.upload_content_bytes(filecontent, external_id=created.external_id)"
   ],
   "outputs": [
    {
     "data": {
      "text/plain": [
       "<cognite.client.data_classes.files.FileMetadata at 0x1d2f4d6d310>"
      ],
      "text/html": [
       "<div>\n",
       "<style scoped>\n",
       "    .dataframe tbody tr th:only-of-type {\n",
       "        vertical-align: middle;\n",
       "    }\n",
       "\n",
       "    .dataframe tbody tr th {\n",
       "        vertical-align: top;\n",
       "    }\n",
       "\n",
       "    .dataframe thead th {\n",
       "        text-align: right;\n",
       "    }\n",
       "</style>\n",
       "<table border=\"1\" class=\"dataframe\">\n",
       "  <thead>\n",
       "    <tr style=\"text-align: right;\">\n",
       "      <th></th>\n",
       "      <th>value</th>\n",
       "    </tr>\n",
       "  </thead>\n",
       "  <tbody>\n",
       "    <tr>\n",
       "      <th>external_id</th>\n",
       "      <td>file_case1_happy_path</td>\n",
       "    </tr>\n",
       "    <tr>\n",
       "      <th>name</th>\n",
       "      <td>File Case 1 Happy Path</td>\n",
       "    </tr>\n",
       "    <tr>\n",
       "      <th>mime_type</th>\n",
       "      <td>text/plain</td>\n",
       "    </tr>\n",
       "    <tr>\n",
       "      <th>id</th>\n",
       "      <td>5225636113511691</td>\n",
       "    </tr>\n",
       "    <tr>\n",
       "      <th>created_time</th>\n",
       "      <td>2025-07-28 11:12:33.607000</td>\n",
       "    </tr>\n",
       "    <tr>\n",
       "      <th>last_updated_time</th>\n",
       "      <td>2025-07-28 11:12:33.607000</td>\n",
       "    </tr>\n",
       "    <tr>\n",
       "      <th>uploaded</th>\n",
       "      <td>False</td>\n",
       "    </tr>\n",
       "  </tbody>\n",
       "</table>\n",
       "</div>"
      ]
     },
     "execution_count": 11,
     "metadata": {},
     "output_type": "execute_result"
    }
   ],
   "execution_count": 11
  },
  {
   "metadata": {
    "ExecuteTime": {
     "end_time": "2025-07-28T11:12:36.123817Z",
     "start_time": "2025-07-28T11:12:36.079027Z"
    }
   },
   "cell_type": "code",
   "source": "retrieved = client.files.retrieve(external_id=created.external_id)",
   "id": "c7d1446820acd631",
   "outputs": [],
   "execution_count": 12
  },
  {
   "metadata": {
    "ExecuteTime": {
     "end_time": "2025-07-28T11:12:36.721012Z",
     "start_time": "2025-07-28T11:12:36.716834Z"
    }
   },
   "cell_type": "code",
   "source": "retrieved",
   "id": "d6498abaae800c7e",
   "outputs": [
    {
     "data": {
      "text/plain": [
       "<cognite_toolkit._cdf_tk.client.data_classes.extended_filemetadata.ExtendedFileMetadata at 0x1d2f4da0d70>"
      ],
      "text/html": [
       "<div>\n",
       "<style scoped>\n",
       "    .dataframe tbody tr th:only-of-type {\n",
       "        vertical-align: middle;\n",
       "    }\n",
       "\n",
       "    .dataframe tbody tr th {\n",
       "        vertical-align: top;\n",
       "    }\n",
       "\n",
       "    .dataframe thead th {\n",
       "        text-align: right;\n",
       "    }\n",
       "</style>\n",
       "<table border=\"1\" class=\"dataframe\">\n",
       "  <thead>\n",
       "    <tr style=\"text-align: right;\">\n",
       "      <th></th>\n",
       "      <th>value</th>\n",
       "    </tr>\n",
       "  </thead>\n",
       "  <tbody>\n",
       "    <tr>\n",
       "      <th>external_id</th>\n",
       "      <td>file_case1_happy_path</td>\n",
       "    </tr>\n",
       "    <tr>\n",
       "      <th>name</th>\n",
       "      <td>File Case 1 Happy Path</td>\n",
       "    </tr>\n",
       "    <tr>\n",
       "      <th>mime_type</th>\n",
       "      <td>text/plain</td>\n",
       "    </tr>\n",
       "    <tr>\n",
       "      <th>id</th>\n",
       "      <td>5225636113511691</td>\n",
       "    </tr>\n",
       "    <tr>\n",
       "      <th>created_time</th>\n",
       "      <td>2025-07-28 11:12:33.607000</td>\n",
       "    </tr>\n",
       "    <tr>\n",
       "      <th>last_updated_time</th>\n",
       "      <td>2025-07-28 11:12:33.607000</td>\n",
       "    </tr>\n",
       "    <tr>\n",
       "      <th>uploaded</th>\n",
       "      <td>True</td>\n",
       "    </tr>\n",
       "    <tr>\n",
       "      <th>uploaded_time</th>\n",
       "      <td>2025-07-28 11:12:35.087000</td>\n",
       "    </tr>\n",
       "  </tbody>\n",
       "</table>\n",
       "</div>"
      ]
     },
     "execution_count": 13,
     "metadata": {},
     "output_type": "execute_result"
    }
   ],
   "execution_count": 13
  },
  {
   "cell_type": "code",
   "id": "e311150317673f22",
   "metadata": {
    "ExecuteTime": {
     "end_time": "2025-07-28T11:12:38.171973Z",
     "start_time": "2025-07-28T11:12:38.064196Z"
    }
   },
   "source": [
    "try:\n",
    "    updated = client.files.set_pending_ids((SPACE, file.external_id), external_id=file.external_id)\n",
    "except CogniteException as e:\n",
    "    print(f\"\\033[91mError\\033[0m {e.code} {e.message!s}\")\n",
    "else:\n",
    "    display(updated)"
   ],
   "outputs": [
    {
     "data": {
      "text/plain": [
       "<cognite_toolkit._cdf_tk.client.data_classes.extended_filemetadata.ExtendedFileMetadata at 0x1d2f4d6d450>"
      ],
      "text/html": [
       "<div>\n",
       "<style scoped>\n",
       "    .dataframe tbody tr th:only-of-type {\n",
       "        vertical-align: middle;\n",
       "    }\n",
       "\n",
       "    .dataframe tbody tr th {\n",
       "        vertical-align: top;\n",
       "    }\n",
       "\n",
       "    .dataframe thead th {\n",
       "        text-align: right;\n",
       "    }\n",
       "</style>\n",
       "<table border=\"1\" class=\"dataframe\">\n",
       "  <thead>\n",
       "    <tr style=\"text-align: right;\">\n",
       "      <th></th>\n",
       "      <th>value</th>\n",
       "    </tr>\n",
       "  </thead>\n",
       "  <tbody>\n",
       "    <tr>\n",
       "      <th>external_id</th>\n",
       "      <td>file_case1_happy_path</td>\n",
       "    </tr>\n",
       "    <tr>\n",
       "      <th>name</th>\n",
       "      <td>File Case 1 Happy Path</td>\n",
       "    </tr>\n",
       "    <tr>\n",
       "      <th>mime_type</th>\n",
       "      <td>text/plain</td>\n",
       "    </tr>\n",
       "    <tr>\n",
       "      <th>id</th>\n",
       "      <td>5225636113511691</td>\n",
       "    </tr>\n",
       "    <tr>\n",
       "      <th>created_time</th>\n",
       "      <td>2025-07-28 11:12:33.607000</td>\n",
       "    </tr>\n",
       "    <tr>\n",
       "      <th>last_updated_time</th>\n",
       "      <td>2025-07-28 11:12:38.768000</td>\n",
       "    </tr>\n",
       "    <tr>\n",
       "      <th>uploaded</th>\n",
       "      <td>True</td>\n",
       "    </tr>\n",
       "    <tr>\n",
       "      <th>uploaded_time</th>\n",
       "      <td>2025-07-28 11:12:35.087000</td>\n",
       "    </tr>\n",
       "    <tr>\n",
       "      <th>pending_instance_id</th>\n",
       "      <td>{'space': 'sp_upgrade', 'external_id': 'file_c...</td>\n",
       "    </tr>\n",
       "  </tbody>\n",
       "</table>\n",
       "</div>"
      ]
     },
     "metadata": {},
     "output_type": "display_data"
    }
   ],
   "execution_count": 14
  },
  {
   "metadata": {
    "ExecuteTime": {
     "end_time": "2025-07-28T11:12:40.904290Z",
     "start_time": "2025-07-28T11:12:40.867938Z"
    }
   },
   "cell_type": "code",
   "source": [
    "retrieved2 = client.files.retrieve(external_id=created.external_id)\n",
    "retrieved2"
   ],
   "id": "62b29dd4fb4e57b9",
   "outputs": [
    {
     "data": {
      "text/plain": [
       "<cognite_toolkit._cdf_tk.client.data_classes.extended_filemetadata.ExtendedFileMetadata at 0x1d2f4d94d60>"
      ],
      "text/html": [
       "<div>\n",
       "<style scoped>\n",
       "    .dataframe tbody tr th:only-of-type {\n",
       "        vertical-align: middle;\n",
       "    }\n",
       "\n",
       "    .dataframe tbody tr th {\n",
       "        vertical-align: top;\n",
       "    }\n",
       "\n",
       "    .dataframe thead th {\n",
       "        text-align: right;\n",
       "    }\n",
       "</style>\n",
       "<table border=\"1\" class=\"dataframe\">\n",
       "  <thead>\n",
       "    <tr style=\"text-align: right;\">\n",
       "      <th></th>\n",
       "      <th>value</th>\n",
       "    </tr>\n",
       "  </thead>\n",
       "  <tbody>\n",
       "    <tr>\n",
       "      <th>external_id</th>\n",
       "      <td>file_case1_happy_path</td>\n",
       "    </tr>\n",
       "    <tr>\n",
       "      <th>name</th>\n",
       "      <td>File Case 1 Happy Path</td>\n",
       "    </tr>\n",
       "    <tr>\n",
       "      <th>mime_type</th>\n",
       "      <td>text/plain</td>\n",
       "    </tr>\n",
       "    <tr>\n",
       "      <th>id</th>\n",
       "      <td>5225636113511691</td>\n",
       "    </tr>\n",
       "    <tr>\n",
       "      <th>created_time</th>\n",
       "      <td>2025-07-28 11:12:33.607000</td>\n",
       "    </tr>\n",
       "    <tr>\n",
       "      <th>last_updated_time</th>\n",
       "      <td>2025-07-28 11:12:38.768000</td>\n",
       "    </tr>\n",
       "    <tr>\n",
       "      <th>uploaded</th>\n",
       "      <td>True</td>\n",
       "    </tr>\n",
       "    <tr>\n",
       "      <th>uploaded_time</th>\n",
       "      <td>2025-07-28 11:12:35.087000</td>\n",
       "    </tr>\n",
       "    <tr>\n",
       "      <th>pending_instance_id</th>\n",
       "      <td>{'space': 'sp_upgrade', 'external_id': 'file_c...</td>\n",
       "    </tr>\n",
       "  </tbody>\n",
       "</table>\n",
       "</div>"
      ]
     },
     "execution_count": 15,
     "metadata": {},
     "output_type": "execute_result"
    }
   ],
   "execution_count": 15
  },
  {
   "cell_type": "code",
   "id": "195a59de0167a36c",
   "metadata": {
    "ExecuteTime": {
     "end_time": "2025-07-28T11:12:47.508907Z",
     "start_time": "2025-07-28T11:12:47.506275Z"
    }
   },
   "source": [],
   "outputs": [],
   "execution_count": null
  },
  {
   "cell_type": "code",
   "id": "b3849ffa85788f0b",
   "metadata": {
    "ExecuteTime": {
     "end_time": "2025-07-28T11:12:48.363273Z",
     "start_time": "2025-07-28T11:12:47.868424Z"
    }
   },
   "source": [
    "created_dm = client.data_modeling.instances.apply(cognite_file).nodes\n",
    "created_dm"
   ],
   "outputs": [
    {
     "data": {
      "text/plain": [
       "NodeApplyResultList([<NodeApplyResult(space='sp_upgrade', external_id='file_case1_happy_path', version=1) at 0x1d2f4da0830>])"
      ],
      "text/html": [
       "<div>\n",
       "<style scoped>\n",
       "    .dataframe tbody tr th:only-of-type {\n",
       "        vertical-align: middle;\n",
       "    }\n",
       "\n",
       "    .dataframe tbody tr th {\n",
       "        vertical-align: top;\n",
       "    }\n",
       "\n",
       "    .dataframe thead th {\n",
       "        text-align: right;\n",
       "    }\n",
       "</style>\n",
       "<table border=\"1\" class=\"dataframe\">\n",
       "  <thead>\n",
       "    <tr style=\"text-align: right;\">\n",
       "      <th></th>\n",
       "      <th>space</th>\n",
       "      <th>instance_type</th>\n",
       "      <th>external_id</th>\n",
       "      <th>version</th>\n",
       "      <th>was_modified</th>\n",
       "      <th>last_updated_time</th>\n",
       "      <th>created_time</th>\n",
       "    </tr>\n",
       "  </thead>\n",
       "  <tbody>\n",
       "    <tr>\n",
       "      <th>0</th>\n",
       "      <td>sp_upgrade</td>\n",
       "      <td>node</td>\n",
       "      <td>file_case1_happy_path</td>\n",
       "      <td>1</td>\n",
       "      <td>True</td>\n",
       "      <td>2025-07-28 11:12:48.766</td>\n",
       "      <td>2025-07-28 11:12:48.766</td>\n",
       "    </tr>\n",
       "  </tbody>\n",
       "</table>\n",
       "</div>"
      ]
     },
     "execution_count": 16,
     "metadata": {},
     "output_type": "execute_result"
    }
   ],
   "execution_count": 16
  },
  {
   "metadata": {
    "ExecuteTime": {
     "end_time": "2025-07-28T11:12:49.925175Z",
     "start_time": "2025-07-28T11:12:49.888152Z"
    }
   },
   "cell_type": "code",
   "source": [
    "retrieved3 = client.files.retrieve(external_id=created.external_id)\n",
    "retrieved3"
   ],
   "id": "af6a3fd0f0fa66d9",
   "outputs": [
    {
     "data": {
      "text/plain": [
       "<cognite_toolkit._cdf_tk.client.data_classes.extended_filemetadata.ExtendedFileMetadata at 0x1d2f4d94fc0>"
      ],
      "text/html": [
       "<div>\n",
       "<style scoped>\n",
       "    .dataframe tbody tr th:only-of-type {\n",
       "        vertical-align: middle;\n",
       "    }\n",
       "\n",
       "    .dataframe tbody tr th {\n",
       "        vertical-align: top;\n",
       "    }\n",
       "\n",
       "    .dataframe thead th {\n",
       "        text-align: right;\n",
       "    }\n",
       "</style>\n",
       "<table border=\"1\" class=\"dataframe\">\n",
       "  <thead>\n",
       "    <tr style=\"text-align: right;\">\n",
       "      <th></th>\n",
       "      <th>value</th>\n",
       "    </tr>\n",
       "  </thead>\n",
       "  <tbody>\n",
       "    <tr>\n",
       "      <th>external_id</th>\n",
       "      <td>file_case1_happy_path</td>\n",
       "    </tr>\n",
       "    <tr>\n",
       "      <th>instance_id</th>\n",
       "      <td>{'space': 'sp_upgrade', 'external_id': 'file_c...</td>\n",
       "    </tr>\n",
       "    <tr>\n",
       "      <th>name</th>\n",
       "      <td>File Case 1 Happy Path</td>\n",
       "    </tr>\n",
       "    <tr>\n",
       "      <th>mime_type</th>\n",
       "      <td>text/plain</td>\n",
       "    </tr>\n",
       "    <tr>\n",
       "      <th>id</th>\n",
       "      <td>5225636113511691</td>\n",
       "    </tr>\n",
       "    <tr>\n",
       "      <th>created_time</th>\n",
       "      <td>2025-07-28 11:12:33.607000</td>\n",
       "    </tr>\n",
       "    <tr>\n",
       "      <th>last_updated_time</th>\n",
       "      <td>2025-07-28 11:12:38.768000</td>\n",
       "    </tr>\n",
       "    <tr>\n",
       "      <th>uploaded</th>\n",
       "      <td>True</td>\n",
       "    </tr>\n",
       "    <tr>\n",
       "      <th>uploaded_time</th>\n",
       "      <td>2025-07-28 11:12:35.087000</td>\n",
       "    </tr>\n",
       "    <tr>\n",
       "      <th>pending_instance_id</th>\n",
       "      <td>{'space': 'sp_upgrade', 'external_id': 'file_c...</td>\n",
       "    </tr>\n",
       "  </tbody>\n",
       "</table>\n",
       "</div>"
      ]
     },
     "execution_count": 17,
     "metadata": {},
     "output_type": "execute_result"
    }
   ],
   "execution_count": 17
  },
  {
   "metadata": {
    "ExecuteTime": {
     "end_time": "2025-07-28T11:12:53.507690Z",
     "start_time": "2025-07-28T11:12:53.505825Z"
    }
   },
   "cell_type": "code",
   "source": "",
   "id": "668758243da1eb0f",
   "outputs": [],
   "execution_count": null
  },
  {
   "metadata": {
    "ExecuteTime": {
     "end_time": "2025-07-28T11:12:53.745709Z",
     "start_time": "2025-07-28T11:12:53.744021Z"
    }
   },
   "cell_type": "code",
   "source": "",
   "id": "ed7e02d914b9e498",
   "outputs": [],
   "execution_count": null
  },
  {
   "cell_type": "code",
   "id": "585377e90c5121b1",
   "metadata": {
    "ExecuteTime": {
     "end_time": "2025-07-28T11:12:54.231841Z",
     "start_time": "2025-07-28T11:12:54.139235Z"
    }
   },
   "source": [
    "retrieved_content = client.files.download_bytes(instance_id=cognite_file.as_id())"
   ],
   "outputs": [],
   "execution_count": 18
  },
  {
   "cell_type": "code",
   "id": "afd8d241bc622229",
   "metadata": {
    "ExecuteTime": {
     "end_time": "2025-07-28T11:12:55.611483Z",
     "start_time": "2025-07-28T11:12:55.608575Z"
    }
   },
   "source": [
    "retrieved_content"
   ],
   "outputs": [
    {
     "data": {
      "text/plain": [
       "b'This is filecontent'"
      ]
     },
     "execution_count": 19,
     "metadata": {},
     "output_type": "execute_result"
    }
   ],
   "execution_count": 19
  },
  {
   "metadata": {
    "ExecuteTime": {
     "end_time": "2025-07-28T11:12:57.047235Z",
     "start_time": "2025-07-28T11:12:56.810484Z"
    }
   },
   "cell_type": "code",
   "source": "retrieved_node = client.data_modeling.instances.retrieve_nodes(cognite_file.as_id(), node_cls=CogniteFile)",
   "id": "71917741b9f2e7ef",
   "outputs": [],
   "execution_count": 20
  },
  {
   "metadata": {
    "ExecuteTime": {
     "end_time": "2025-07-28T11:12:57.177260Z",
     "start_time": "2025-07-28T11:12:57.166294Z"
    }
   },
   "cell_type": "code",
   "source": "retrieved_node",
   "id": "cbe82b976f8cb6d6",
   "outputs": [
    {
     "data": {
      "text/plain": [
       "<CogniteFile(space='sp_upgrade', external_id='file_case1_happy_path', version=2) at 0x1d2f4da0ec0>"
      ],
      "text/html": [
       "<div>\n",
       "<style scoped>\n",
       "    .dataframe tbody tr th:only-of-type {\n",
       "        vertical-align: middle;\n",
       "    }\n",
       "\n",
       "    .dataframe tbody tr th {\n",
       "        vertical-align: top;\n",
       "    }\n",
       "\n",
       "    .dataframe thead th {\n",
       "        text-align: right;\n",
       "    }\n",
       "</style>\n",
       "<table border=\"1\" class=\"dataframe\">\n",
       "  <thead>\n",
       "    <tr style=\"text-align: right;\">\n",
       "      <th></th>\n",
       "      <th>value</th>\n",
       "    </tr>\n",
       "  </thead>\n",
       "  <tbody>\n",
       "    <tr>\n",
       "      <th>space</th>\n",
       "      <td>sp_upgrade</td>\n",
       "    </tr>\n",
       "    <tr>\n",
       "      <th>external_id</th>\n",
       "      <td>file_case1_happy_path</td>\n",
       "    </tr>\n",
       "    <tr>\n",
       "      <th>version</th>\n",
       "      <td>2</td>\n",
       "    </tr>\n",
       "    <tr>\n",
       "      <th>last_updated_time</th>\n",
       "      <td>2025-07-28 11:12:52.242000</td>\n",
       "    </tr>\n",
       "    <tr>\n",
       "      <th>created_time</th>\n",
       "      <td>2025-07-28 11:12:48.766000</td>\n",
       "    </tr>\n",
       "    <tr>\n",
       "      <th>instance_type</th>\n",
       "      <td>node</td>\n",
       "    </tr>\n",
       "    <tr>\n",
       "      <th>name</th>\n",
       "      <td>File Case 1 Happy Path</td>\n",
       "    </tr>\n",
       "    <tr>\n",
       "      <th>description</th>\n",
       "      <td>None</td>\n",
       "    </tr>\n",
       "    <tr>\n",
       "      <th>tags</th>\n",
       "      <td>None</td>\n",
       "    </tr>\n",
       "    <tr>\n",
       "      <th>aliases</th>\n",
       "      <td>None</td>\n",
       "    </tr>\n",
       "    <tr>\n",
       "      <th>source_id</th>\n",
       "      <td>None</td>\n",
       "    </tr>\n",
       "    <tr>\n",
       "      <th>source_context</th>\n",
       "      <td>None</td>\n",
       "    </tr>\n",
       "    <tr>\n",
       "      <th>source</th>\n",
       "      <td>None</td>\n",
       "    </tr>\n",
       "    <tr>\n",
       "      <th>source_created_time</th>\n",
       "      <td>None</td>\n",
       "    </tr>\n",
       "    <tr>\n",
       "      <th>source_updated_time</th>\n",
       "      <td>None</td>\n",
       "    </tr>\n",
       "    <tr>\n",
       "      <th>source_created_user</th>\n",
       "      <td>None</td>\n",
       "    </tr>\n",
       "    <tr>\n",
       "      <th>source_updated_user</th>\n",
       "      <td>None</td>\n",
       "    </tr>\n",
       "    <tr>\n",
       "      <th>assets</th>\n",
       "      <td>None</td>\n",
       "    </tr>\n",
       "    <tr>\n",
       "      <th>mime_type</th>\n",
       "      <td>None</td>\n",
       "    </tr>\n",
       "    <tr>\n",
       "      <th>directory</th>\n",
       "      <td>None</td>\n",
       "    </tr>\n",
       "    <tr>\n",
       "      <th>is_uploaded</th>\n",
       "      <td>True</td>\n",
       "    </tr>\n",
       "    <tr>\n",
       "      <th>uploaded_time</th>\n",
       "      <td>2025-07-28T11:12:35.087+00:00</td>\n",
       "    </tr>\n",
       "    <tr>\n",
       "      <th>category</th>\n",
       "      <td>None</td>\n",
       "    </tr>\n",
       "  </tbody>\n",
       "</table>\n",
       "</div>"
      ]
     },
     "execution_count": 21,
     "metadata": {},
     "output_type": "execute_result"
    }
   ],
   "execution_count": 21
  },
  {
   "cell_type": "code",
   "id": "77545db675bd09b3",
   "metadata": {
    "ExecuteTime": {
     "end_time": "2025-07-28T11:12:59.890592Z",
     "start_time": "2025-07-28T11:12:59.887733Z"
    }
   },
   "source": "newcontent = b\"This is new filecontent\"",
   "outputs": [],
   "execution_count": 22
  },
  {
   "cell_type": "code",
   "id": "966a46b168005131",
   "metadata": {
    "ExecuteTime": {
     "end_time": "2025-07-28T11:13:01.664521Z",
     "start_time": "2025-07-28T11:13:01.297736Z"
    }
   },
   "source": [
    "client.files.upload_content_bytes(newcontent, instance_id=cognite_file.as_id())"
   ],
   "outputs": [
    {
     "data": {
      "text/plain": [
       "<cognite.client.data_classes.files.FileMetadata at 0x1d2f4d943e0>"
      ],
      "text/html": [
       "<div>\n",
       "<style scoped>\n",
       "    .dataframe tbody tr th:only-of-type {\n",
       "        vertical-align: middle;\n",
       "    }\n",
       "\n",
       "    .dataframe tbody tr th {\n",
       "        vertical-align: top;\n",
       "    }\n",
       "\n",
       "    .dataframe thead th {\n",
       "        text-align: right;\n",
       "    }\n",
       "</style>\n",
       "<table border=\"1\" class=\"dataframe\">\n",
       "  <thead>\n",
       "    <tr style=\"text-align: right;\">\n",
       "      <th></th>\n",
       "      <th>value</th>\n",
       "    </tr>\n",
       "  </thead>\n",
       "  <tbody>\n",
       "    <tr>\n",
       "      <th>external_id</th>\n",
       "      <td>file_case1_happy_path</td>\n",
       "    </tr>\n",
       "    <tr>\n",
       "      <th>instance_id</th>\n",
       "      <td>{'space': 'sp_upgrade', 'external_id': 'file_c...</td>\n",
       "    </tr>\n",
       "    <tr>\n",
       "      <th>name</th>\n",
       "      <td>File Case 1 Happy Path</td>\n",
       "    </tr>\n",
       "    <tr>\n",
       "      <th>mime_type</th>\n",
       "      <td>text/plain</td>\n",
       "    </tr>\n",
       "    <tr>\n",
       "      <th>id</th>\n",
       "      <td>5225636113511691</td>\n",
       "    </tr>\n",
       "    <tr>\n",
       "      <th>created_time</th>\n",
       "      <td>2025-07-28 11:12:33.607000</td>\n",
       "    </tr>\n",
       "    <tr>\n",
       "      <th>last_updated_time</th>\n",
       "      <td>2025-07-28 11:12:38.768000</td>\n",
       "    </tr>\n",
       "    <tr>\n",
       "      <th>uploaded</th>\n",
       "      <td>True</td>\n",
       "    </tr>\n",
       "    <tr>\n",
       "      <th>uploaded_time</th>\n",
       "      <td>2025-07-28 11:12:35.087000</td>\n",
       "    </tr>\n",
       "  </tbody>\n",
       "</table>\n",
       "</div>"
      ]
     },
     "execution_count": 23,
     "metadata": {},
     "output_type": "execute_result"
    }
   ],
   "execution_count": 23
  },
  {
   "cell_type": "code",
   "id": "401198d8fd3116bf",
   "metadata": {
    "ExecuteTime": {
     "end_time": "2025-07-28T11:13:05.599190Z",
     "start_time": "2025-07-28T11:13:05.511338Z"
    }
   },
   "source": [
    "retrieved_updatedcontent = client.files.download_bytes(external_id=file.external_id)"
   ],
   "outputs": [],
   "execution_count": 24
  },
  {
   "cell_type": "code",
   "id": "85120f5d2054209d",
   "metadata": {
    "ExecuteTime": {
     "end_time": "2025-07-28T11:13:05.767692Z",
     "start_time": "2025-07-28T11:13:05.765140Z"
    }
   },
   "source": [
    "retrieved_updatedcontent"
   ],
   "outputs": [
    {
     "data": {
      "text/plain": [
       "b'This is new filecontent'"
      ]
     },
     "execution_count": 25,
     "metadata": {},
     "output_type": "execute_result"
    }
   ],
   "execution_count": 25
  },
  {
   "cell_type": "code",
   "id": "615c45463415fbf9",
   "metadata": {
    "ExecuteTime": {
     "end_time": "2025-07-28T11:13:06.804909Z",
     "start_time": "2025-07-28T11:13:06.745344Z"
    }
   },
   "source": [
    "retrieved_file = client.files.retrieve(external_id=file.external_id)\n",
    "retrieved_file"
   ],
   "outputs": [
    {
     "data": {
      "text/plain": [
       "<cognite_toolkit._cdf_tk.client.data_classes.extended_filemetadata.ExtendedFileMetadata at 0x1d2f4c7e0f0>"
      ],
      "text/html": [
       "<div>\n",
       "<style scoped>\n",
       "    .dataframe tbody tr th:only-of-type {\n",
       "        vertical-align: middle;\n",
       "    }\n",
       "\n",
       "    .dataframe tbody tr th {\n",
       "        vertical-align: top;\n",
       "    }\n",
       "\n",
       "    .dataframe thead th {\n",
       "        text-align: right;\n",
       "    }\n",
       "</style>\n",
       "<table border=\"1\" class=\"dataframe\">\n",
       "  <thead>\n",
       "    <tr style=\"text-align: right;\">\n",
       "      <th></th>\n",
       "      <th>value</th>\n",
       "    </tr>\n",
       "  </thead>\n",
       "  <tbody>\n",
       "    <tr>\n",
       "      <th>external_id</th>\n",
       "      <td>file_case1_happy_path</td>\n",
       "    </tr>\n",
       "    <tr>\n",
       "      <th>instance_id</th>\n",
       "      <td>{'space': 'sp_upgrade', 'external_id': 'file_c...</td>\n",
       "    </tr>\n",
       "    <tr>\n",
       "      <th>name</th>\n",
       "      <td>File Case 1 Happy Path</td>\n",
       "    </tr>\n",
       "    <tr>\n",
       "      <th>mime_type</th>\n",
       "      <td>text/plain</td>\n",
       "    </tr>\n",
       "    <tr>\n",
       "      <th>id</th>\n",
       "      <td>5225636113511691</td>\n",
       "    </tr>\n",
       "    <tr>\n",
       "      <th>created_time</th>\n",
       "      <td>2025-07-28 11:12:33.607000</td>\n",
       "    </tr>\n",
       "    <tr>\n",
       "      <th>last_updated_time</th>\n",
       "      <td>2025-07-28 11:12:38.768000</td>\n",
       "    </tr>\n",
       "    <tr>\n",
       "      <th>uploaded</th>\n",
       "      <td>True</td>\n",
       "    </tr>\n",
       "    <tr>\n",
       "      <th>uploaded_time</th>\n",
       "      <td>2025-07-28 11:13:02.301000</td>\n",
       "    </tr>\n",
       "    <tr>\n",
       "      <th>pending_instance_id</th>\n",
       "      <td>{'space': 'sp_upgrade', 'external_id': 'file_c...</td>\n",
       "    </tr>\n",
       "  </tbody>\n",
       "</table>\n",
       "</div>"
      ]
     },
     "execution_count": 26,
     "metadata": {},
     "output_type": "execute_result"
    }
   ],
   "execution_count": 26
  },
  {
   "cell_type": "code",
   "id": "effcedc30d2c9b8b",
   "metadata": {
    "ExecuteTime": {
     "end_time": "2025-07-28T11:13:07.734394Z",
     "start_time": "2025-07-28T11:13:07.571810Z"
    }
   },
   "source": [
    "retrieved_cognite_file = client.data_modeling.instances.retrieve_nodes(cognite_file.as_id(), node_cls=CogniteFile)"
   ],
   "outputs": [],
   "execution_count": 27
  },
  {
   "cell_type": "code",
   "id": "58029976b3f34c7d",
   "metadata": {
    "ExecuteTime": {
     "end_time": "2025-07-28T11:13:08.923588Z",
     "start_time": "2025-07-28T11:13:08.920341Z"
    }
   },
   "source": [
    "retrieved_cognite_file.dump()"
   ],
   "outputs": [
    {
     "data": {
      "text/plain": [
       "{'space': 'sp_upgrade',\n",
       " 'externalId': 'file_case1_happy_path',\n",
       " 'version': 3,\n",
       " 'lastUpdatedTime': 1753701182749,\n",
       " 'createdTime': 1753701168766,\n",
       " 'instanceType': 'node',\n",
       " 'properties': {'cdf_cdm': {'CogniteFile/v1': {'name': 'File Case 1 Happy Path',\n",
       "    'description': None,\n",
       "    'tags': None,\n",
       "    'aliases': None,\n",
       "    'sourceId': None,\n",
       "    'sourceContext': None,\n",
       "    'source': None,\n",
       "    'sourceCreatedTime': None,\n",
       "    'sourceUpdatedTime': None,\n",
       "    'sourceCreatedUser': None,\n",
       "    'sourceUpdatedUser': None,\n",
       "    'assets': None,\n",
       "    'mimeType': None,\n",
       "    'directory': None,\n",
       "    'isUploaded': True,\n",
       "    'uploadedTime': '2025-07-28T11:13:02.301+00:00',\n",
       "    'category': None}}}}"
      ]
     },
     "execution_count": 28,
     "metadata": {},
     "output_type": "execute_result"
    }
   ],
   "execution_count": 28
  },
  {
   "cell_type": "code",
   "execution_count": null,
   "id": "c57c26dc7d51c67a",
   "metadata": {},
   "outputs": [],
   "source": []
  }
 ],
 "metadata": {
  "kernelspec": {
   "display_name": "Python 3 (ipykernel)",
   "language": "python",
   "name": "python3"
  },
  "language_info": {
   "codemirror_mode": {
    "name": "ipython",
    "version": 3
   },
   "file_extension": ".py",
   "mimetype": "text/x-python",
   "name": "python",
   "nbconvert_exporter": "python",
   "pygments_lexer": "ipython3",
   "version": "3.12.1"
  }
 },
 "nbformat": 4,
 "nbformat_minor": 5
}
