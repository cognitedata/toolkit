{
 "cells": [
  {
   "cell_type": "code",
   "execution_count": 1,
   "id": "initial_id",
   "metadata": {
    "ExecuteTime": {
     "end_time": "2025-07-10T05:29:42.943218Z",
     "start_time": "2025-07-10T05:29:40.965529Z"
    },
    "collapsed": true,
    "jupyter": {
     "outputs_hidden": true
    }
   },
   "outputs": [],
   "source": [
    "from cognite.client.exceptions import CogniteException\n",
    "\n",
    "from tests.auth_utils import get_toolkit_client"
   ]
  },
  {
   "cell_type": "code",
   "execution_count": 23,
   "id": "d1876c38f818028b",
   "metadata": {
    "ExecuteTime": {
     "end_time": "2025-07-10T06:53:47.412175Z",
     "start_time": "2025-07-10T06:53:47.408190Z"
    }
   },
   "outputs": [],
   "source": [
    "from cognite.client.data_classes import FileMetadataWrite\n",
    "from cognite.client.data_classes.data_modeling import SpaceApply\n",
    "from cognite.client.data_classes.data_modeling.cdm.v1 import CogniteFile, CogniteFileApply"
   ]
  },
  {
   "cell_type": "code",
   "execution_count": 3,
   "id": "165337532a76f8ea",
   "metadata": {
    "ExecuteTime": {
     "end_time": "2025-07-10T05:29:46.832982Z",
     "start_time": "2025-07-10T05:29:46.792992Z"
    }
   },
   "outputs": [
    {
     "name": "stdout",
     "output_type": "stream",
     "text": [
      "Found dev-cluster.env file in repository root. Loaded variables from dev-cluster.env file.\n"
     ]
    }
   ],
   "source": [
    "client = get_toolkit_client(\"dev-cluster.env\", enable_set_pending_ids=True)"
   ]
  },
  {
   "cell_type": "code",
   "execution_count": 4,
   "id": "b9ac07f6123b4180",
   "metadata": {
    "ExecuteTime": {
     "end_time": "2025-07-10T05:29:47.332190Z",
     "start_time": "2025-07-10T05:29:47.328449Z"
    }
   },
   "outputs": [],
   "source": [
    "SPACE = \"sp_upgrade\""
   ]
  },
  {
   "cell_type": "code",
   "execution_count": 5,
   "id": "e422c5b2d8c7d8fe",
   "metadata": {
    "ExecuteTime": {
     "end_time": "2025-07-10T05:29:49.625043Z",
     "start_time": "2025-07-10T05:29:48.753096Z"
    }
   },
   "outputs": [
    {
     "data": {
      "text/html": [
       "<div>\n",
       "<style scoped>\n",
       "    .dataframe tbody tr th:only-of-type {\n",
       "        vertical-align: middle;\n",
       "    }\n",
       "\n",
       "    .dataframe tbody tr th {\n",
       "        vertical-align: top;\n",
       "    }\n",
       "\n",
       "    .dataframe thead th {\n",
       "        text-align: right;\n",
       "    }\n",
       "</style>\n",
       "<table border=\"1\" class=\"dataframe\">\n",
       "  <thead>\n",
       "    <tr style=\"text-align: right;\">\n",
       "      <th></th>\n",
       "      <th>value</th>\n",
       "    </tr>\n",
       "  </thead>\n",
       "  <tbody>\n",
       "    <tr>\n",
       "      <th>space</th>\n",
       "      <td>sp_upgrade</td>\n",
       "    </tr>\n",
       "    <tr>\n",
       "      <th>is_global</th>\n",
       "      <td>False</td>\n",
       "    </tr>\n",
       "    <tr>\n",
       "      <th>last_updated_time</th>\n",
       "      <td>2025-07-04 09:38:40.297000</td>\n",
       "    </tr>\n",
       "    <tr>\n",
       "      <th>created_time</th>\n",
       "      <td>2025-07-04 09:38:40.297000</td>\n",
       "    </tr>\n",
       "  </tbody>\n",
       "</table>\n",
       "</div>"
      ],
      "text/plain": [
       "<Space(space='sp_upgrade') at 0x1ff8159e990>"
      ]
     },
     "execution_count": 5,
     "metadata": {},
     "output_type": "execute_result"
    }
   ],
   "source": [
    "client.data_modeling.spaces.apply(SpaceApply(space=SPACE))"
   ]
  },
  {
   "cell_type": "markdown",
   "id": "95f3efc7e7a190f9",
   "metadata": {},
   "source": [
    "# Happy-Path"
   ]
  },
  {
   "cell_type": "code",
   "execution_count": 6,
   "id": "6ec771318a5c3895",
   "metadata": {
    "ExecuteTime": {
     "end_time": "2025-07-10T05:29:51.719824Z",
     "start_time": "2025-07-10T05:29:51.716067Z"
    }
   },
   "outputs": [],
   "source": [
    "file = FileMetadataWrite(\n",
    "    external_id=\"file_case1_happy_path\",\n",
    "    name=\"File Case 1 Happy Path\",\n",
    "    mime_type=\"text/plain\",\n",
    ")"
   ]
  },
  {
   "cell_type": "code",
   "execution_count": 7,
   "id": "f5f7409d25dfd06",
   "metadata": {
    "ExecuteTime": {
     "end_time": "2025-07-10T05:29:55.238650Z",
     "start_time": "2025-07-10T05:29:55.109339Z"
    }
   },
   "outputs": [],
   "source": [
    "# Ensure the file does not exist before running the test\n",
    "client.files.delete(external_id=file.external_id, ignore_unknown_ids=True)"
   ]
  },
  {
   "cell_type": "code",
   "execution_count": 8,
   "id": "c0a8f52a8d2f4064",
   "metadata": {
    "ExecuteTime": {
     "end_time": "2025-07-10T05:29:56.830237Z",
     "start_time": "2025-07-10T05:29:56.730398Z"
    }
   },
   "outputs": [
    {
     "data": {
      "text/html": [
       "<div>\n",
       "<style scoped>\n",
       "    .dataframe tbody tr th:only-of-type {\n",
       "        vertical-align: middle;\n",
       "    }\n",
       "\n",
       "    .dataframe tbody tr th {\n",
       "        vertical-align: top;\n",
       "    }\n",
       "\n",
       "    .dataframe thead th {\n",
       "        text-align: right;\n",
       "    }\n",
       "</style>\n",
       "<table border=\"1\" class=\"dataframe\">\n",
       "  <thead>\n",
       "    <tr style=\"text-align: right;\">\n",
       "      <th></th>\n",
       "      <th>value</th>\n",
       "    </tr>\n",
       "  </thead>\n",
       "  <tbody>\n",
       "    <tr>\n",
       "      <th>external_id</th>\n",
       "      <td>file_case1_happy_path</td>\n",
       "    </tr>\n",
       "    <tr>\n",
       "      <th>name</th>\n",
       "      <td>File Case 1 Happy Path</td>\n",
       "    </tr>\n",
       "    <tr>\n",
       "      <th>mime_type</th>\n",
       "      <td>text/plain</td>\n",
       "    </tr>\n",
       "    <tr>\n",
       "      <th>labels</th>\n",
       "      <td>[]</td>\n",
       "    </tr>\n",
       "    <tr>\n",
       "      <th>id</th>\n",
       "      <td>1956983605665849</td>\n",
       "    </tr>\n",
       "    <tr>\n",
       "      <th>created_time</th>\n",
       "      <td>2025-07-10 05:29:57.755000</td>\n",
       "    </tr>\n",
       "    <tr>\n",
       "      <th>last_updated_time</th>\n",
       "      <td>2025-07-10 05:29:57.755000</td>\n",
       "    </tr>\n",
       "    <tr>\n",
       "      <th>uploaded</th>\n",
       "      <td>False</td>\n",
       "    </tr>\n",
       "  </tbody>\n",
       "</table>\n",
       "</div>"
      ],
      "text/plain": [
       "<cognite.client.data_classes.files.FileMetadata at 0x1ff81701e80>"
      ]
     },
     "execution_count": 8,
     "metadata": {},
     "output_type": "execute_result"
    }
   ],
   "source": [
    "created, upload_link = client.files.create(file)\n",
    "created"
   ]
  },
  {
   "cell_type": "code",
   "execution_count": 9,
   "id": "9dd90730a75435fd",
   "metadata": {
    "ExecuteTime": {
     "end_time": "2025-07-10T05:29:59.065143Z",
     "start_time": "2025-07-10T05:29:59.062611Z"
    }
   },
   "outputs": [],
   "source": [
    "filecontent = b\"This is filecontent\""
   ]
  },
  {
   "cell_type": "code",
   "execution_count": 10,
   "id": "250932da6cd2f745",
   "metadata": {
    "ExecuteTime": {
     "end_time": "2025-07-10T05:30:00.415439Z",
     "start_time": "2025-07-10T05:30:00.334084Z"
    }
   },
   "outputs": [
    {
     "data": {
      "text/html": [
       "<div>\n",
       "<style scoped>\n",
       "    .dataframe tbody tr th:only-of-type {\n",
       "        vertical-align: middle;\n",
       "    }\n",
       "\n",
       "    .dataframe tbody tr th {\n",
       "        vertical-align: top;\n",
       "    }\n",
       "\n",
       "    .dataframe thead th {\n",
       "        text-align: right;\n",
       "    }\n",
       "</style>\n",
       "<table border=\"1\" class=\"dataframe\">\n",
       "  <thead>\n",
       "    <tr style=\"text-align: right;\">\n",
       "      <th></th>\n",
       "      <th>value</th>\n",
       "    </tr>\n",
       "  </thead>\n",
       "  <tbody>\n",
       "    <tr>\n",
       "      <th>external_id</th>\n",
       "      <td>file_case1_happy_path</td>\n",
       "    </tr>\n",
       "    <tr>\n",
       "      <th>name</th>\n",
       "      <td>File Case 1 Happy Path</td>\n",
       "    </tr>\n",
       "    <tr>\n",
       "      <th>mime_type</th>\n",
       "      <td>text/plain</td>\n",
       "    </tr>\n",
       "    <tr>\n",
       "      <th>id</th>\n",
       "      <td>1956983605665849</td>\n",
       "    </tr>\n",
       "    <tr>\n",
       "      <th>created_time</th>\n",
       "      <td>2025-07-10 05:29:57.755000</td>\n",
       "    </tr>\n",
       "    <tr>\n",
       "      <th>last_updated_time</th>\n",
       "      <td>2025-07-10 05:29:57.755000</td>\n",
       "    </tr>\n",
       "    <tr>\n",
       "      <th>uploaded</th>\n",
       "      <td>False</td>\n",
       "    </tr>\n",
       "  </tbody>\n",
       "</table>\n",
       "</div>"
      ],
      "text/plain": [
       "<cognite.client.data_classes.files.FileMetadata at 0x1ff8276bb60>"
      ]
     },
     "execution_count": 10,
     "metadata": {},
     "output_type": "execute_result"
    }
   ],
   "source": [
    "client.files.upload_content_bytes(filecontent, external_id=created.external_id)"
   ]
  },
  {
   "cell_type": "code",
   "execution_count": 11,
   "id": "e311150317673f22",
   "metadata": {
    "ExecuteTime": {
     "end_time": "2025-07-10T05:30:03.763490Z",
     "start_time": "2025-07-10T05:30:03.718757Z"
    }
   },
   "outputs": [],
   "source": [
    "try:\n",
    "    updated = client.files.set_pending_ids((SPACE, file.external_id), external_id=file.external_id)\n",
    "except CogniteException as e:\n",
    "    print(f\"\\033[91mError\\033[0m {e.code} {e.message!s}\")\n",
    "else:\n",
    "    updated"
   ]
  },
  {
   "cell_type": "code",
   "execution_count": 12,
   "id": "195a59de0167a36c",
   "metadata": {
    "ExecuteTime": {
     "end_time": "2025-07-10T05:30:06.843089Z",
     "start_time": "2025-07-10T05:30:06.839548Z"
    }
   },
   "outputs": [],
   "source": [
    "cognite_file = CogniteFileApply(\n",
    "    space=SPACE,\n",
    "    external_id=file.external_id,\n",
    "    name=\"Case 1 Happy Path\",\n",
    ")"
   ]
  },
  {
   "cell_type": "code",
   "execution_count": 13,
   "id": "b3849ffa85788f0b",
   "metadata": {
    "ExecuteTime": {
     "end_time": "2025-07-10T05:30:10.715261Z",
     "start_time": "2025-07-10T05:30:10.430594Z"
    }
   },
   "outputs": [
    {
     "data": {
      "text/html": [
       "<div>\n",
       "<style scoped>\n",
       "    .dataframe tbody tr th:only-of-type {\n",
       "        vertical-align: middle;\n",
       "    }\n",
       "\n",
       "    .dataframe tbody tr th {\n",
       "        vertical-align: top;\n",
       "    }\n",
       "\n",
       "    .dataframe thead th {\n",
       "        text-align: right;\n",
       "    }\n",
       "</style>\n",
       "<table border=\"1\" class=\"dataframe\">\n",
       "  <thead>\n",
       "    <tr style=\"text-align: right;\">\n",
       "      <th></th>\n",
       "      <th>space</th>\n",
       "      <th>instance_type</th>\n",
       "      <th>external_id</th>\n",
       "      <th>version</th>\n",
       "      <th>was_modified</th>\n",
       "      <th>last_updated_time</th>\n",
       "      <th>created_time</th>\n",
       "    </tr>\n",
       "  </thead>\n",
       "  <tbody>\n",
       "    <tr>\n",
       "      <th>0</th>\n",
       "      <td>sp_upgrade</td>\n",
       "      <td>node</td>\n",
       "      <td>file_case1_happy_path</td>\n",
       "      <td>1</td>\n",
       "      <td>True</td>\n",
       "      <td>2025-07-10 05:30:11.516</td>\n",
       "      <td>2025-07-10 05:30:11.516</td>\n",
       "    </tr>\n",
       "  </tbody>\n",
       "</table>\n",
       "</div>"
      ],
      "text/plain": [
       "NodeApplyResultList([<NodeApplyResult(space='sp_upgrade', external_id='file_case1_happy_path', version=1) at 0x1ff816fac90>])"
      ]
     },
     "execution_count": 13,
     "metadata": {},
     "output_type": "execute_result"
    }
   ],
   "source": [
    "created_dm = client.data_modeling.instances.apply(cognite_file).nodes\n",
    "created_dm"
   ]
  },
  {
   "cell_type": "code",
   "execution_count": 14,
   "id": "585377e90c5121b1",
   "metadata": {
    "ExecuteTime": {
     "end_time": "2025-07-10T05:30:13.239996Z",
     "start_time": "2025-07-10T05:30:13.161183Z"
    }
   },
   "outputs": [],
   "source": [
    "retrieved_content = client.files.download_bytes(instance_id=cognite_file.as_id())"
   ]
  },
  {
   "cell_type": "code",
   "execution_count": 15,
   "id": "afd8d241bc622229",
   "metadata": {
    "ExecuteTime": {
     "end_time": "2025-07-10T05:30:13.903781Z",
     "start_time": "2025-07-10T05:30:13.899232Z"
    }
   },
   "outputs": [
    {
     "data": {
      "text/plain": [
       "b'This is filecontent'"
      ]
     },
     "execution_count": 15,
     "metadata": {},
     "output_type": "execute_result"
    }
   ],
   "source": [
    "retrieved_content"
   ]
  },
  {
   "cell_type": "code",
   "execution_count": 16,
   "id": "77545db675bd09b3",
   "metadata": {
    "ExecuteTime": {
     "end_time": "2025-07-10T05:30:16.278423Z",
     "start_time": "2025-07-10T05:30:16.274702Z"
    }
   },
   "outputs": [],
   "source": [
    "newcontent = b\"This is new filecontent\""
   ]
  },
  {
   "cell_type": "code",
   "execution_count": 17,
   "id": "966a46b168005131",
   "metadata": {
    "ExecuteTime": {
     "end_time": "2025-07-10T05:30:18.613192Z",
     "start_time": "2025-07-10T05:30:18.463693Z"
    }
   },
   "outputs": [
    {
     "data": {
      "text/html": [
       "<div>\n",
       "<style scoped>\n",
       "    .dataframe tbody tr th:only-of-type {\n",
       "        vertical-align: middle;\n",
       "    }\n",
       "\n",
       "    .dataframe tbody tr th {\n",
       "        vertical-align: top;\n",
       "    }\n",
       "\n",
       "    .dataframe thead th {\n",
       "        text-align: right;\n",
       "    }\n",
       "</style>\n",
       "<table border=\"1\" class=\"dataframe\">\n",
       "  <thead>\n",
       "    <tr style=\"text-align: right;\">\n",
       "      <th></th>\n",
       "      <th>value</th>\n",
       "    </tr>\n",
       "  </thead>\n",
       "  <tbody>\n",
       "    <tr>\n",
       "      <th>external_id</th>\n",
       "      <td>file_case1_happy_path</td>\n",
       "    </tr>\n",
       "    <tr>\n",
       "      <th>instance_id</th>\n",
       "      <td>{'space': 'sp_upgrade', 'external_id': 'file_c...</td>\n",
       "    </tr>\n",
       "    <tr>\n",
       "      <th>name</th>\n",
       "      <td>File Case 1 Happy Path</td>\n",
       "    </tr>\n",
       "    <tr>\n",
       "      <th>mime_type</th>\n",
       "      <td>text/plain</td>\n",
       "    </tr>\n",
       "    <tr>\n",
       "      <th>id</th>\n",
       "      <td>1956983605665849</td>\n",
       "    </tr>\n",
       "    <tr>\n",
       "      <th>created_time</th>\n",
       "      <td>2025-07-10 05:29:57.755000</td>\n",
       "    </tr>\n",
       "    <tr>\n",
       "      <th>last_updated_time</th>\n",
       "      <td>2025-07-10 05:30:04.731000</td>\n",
       "    </tr>\n",
       "    <tr>\n",
       "      <th>uploaded</th>\n",
       "      <td>True</td>\n",
       "    </tr>\n",
       "    <tr>\n",
       "      <th>uploaded_time</th>\n",
       "      <td>2025-07-10 05:30:01.385000</td>\n",
       "    </tr>\n",
       "  </tbody>\n",
       "</table>\n",
       "</div>"
      ],
      "text/plain": [
       "<cognite.client.data_classes.files.FileMetadata at 0x1ff827686b0>"
      ]
     },
     "execution_count": 17,
     "metadata": {},
     "output_type": "execute_result"
    }
   ],
   "source": [
    "client.files.upload_content_bytes(newcontent, instance_id=cognite_file.as_id())"
   ]
  },
  {
   "cell_type": "code",
   "execution_count": 18,
   "id": "401198d8fd3116bf",
   "metadata": {
    "ExecuteTime": {
     "end_time": "2025-07-10T05:30:22.431120Z",
     "start_time": "2025-07-10T05:30:22.363296Z"
    }
   },
   "outputs": [],
   "source": [
    "retrieved_updatedcontent = client.files.download_bytes(external_id=file.external_id)"
   ]
  },
  {
   "cell_type": "code",
   "execution_count": 19,
   "id": "85120f5d2054209d",
   "metadata": {
    "ExecuteTime": {
     "end_time": "2025-07-10T05:30:22.799937Z",
     "start_time": "2025-07-10T05:30:22.795433Z"
    }
   },
   "outputs": [
    {
     "data": {
      "text/plain": [
       "b'This is new filecontent'"
      ]
     },
     "execution_count": 19,
     "metadata": {},
     "output_type": "execute_result"
    }
   ],
   "source": [
    "retrieved_updatedcontent"
   ]
  },
  {
   "cell_type": "code",
   "execution_count": 20,
   "id": "615c45463415fbf9",
   "metadata": {
    "ExecuteTime": {
     "end_time": "2025-07-10T05:30:25.577106Z",
     "start_time": "2025-07-10T05:30:25.533085Z"
    }
   },
   "outputs": [
    {
     "data": {
      "text/html": [
       "<div>\n",
       "<style scoped>\n",
       "    .dataframe tbody tr th:only-of-type {\n",
       "        vertical-align: middle;\n",
       "    }\n",
       "\n",
       "    .dataframe tbody tr th {\n",
       "        vertical-align: top;\n",
       "    }\n",
       "\n",
       "    .dataframe thead th {\n",
       "        text-align: right;\n",
       "    }\n",
       "</style>\n",
       "<table border=\"1\" class=\"dataframe\">\n",
       "  <thead>\n",
       "    <tr style=\"text-align: right;\">\n",
       "      <th></th>\n",
       "      <th>value</th>\n",
       "    </tr>\n",
       "  </thead>\n",
       "  <tbody>\n",
       "    <tr>\n",
       "      <th>external_id</th>\n",
       "      <td>file_case1_happy_path</td>\n",
       "    </tr>\n",
       "    <tr>\n",
       "      <th>instance_id</th>\n",
       "      <td>{'space': 'sp_upgrade', 'external_id': 'file_c...</td>\n",
       "    </tr>\n",
       "    <tr>\n",
       "      <th>name</th>\n",
       "      <td>File Case 1 Happy Path</td>\n",
       "    </tr>\n",
       "    <tr>\n",
       "      <th>mime_type</th>\n",
       "      <td>text/plain</td>\n",
       "    </tr>\n",
       "    <tr>\n",
       "      <th>id</th>\n",
       "      <td>1956983605665849</td>\n",
       "    </tr>\n",
       "    <tr>\n",
       "      <th>created_time</th>\n",
       "      <td>2025-07-10 05:29:57.755000</td>\n",
       "    </tr>\n",
       "    <tr>\n",
       "      <th>last_updated_time</th>\n",
       "      <td>2025-07-10 05:30:04.731000</td>\n",
       "    </tr>\n",
       "    <tr>\n",
       "      <th>uploaded</th>\n",
       "      <td>True</td>\n",
       "    </tr>\n",
       "    <tr>\n",
       "      <th>uploaded_time</th>\n",
       "      <td>2025-07-10 05:30:19.579000</td>\n",
       "    </tr>\n",
       "    <tr>\n",
       "      <th>pending_instance_id</th>\n",
       "      <td>{'space': 'sp_upgrade', 'external_id': 'file_c...</td>\n",
       "    </tr>\n",
       "  </tbody>\n",
       "</table>\n",
       "</div>"
      ],
      "text/plain": [
       "<cognite_toolkit._cdf_tk.client.data_classes.extended_filemetdata.ExtendedFileMetadata at 0x1ff8276ac60>"
      ]
     },
     "execution_count": 20,
     "metadata": {},
     "output_type": "execute_result"
    }
   ],
   "source": [
    "retrieved_file = client.files.retrieve(external_id=file.external_id)\n",
    "retrieved_file"
   ]
  },
  {
   "cell_type": "code",
   "execution_count": 24,
   "id": "effcedc30d2c9b8b",
   "metadata": {
    "ExecuteTime": {
     "end_time": "2025-07-10T06:53:51.174205Z",
     "start_time": "2025-07-10T06:53:50.470193Z"
    }
   },
   "outputs": [],
   "source": [
    "retrieved_cognite_file = client.data_modeling.instances.retrieve_nodes(cognite_file.as_id(), node_cls=CogniteFile)"
   ]
  },
  {
   "cell_type": "code",
   "execution_count": 25,
   "id": "58029976b3f34c7d",
   "metadata": {
    "ExecuteTime": {
     "end_time": "2025-07-10T06:53:55.092227Z",
     "start_time": "2025-07-10T06:53:55.087030Z"
    }
   },
   "outputs": [
    {
     "data": {
      "text/plain": [
       "{'space': 'sp_upgrade',\n",
       " 'externalId': 'file_case1_happy_path',\n",
       " 'version': 2,\n",
       " 'lastUpdatedTime': 1752125420023,\n",
       " 'createdTime': 1752125411516,\n",
       " 'instanceType': 'node',\n",
       " 'properties': {'cdf_cdm': {'CogniteFile/v1': {'name': 'Case 1 Happy Path',\n",
       "    'description': None,\n",
       "    'tags': None,\n",
       "    'aliases': None,\n",
       "    'sourceId': None,\n",
       "    'sourceContext': None,\n",
       "    'source': None,\n",
       "    'sourceCreatedTime': None,\n",
       "    'sourceUpdatedTime': None,\n",
       "    'sourceCreatedUser': None,\n",
       "    'sourceUpdatedUser': None,\n",
       "    'assets': None,\n",
       "    'mimeType': None,\n",
       "    'directory': None,\n",
       "    'isUploaded': True,\n",
       "    'uploadedTime': '2025-07-10T05:30:19.579+00:00',\n",
       "    'category': None}}}}"
      ]
     },
     "execution_count": 25,
     "metadata": {},
     "output_type": "execute_result"
    }
   ],
   "source": [
    "retrieved_cognite_file.dump()"
   ]
  },
  {
   "cell_type": "code",
   "execution_count": null,
   "id": "c57c26dc7d51c67a",
   "metadata": {},
   "outputs": [],
   "source": []
  }
 ],
 "metadata": {
  "kernelspec": {
   "display_name": "Python 3 (ipykernel)",
   "language": "python",
   "name": "python3"
  },
  "language_info": {
   "codemirror_mode": {
    "name": "ipython",
    "version": 3
   },
   "file_extension": ".py",
   "mimetype": "text/x-python",
   "name": "python",
   "nbconvert_exporter": "python",
   "pygments_lexer": "ipython3",
   "version": "3.12.1"
  }
 },
 "nbformat": 4,
 "nbformat_minor": 5
}
